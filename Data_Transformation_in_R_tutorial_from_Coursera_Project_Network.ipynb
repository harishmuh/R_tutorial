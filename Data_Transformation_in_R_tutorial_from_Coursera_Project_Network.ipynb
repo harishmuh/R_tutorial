{
  "nbformat": 4,
  "nbformat_minor": 0,
  "metadata": {
    "colab": {
      "provenance": [],
      "toc_visible": true,
      "authorship_tag": "ABX9TyN793mdcClFNlczfkm4Xnof",
      "include_colab_link": true
    },
    "kernelspec": {
      "name": "ir",
      "display_name": "R"
    },
    "language_info": {
      "name": "R"
    }
  },
  "cells": [
    {
      "cell_type": "markdown",
      "metadata": {
        "id": "view-in-github",
        "colab_type": "text"
      },
      "source": [
        "<a href=\"https://colab.research.google.com/github/harishmuh/R_tutorial/blob/main/Data_Transformation_in_R_tutorial_from_Coursera_Project_Network.ipynb\" target=\"_parent\"><img src=\"https://colab.research.google.com/assets/colab-badge.svg\" alt=\"Open In Colab\"/></a>"
      ]
    },
    {
      "cell_type": "markdown",
      "source": [
        "# **Data transformation in R tutorial from Coursera Project Network**\n",
        "---\n",
        "\n",
        "Notes:\n",
        "- The tutorial was conducted using Rstudio cloud or posit.cloud. However, I was using notebook from google colab\n",
        "- To change the Python notebook into R notebook simply change the runtime type from Python3 into R."
      ],
      "metadata": {
        "id": "eD_Th4F7oASb"
      }
    },
    {
      "cell_type": "markdown",
      "source": [
        "**Initial setup**"
      ],
      "metadata": {
        "id": "P00098xFpslK"
      }
    },
    {
      "cell_type": "code",
      "execution_count": 6,
      "metadata": {
        "colab": {
          "base_uri": "https://localhost:8080/"
        },
        "id": "oybF0evLny7T",
        "outputId": "517c0316-5880-462f-ce43-1bb69232a68c"
      },
      "outputs": [
        {
          "output_type": "stream",
          "name": "stderr",
          "text": [
            "Installing package into ‘/usr/local/lib/R/site-library’\n",
            "(as ‘lib’ is unspecified)\n",
            "\n"
          ]
        }
      ],
      "source": [
        "# Installing tidyverse packages\n",
        "install.packages('tidyverse')"
      ]
    },
    {
      "cell_type": "code",
      "source": [
        "# Attaching tidyverse packages\n",
        "library(tidyverse)\n"
      ],
      "metadata": {
        "id": "LY68qPxnoZvA"
      },
      "execution_count": 7,
      "outputs": []
    },
    {
      "cell_type": "code",
      "source": [
        "# Reading excel file from github\n",
        "library(readxl)\n",
        "library(httr)\n",
        "\n",
        "# Correct raw url (binary files must use /raw/ not /blob/ or /refs/heads/)\n",
        "url_xlsx <- \"https://github.com/harishmuh/R_tutorial/raw/main/datasets/injuries.xlsx\"\n",
        "\n",
        "# Download the file temporarily using httr::GET to ensure proper handling of binary files\n",
        "temp_file <- tempfile(fileext = \".xlsx\")\n",
        "GET(url_xlsx, write_disk(temp_file, overwrite = TRUE))\n",
        "\n",
        "# Read Excel\n",
        "injuries <- read_excel(temp_file)\n",
        "\n",
        "# Check first rows\n",
        "head(injuries)"
      ],
      "metadata": {
        "colab": {
          "base_uri": "https://localhost:8080/",
          "height": 538
        },
        "id": "jVhv4CpBqBe-",
        "outputId": "4f520e31-7e63-45e8-e252-fda0896d22e5"
      },
      "execution_count": 8,
      "outputs": [
        {
          "output_type": "display_data",
          "data": {
            "text/plain": [
              "Response [https://raw.githubusercontent.com/harishmuh/R_tutorial/main/datasets/injuries.xlsx]\n",
              "  Date: 2025-09-16 02:47\n",
              "  Status: 200\n",
              "  Content-Type: application/octet-stream\n",
              "  Size: 14.3 kB\n",
              "<ON DISK>  /tmp/RtmpGUMlT6/filefad2afd21.xlsxNULL"
            ]
          },
          "metadata": {}
        },
        {
          "output_type": "display_data",
          "data": {
            "text/html": [
              "<table class=\"dataframe\">\n",
              "<caption>A tibble: 6 × 4</caption>\n",
              "<thead>\n",
              "\t<tr><th scope=col>age</th><th scope=col>type</th><th scope=col>injury</th><th scope=col>estimate</th></tr>\n",
              "\t<tr><th scope=col>&lt;chr&gt;</th><th scope=col>&lt;chr&gt;</th><th scope=col>&lt;chr&gt;</th><th scope=col>&lt;chr&gt;</th></tr>\n",
              "</thead>\n",
              "<tbody>\n",
              "\t<tr><td>0-17</td><td>Emergency Department Visit</td><td>Motor Vehicle Crashes                            </td><td>47138 </td></tr>\n",
              "\t<tr><td>0-17</td><td>Emergency Department Visit</td><td>Unintentional Falls                              </td><td>397190</td></tr>\n",
              "\t<tr><td>0-17</td><td>Emergency Department Visit</td><td>Unintentionally struck by or against an object   </td><td>229236</td></tr>\n",
              "\t<tr><td>0-17</td><td>Emergency Department Visit</td><td>Other unintentional injury, mechanism unspecified</td><td>55785 </td></tr>\n",
              "\t<tr><td>0-17</td><td>Emergency Department Visit</td><td>Intentional self-harm                            </td><td>NA    </td></tr>\n",
              "\t<tr><td>0-17</td><td>Emergency Department Visit</td><td>Assault                                          </td><td>24360 </td></tr>\n",
              "</tbody>\n",
              "</table>\n"
            ],
            "text/markdown": "\nA tibble: 6 × 4\n\n| age &lt;chr&gt; | type &lt;chr&gt; | injury &lt;chr&gt; | estimate &lt;chr&gt; |\n|---|---|---|---|\n| 0-17 | Emergency Department Visit | Motor Vehicle Crashes                             | 47138  |\n| 0-17 | Emergency Department Visit | Unintentional Falls                               | 397190 |\n| 0-17 | Emergency Department Visit | Unintentionally struck by or against an object    | 229236 |\n| 0-17 | Emergency Department Visit | Other unintentional injury, mechanism unspecified | 55785  |\n| 0-17 | Emergency Department Visit | Intentional self-harm                             | NA     |\n| 0-17 | Emergency Department Visit | Assault                                           | 24360  |\n\n",
            "text/latex": "A tibble: 6 × 4\n\\begin{tabular}{llll}\n age & type & injury & estimate\\\\\n <chr> & <chr> & <chr> & <chr>\\\\\n\\hline\n\t 0-17 & Emergency Department Visit & Motor Vehicle Crashes                             & 47138 \\\\\n\t 0-17 & Emergency Department Visit & Unintentional Falls                               & 397190\\\\\n\t 0-17 & Emergency Department Visit & Unintentionally struck by or against an object    & 229236\\\\\n\t 0-17 & Emergency Department Visit & Other unintentional injury, mechanism unspecified & 55785 \\\\\n\t 0-17 & Emergency Department Visit & Intentional self-harm                             & NA    \\\\\n\t 0-17 & Emergency Department Visit & Assault                                           & 24360 \\\\\n\\end{tabular}\n",
            "text/plain": [
              "  age  type                      \n",
              "1 0-17 Emergency Department Visit\n",
              "2 0-17 Emergency Department Visit\n",
              "3 0-17 Emergency Department Visit\n",
              "4 0-17 Emergency Department Visit\n",
              "5 0-17 Emergency Department Visit\n",
              "6 0-17 Emergency Department Visit\n",
              "  injury                                            estimate\n",
              "1 Motor Vehicle Crashes                             47138   \n",
              "2 Unintentional Falls                               397190  \n",
              "3 Unintentionally struck by or against an object    229236  \n",
              "4 Other unintentional injury, mechanism unspecified 55785   \n",
              "5 Intentional self-harm                             NA      \n",
              "6 Assault                                           24360   "
            ]
          },
          "metadata": {}
        }
      ]
    },
    {
      "cell_type": "code",
      "source": [
        "# Converting the incorrect data type\n",
        "# Convert estimate column to numeric, handling missing value 'NA' properly\n",
        "injuries$estimate <- as.numeric(injuries$estimate)\n",
        "\n",
        "# Check structure\n",
        "str(injuries)\n",
        "\n",
        "# Preview first rows\n",
        "head(injuries)\n"
      ],
      "metadata": {
        "colab": {
          "base_uri": "https://localhost:8080/",
          "height": 538
        },
        "id": "IyPG7BnFsWZ5",
        "outputId": "72f7edd3-da85-4e2f-df56-e3b3799ac715"
      },
      "execution_count": 9,
      "outputs": [
        {
          "output_type": "stream",
          "name": "stderr",
          "text": [
            "Warning message:\n",
            "“NAs introduced by coercion”\n"
          ]
        },
        {
          "output_type": "stream",
          "name": "stdout",
          "text": [
            "tibble [231 × 4] (S3: tbl_df/tbl/data.frame)\n",
            " $ age     : chr [1:231] \"0-17\" \"0-17\" \"0-17\" \"0-17\" ...\n",
            " $ type    : chr [1:231] \"Emergency Department Visit\" \"Emergency Department Visit\" \"Emergency Department Visit\" \"Emergency Department Visit\" ...\n",
            " $ injury  : chr [1:231] \"Motor Vehicle Crashes\" \"Unintentional Falls\" \"Unintentionally struck by or against an object\" \"Other unintentional injury, mechanism unspecified\" ...\n",
            " $ estimate: num [1:231] 47138 397190 229236 55785 NA ...\n"
          ]
        },
        {
          "output_type": "display_data",
          "data": {
            "text/html": [
              "<table class=\"dataframe\">\n",
              "<caption>A tibble: 6 × 4</caption>\n",
              "<thead>\n",
              "\t<tr><th scope=col>age</th><th scope=col>type</th><th scope=col>injury</th><th scope=col>estimate</th></tr>\n",
              "\t<tr><th scope=col>&lt;chr&gt;</th><th scope=col>&lt;chr&gt;</th><th scope=col>&lt;chr&gt;</th><th scope=col>&lt;dbl&gt;</th></tr>\n",
              "</thead>\n",
              "<tbody>\n",
              "\t<tr><td>0-17</td><td>Emergency Department Visit</td><td>Motor Vehicle Crashes                            </td><td> 47138</td></tr>\n",
              "\t<tr><td>0-17</td><td>Emergency Department Visit</td><td>Unintentional Falls                              </td><td>397190</td></tr>\n",
              "\t<tr><td>0-17</td><td>Emergency Department Visit</td><td>Unintentionally struck by or against an object   </td><td>229236</td></tr>\n",
              "\t<tr><td>0-17</td><td>Emergency Department Visit</td><td>Other unintentional injury, mechanism unspecified</td><td> 55785</td></tr>\n",
              "\t<tr><td>0-17</td><td>Emergency Department Visit</td><td>Intentional self-harm                            </td><td>    NA</td></tr>\n",
              "\t<tr><td>0-17</td><td>Emergency Department Visit</td><td>Assault                                          </td><td> 24360</td></tr>\n",
              "</tbody>\n",
              "</table>\n"
            ],
            "text/markdown": "\nA tibble: 6 × 4\n\n| age &lt;chr&gt; | type &lt;chr&gt; | injury &lt;chr&gt; | estimate &lt;dbl&gt; |\n|---|---|---|---|\n| 0-17 | Emergency Department Visit | Motor Vehicle Crashes                             |  47138 |\n| 0-17 | Emergency Department Visit | Unintentional Falls                               | 397190 |\n| 0-17 | Emergency Department Visit | Unintentionally struck by or against an object    | 229236 |\n| 0-17 | Emergency Department Visit | Other unintentional injury, mechanism unspecified |  55785 |\n| 0-17 | Emergency Department Visit | Intentional self-harm                             |     NA |\n| 0-17 | Emergency Department Visit | Assault                                           |  24360 |\n\n",
            "text/latex": "A tibble: 6 × 4\n\\begin{tabular}{llll}\n age & type & injury & estimate\\\\\n <chr> & <chr> & <chr> & <dbl>\\\\\n\\hline\n\t 0-17 & Emergency Department Visit & Motor Vehicle Crashes                             &  47138\\\\\n\t 0-17 & Emergency Department Visit & Unintentional Falls                               & 397190\\\\\n\t 0-17 & Emergency Department Visit & Unintentionally struck by or against an object    & 229236\\\\\n\t 0-17 & Emergency Department Visit & Other unintentional injury, mechanism unspecified &  55785\\\\\n\t 0-17 & Emergency Department Visit & Intentional self-harm                             &     NA\\\\\n\t 0-17 & Emergency Department Visit & Assault                                           &  24360\\\\\n\\end{tabular}\n",
            "text/plain": [
              "  age  type                      \n",
              "1 0-17 Emergency Department Visit\n",
              "2 0-17 Emergency Department Visit\n",
              "3 0-17 Emergency Department Visit\n",
              "4 0-17 Emergency Department Visit\n",
              "5 0-17 Emergency Department Visit\n",
              "6 0-17 Emergency Department Visit\n",
              "  injury                                            estimate\n",
              "1 Motor Vehicle Crashes                              47138  \n",
              "2 Unintentional Falls                               397190  \n",
              "3 Unintentionally struck by or against an object    229236  \n",
              "4 Other unintentional injury, mechanism unspecified  55785  \n",
              "5 Intentional self-harm                                 NA  \n",
              "6 Assault                                            24360  "
            ]
          },
          "metadata": {}
        }
      ]
    },
    {
      "cell_type": "markdown",
      "source": [
        "## **Select group of observatios and create new calculated fields**"
      ],
      "metadata": {
        "id": "1uTpcrasvvHQ"
      }
    },
    {
      "cell_type": "code",
      "source": [
        "# Use Select function\n",
        "# Selecting column # Method 1\n",
        "select(injuries, age) # table, column"
      ],
      "metadata": {
        "colab": {
          "base_uri": "https://localhost:8080/",
          "height": 1000
        },
        "id": "PDj4h21Rs3ls",
        "outputId": "57ca6508-4eb3-4f4a-9eda-2c31d7e8674a"
      },
      "execution_count": 10,
      "outputs": [
        {
          "output_type": "display_data",
          "data": {
            "text/html": [
              "<table class=\"dataframe\">\n",
              "<caption>A tibble: 231 × 1</caption>\n",
              "<thead>\n",
              "\t<tr><th scope=col>age</th></tr>\n",
              "\t<tr><th scope=col>&lt;chr&gt;</th></tr>\n",
              "</thead>\n",
              "<tbody>\n",
              "\t<tr><td>0-17 </td></tr>\n",
              "\t<tr><td>0-17 </td></tr>\n",
              "\t<tr><td>0-17 </td></tr>\n",
              "\t<tr><td>0-17 </td></tr>\n",
              "\t<tr><td>0-17 </td></tr>\n",
              "\t<tr><td>0-17 </td></tr>\n",
              "\t<tr><td>0-17 </td></tr>\n",
              "\t<tr><td>0-4  </td></tr>\n",
              "\t<tr><td>0-4  </td></tr>\n",
              "\t<tr><td>0-4  </td></tr>\n",
              "\t<tr><td>0-4  </td></tr>\n",
              "\t<tr><td>0-4  </td></tr>\n",
              "\t<tr><td>0-4  </td></tr>\n",
              "\t<tr><td>0-4  </td></tr>\n",
              "\t<tr><td>5-14 </td></tr>\n",
              "\t<tr><td>5-14 </td></tr>\n",
              "\t<tr><td>5-14 </td></tr>\n",
              "\t<tr><td>5-14 </td></tr>\n",
              "\t<tr><td>5-14 </td></tr>\n",
              "\t<tr><td>5-14 </td></tr>\n",
              "\t<tr><td>5-14 </td></tr>\n",
              "\t<tr><td>15-24</td></tr>\n",
              "\t<tr><td>15-24</td></tr>\n",
              "\t<tr><td>15-24</td></tr>\n",
              "\t<tr><td>15-24</td></tr>\n",
              "\t<tr><td>15-24</td></tr>\n",
              "\t<tr><td>15-24</td></tr>\n",
              "\t<tr><td>15-24</td></tr>\n",
              "\t<tr><td>25-34</td></tr>\n",
              "\t<tr><td>25-34</td></tr>\n",
              "\t<tr><td>⋮</td></tr>\n",
              "\t<tr><td>45-54</td></tr>\n",
              "\t<tr><td>45-54</td></tr>\n",
              "\t<tr><td>55-64</td></tr>\n",
              "\t<tr><td>55-64</td></tr>\n",
              "\t<tr><td>55-64</td></tr>\n",
              "\t<tr><td>55-64</td></tr>\n",
              "\t<tr><td>55-64</td></tr>\n",
              "\t<tr><td>55-64</td></tr>\n",
              "\t<tr><td>55-64</td></tr>\n",
              "\t<tr><td>65-74</td></tr>\n",
              "\t<tr><td>65-74</td></tr>\n",
              "\t<tr><td>65-74</td></tr>\n",
              "\t<tr><td>65-74</td></tr>\n",
              "\t<tr><td>65-74</td></tr>\n",
              "\t<tr><td>65-74</td></tr>\n",
              "\t<tr><td>65-74</td></tr>\n",
              "\t<tr><td>75+  </td></tr>\n",
              "\t<tr><td>75+  </td></tr>\n",
              "\t<tr><td>75+  </td></tr>\n",
              "\t<tr><td>75+  </td></tr>\n",
              "\t<tr><td>75+  </td></tr>\n",
              "\t<tr><td>75+  </td></tr>\n",
              "\t<tr><td>75+  </td></tr>\n",
              "\t<tr><td>Total</td></tr>\n",
              "\t<tr><td>Total</td></tr>\n",
              "\t<tr><td>Total</td></tr>\n",
              "\t<tr><td>Total</td></tr>\n",
              "\t<tr><td>Total</td></tr>\n",
              "\t<tr><td>Total</td></tr>\n",
              "\t<tr><td>Total</td></tr>\n",
              "</tbody>\n",
              "</table>\n"
            ],
            "text/markdown": "\nA tibble: 231 × 1\n\n| age &lt;chr&gt; |\n|---|\n| 0-17  |\n| 0-17  |\n| 0-17  |\n| 0-17  |\n| 0-17  |\n| 0-17  |\n| 0-17  |\n| 0-4   |\n| 0-4   |\n| 0-4   |\n| 0-4   |\n| 0-4   |\n| 0-4   |\n| 0-4   |\n| 5-14  |\n| 5-14  |\n| 5-14  |\n| 5-14  |\n| 5-14  |\n| 5-14  |\n| 5-14  |\n| 15-24 |\n| 15-24 |\n| 15-24 |\n| 15-24 |\n| 15-24 |\n| 15-24 |\n| 15-24 |\n| 25-34 |\n| 25-34 |\n| ⋮ |\n| 45-54 |\n| 45-54 |\n| 55-64 |\n| 55-64 |\n| 55-64 |\n| 55-64 |\n| 55-64 |\n| 55-64 |\n| 55-64 |\n| 65-74 |\n| 65-74 |\n| 65-74 |\n| 65-74 |\n| 65-74 |\n| 65-74 |\n| 65-74 |\n| 75+   |\n| 75+   |\n| 75+   |\n| 75+   |\n| 75+   |\n| 75+   |\n| 75+   |\n| Total |\n| Total |\n| Total |\n| Total |\n| Total |\n| Total |\n| Total |\n\n",
            "text/latex": "A tibble: 231 × 1\n\\begin{tabular}{l}\n age\\\\\n <chr>\\\\\n\\hline\n\t 0-17 \\\\\n\t 0-17 \\\\\n\t 0-17 \\\\\n\t 0-17 \\\\\n\t 0-17 \\\\\n\t 0-17 \\\\\n\t 0-17 \\\\\n\t 0-4  \\\\\n\t 0-4  \\\\\n\t 0-4  \\\\\n\t 0-4  \\\\\n\t 0-4  \\\\\n\t 0-4  \\\\\n\t 0-4  \\\\\n\t 5-14 \\\\\n\t 5-14 \\\\\n\t 5-14 \\\\\n\t 5-14 \\\\\n\t 5-14 \\\\\n\t 5-14 \\\\\n\t 5-14 \\\\\n\t 15-24\\\\\n\t 15-24\\\\\n\t 15-24\\\\\n\t 15-24\\\\\n\t 15-24\\\\\n\t 15-24\\\\\n\t 15-24\\\\\n\t 25-34\\\\\n\t 25-34\\\\\n\t ⋮\\\\\n\t 45-54\\\\\n\t 45-54\\\\\n\t 55-64\\\\\n\t 55-64\\\\\n\t 55-64\\\\\n\t 55-64\\\\\n\t 55-64\\\\\n\t 55-64\\\\\n\t 55-64\\\\\n\t 65-74\\\\\n\t 65-74\\\\\n\t 65-74\\\\\n\t 65-74\\\\\n\t 65-74\\\\\n\t 65-74\\\\\n\t 65-74\\\\\n\t 75+  \\\\\n\t 75+  \\\\\n\t 75+  \\\\\n\t 75+  \\\\\n\t 75+  \\\\\n\t 75+  \\\\\n\t 75+  \\\\\n\t Total\\\\\n\t Total\\\\\n\t Total\\\\\n\t Total\\\\\n\t Total\\\\\n\t Total\\\\\n\t Total\\\\\n\\end{tabular}\n",
            "text/plain": [
              "    age  \n",
              "1   0-17 \n",
              "2   0-17 \n",
              "3   0-17 \n",
              "4   0-17 \n",
              "5   0-17 \n",
              "6   0-17 \n",
              "7   0-17 \n",
              "8   0-4  \n",
              "9   0-4  \n",
              "10  0-4  \n",
              "11  0-4  \n",
              "12  0-4  \n",
              "13  0-4  \n",
              "14  0-4  \n",
              "15  5-14 \n",
              "16  5-14 \n",
              "17  5-14 \n",
              "18  5-14 \n",
              "19  5-14 \n",
              "20  5-14 \n",
              "21  5-14 \n",
              "22  15-24\n",
              "23  15-24\n",
              "24  15-24\n",
              "25  15-24\n",
              "26  15-24\n",
              "27  15-24\n",
              "28  15-24\n",
              "29  25-34\n",
              "30  25-34\n",
              "⋮   ⋮    \n",
              "202 45-54\n",
              "203 45-54\n",
              "204 55-64\n",
              "205 55-64\n",
              "206 55-64\n",
              "207 55-64\n",
              "208 55-64\n",
              "209 55-64\n",
              "210 55-64\n",
              "211 65-74\n",
              "212 65-74\n",
              "213 65-74\n",
              "214 65-74\n",
              "215 65-74\n",
              "216 65-74\n",
              "217 65-74\n",
              "218 75+  \n",
              "219 75+  \n",
              "220 75+  \n",
              "221 75+  \n",
              "222 75+  \n",
              "223 75+  \n",
              "224 75+  \n",
              "225 Total\n",
              "226 Total\n",
              "227 Total\n",
              "228 Total\n",
              "229 Total\n",
              "230 Total\n",
              "231 Total"
            ]
          },
          "metadata": {}
        }
      ]
    },
    {
      "cell_type": "code",
      "source": [
        "# Select using pipe operators\n",
        "injuries %>% select(age)"
      ],
      "metadata": {
        "colab": {
          "base_uri": "https://localhost:8080/",
          "height": 1000
        },
        "id": "CnYbXMDDtTn_",
        "outputId": "b416d433-a23c-4275-eb62-39237610feac"
      },
      "execution_count": 11,
      "outputs": [
        {
          "output_type": "display_data",
          "data": {
            "text/html": [
              "<table class=\"dataframe\">\n",
              "<caption>A tibble: 231 × 1</caption>\n",
              "<thead>\n",
              "\t<tr><th scope=col>age</th></tr>\n",
              "\t<tr><th scope=col>&lt;chr&gt;</th></tr>\n",
              "</thead>\n",
              "<tbody>\n",
              "\t<tr><td>0-17 </td></tr>\n",
              "\t<tr><td>0-17 </td></tr>\n",
              "\t<tr><td>0-17 </td></tr>\n",
              "\t<tr><td>0-17 </td></tr>\n",
              "\t<tr><td>0-17 </td></tr>\n",
              "\t<tr><td>0-17 </td></tr>\n",
              "\t<tr><td>0-17 </td></tr>\n",
              "\t<tr><td>0-4  </td></tr>\n",
              "\t<tr><td>0-4  </td></tr>\n",
              "\t<tr><td>0-4  </td></tr>\n",
              "\t<tr><td>0-4  </td></tr>\n",
              "\t<tr><td>0-4  </td></tr>\n",
              "\t<tr><td>0-4  </td></tr>\n",
              "\t<tr><td>0-4  </td></tr>\n",
              "\t<tr><td>5-14 </td></tr>\n",
              "\t<tr><td>5-14 </td></tr>\n",
              "\t<tr><td>5-14 </td></tr>\n",
              "\t<tr><td>5-14 </td></tr>\n",
              "\t<tr><td>5-14 </td></tr>\n",
              "\t<tr><td>5-14 </td></tr>\n",
              "\t<tr><td>5-14 </td></tr>\n",
              "\t<tr><td>15-24</td></tr>\n",
              "\t<tr><td>15-24</td></tr>\n",
              "\t<tr><td>15-24</td></tr>\n",
              "\t<tr><td>15-24</td></tr>\n",
              "\t<tr><td>15-24</td></tr>\n",
              "\t<tr><td>15-24</td></tr>\n",
              "\t<tr><td>15-24</td></tr>\n",
              "\t<tr><td>25-34</td></tr>\n",
              "\t<tr><td>25-34</td></tr>\n",
              "\t<tr><td>⋮</td></tr>\n",
              "\t<tr><td>45-54</td></tr>\n",
              "\t<tr><td>45-54</td></tr>\n",
              "\t<tr><td>55-64</td></tr>\n",
              "\t<tr><td>55-64</td></tr>\n",
              "\t<tr><td>55-64</td></tr>\n",
              "\t<tr><td>55-64</td></tr>\n",
              "\t<tr><td>55-64</td></tr>\n",
              "\t<tr><td>55-64</td></tr>\n",
              "\t<tr><td>55-64</td></tr>\n",
              "\t<tr><td>65-74</td></tr>\n",
              "\t<tr><td>65-74</td></tr>\n",
              "\t<tr><td>65-74</td></tr>\n",
              "\t<tr><td>65-74</td></tr>\n",
              "\t<tr><td>65-74</td></tr>\n",
              "\t<tr><td>65-74</td></tr>\n",
              "\t<tr><td>65-74</td></tr>\n",
              "\t<tr><td>75+  </td></tr>\n",
              "\t<tr><td>75+  </td></tr>\n",
              "\t<tr><td>75+  </td></tr>\n",
              "\t<tr><td>75+  </td></tr>\n",
              "\t<tr><td>75+  </td></tr>\n",
              "\t<tr><td>75+  </td></tr>\n",
              "\t<tr><td>75+  </td></tr>\n",
              "\t<tr><td>Total</td></tr>\n",
              "\t<tr><td>Total</td></tr>\n",
              "\t<tr><td>Total</td></tr>\n",
              "\t<tr><td>Total</td></tr>\n",
              "\t<tr><td>Total</td></tr>\n",
              "\t<tr><td>Total</td></tr>\n",
              "\t<tr><td>Total</td></tr>\n",
              "</tbody>\n",
              "</table>\n"
            ],
            "text/markdown": "\nA tibble: 231 × 1\n\n| age &lt;chr&gt; |\n|---|\n| 0-17  |\n| 0-17  |\n| 0-17  |\n| 0-17  |\n| 0-17  |\n| 0-17  |\n| 0-17  |\n| 0-4   |\n| 0-4   |\n| 0-4   |\n| 0-4   |\n| 0-4   |\n| 0-4   |\n| 0-4   |\n| 5-14  |\n| 5-14  |\n| 5-14  |\n| 5-14  |\n| 5-14  |\n| 5-14  |\n| 5-14  |\n| 15-24 |\n| 15-24 |\n| 15-24 |\n| 15-24 |\n| 15-24 |\n| 15-24 |\n| 15-24 |\n| 25-34 |\n| 25-34 |\n| ⋮ |\n| 45-54 |\n| 45-54 |\n| 55-64 |\n| 55-64 |\n| 55-64 |\n| 55-64 |\n| 55-64 |\n| 55-64 |\n| 55-64 |\n| 65-74 |\n| 65-74 |\n| 65-74 |\n| 65-74 |\n| 65-74 |\n| 65-74 |\n| 65-74 |\n| 75+   |\n| 75+   |\n| 75+   |\n| 75+   |\n| 75+   |\n| 75+   |\n| 75+   |\n| Total |\n| Total |\n| Total |\n| Total |\n| Total |\n| Total |\n| Total |\n\n",
            "text/latex": "A tibble: 231 × 1\n\\begin{tabular}{l}\n age\\\\\n <chr>\\\\\n\\hline\n\t 0-17 \\\\\n\t 0-17 \\\\\n\t 0-17 \\\\\n\t 0-17 \\\\\n\t 0-17 \\\\\n\t 0-17 \\\\\n\t 0-17 \\\\\n\t 0-4  \\\\\n\t 0-4  \\\\\n\t 0-4  \\\\\n\t 0-4  \\\\\n\t 0-4  \\\\\n\t 0-4  \\\\\n\t 0-4  \\\\\n\t 5-14 \\\\\n\t 5-14 \\\\\n\t 5-14 \\\\\n\t 5-14 \\\\\n\t 5-14 \\\\\n\t 5-14 \\\\\n\t 5-14 \\\\\n\t 15-24\\\\\n\t 15-24\\\\\n\t 15-24\\\\\n\t 15-24\\\\\n\t 15-24\\\\\n\t 15-24\\\\\n\t 15-24\\\\\n\t 25-34\\\\\n\t 25-34\\\\\n\t ⋮\\\\\n\t 45-54\\\\\n\t 45-54\\\\\n\t 55-64\\\\\n\t 55-64\\\\\n\t 55-64\\\\\n\t 55-64\\\\\n\t 55-64\\\\\n\t 55-64\\\\\n\t 55-64\\\\\n\t 65-74\\\\\n\t 65-74\\\\\n\t 65-74\\\\\n\t 65-74\\\\\n\t 65-74\\\\\n\t 65-74\\\\\n\t 65-74\\\\\n\t 75+  \\\\\n\t 75+  \\\\\n\t 75+  \\\\\n\t 75+  \\\\\n\t 75+  \\\\\n\t 75+  \\\\\n\t 75+  \\\\\n\t Total\\\\\n\t Total\\\\\n\t Total\\\\\n\t Total\\\\\n\t Total\\\\\n\t Total\\\\\n\t Total\\\\\n\\end{tabular}\n",
            "text/plain": [
              "    age  \n",
              "1   0-17 \n",
              "2   0-17 \n",
              "3   0-17 \n",
              "4   0-17 \n",
              "5   0-17 \n",
              "6   0-17 \n",
              "7   0-17 \n",
              "8   0-4  \n",
              "9   0-4  \n",
              "10  0-4  \n",
              "11  0-4  \n",
              "12  0-4  \n",
              "13  0-4  \n",
              "14  0-4  \n",
              "15  5-14 \n",
              "16  5-14 \n",
              "17  5-14 \n",
              "18  5-14 \n",
              "19  5-14 \n",
              "20  5-14 \n",
              "21  5-14 \n",
              "22  15-24\n",
              "23  15-24\n",
              "24  15-24\n",
              "25  15-24\n",
              "26  15-24\n",
              "27  15-24\n",
              "28  15-24\n",
              "29  25-34\n",
              "30  25-34\n",
              "⋮   ⋮    \n",
              "202 45-54\n",
              "203 45-54\n",
              "204 55-64\n",
              "205 55-64\n",
              "206 55-64\n",
              "207 55-64\n",
              "208 55-64\n",
              "209 55-64\n",
              "210 55-64\n",
              "211 65-74\n",
              "212 65-74\n",
              "213 65-74\n",
              "214 65-74\n",
              "215 65-74\n",
              "216 65-74\n",
              "217 65-74\n",
              "218 75+  \n",
              "219 75+  \n",
              "220 75+  \n",
              "221 75+  \n",
              "222 75+  \n",
              "223 75+  \n",
              "224 75+  \n",
              "225 Total\n",
              "226 Total\n",
              "227 Total\n",
              "228 Total\n",
              "229 Total\n",
              "230 Total\n",
              "231 Total"
            ]
          },
          "metadata": {}
        }
      ]
    },
    {
      "cell_type": "code",
      "source": [
        " # # Select using pipe operators # Using index\n",
        "injuries %>% select(1)"
      ],
      "metadata": {
        "colab": {
          "base_uri": "https://localhost:8080/",
          "height": 1000
        },
        "id": "DVcSpUVMtwn_",
        "outputId": "f567de6e-0b61-4a6f-c796-67fde4770f2c"
      },
      "execution_count": 12,
      "outputs": [
        {
          "output_type": "display_data",
          "data": {
            "text/html": [
              "<table class=\"dataframe\">\n",
              "<caption>A tibble: 231 × 1</caption>\n",
              "<thead>\n",
              "\t<tr><th scope=col>age</th></tr>\n",
              "\t<tr><th scope=col>&lt;chr&gt;</th></tr>\n",
              "</thead>\n",
              "<tbody>\n",
              "\t<tr><td>0-17 </td></tr>\n",
              "\t<tr><td>0-17 </td></tr>\n",
              "\t<tr><td>0-17 </td></tr>\n",
              "\t<tr><td>0-17 </td></tr>\n",
              "\t<tr><td>0-17 </td></tr>\n",
              "\t<tr><td>0-17 </td></tr>\n",
              "\t<tr><td>0-17 </td></tr>\n",
              "\t<tr><td>0-4  </td></tr>\n",
              "\t<tr><td>0-4  </td></tr>\n",
              "\t<tr><td>0-4  </td></tr>\n",
              "\t<tr><td>0-4  </td></tr>\n",
              "\t<tr><td>0-4  </td></tr>\n",
              "\t<tr><td>0-4  </td></tr>\n",
              "\t<tr><td>0-4  </td></tr>\n",
              "\t<tr><td>5-14 </td></tr>\n",
              "\t<tr><td>5-14 </td></tr>\n",
              "\t<tr><td>5-14 </td></tr>\n",
              "\t<tr><td>5-14 </td></tr>\n",
              "\t<tr><td>5-14 </td></tr>\n",
              "\t<tr><td>5-14 </td></tr>\n",
              "\t<tr><td>5-14 </td></tr>\n",
              "\t<tr><td>15-24</td></tr>\n",
              "\t<tr><td>15-24</td></tr>\n",
              "\t<tr><td>15-24</td></tr>\n",
              "\t<tr><td>15-24</td></tr>\n",
              "\t<tr><td>15-24</td></tr>\n",
              "\t<tr><td>15-24</td></tr>\n",
              "\t<tr><td>15-24</td></tr>\n",
              "\t<tr><td>25-34</td></tr>\n",
              "\t<tr><td>25-34</td></tr>\n",
              "\t<tr><td>⋮</td></tr>\n",
              "\t<tr><td>45-54</td></tr>\n",
              "\t<tr><td>45-54</td></tr>\n",
              "\t<tr><td>55-64</td></tr>\n",
              "\t<tr><td>55-64</td></tr>\n",
              "\t<tr><td>55-64</td></tr>\n",
              "\t<tr><td>55-64</td></tr>\n",
              "\t<tr><td>55-64</td></tr>\n",
              "\t<tr><td>55-64</td></tr>\n",
              "\t<tr><td>55-64</td></tr>\n",
              "\t<tr><td>65-74</td></tr>\n",
              "\t<tr><td>65-74</td></tr>\n",
              "\t<tr><td>65-74</td></tr>\n",
              "\t<tr><td>65-74</td></tr>\n",
              "\t<tr><td>65-74</td></tr>\n",
              "\t<tr><td>65-74</td></tr>\n",
              "\t<tr><td>65-74</td></tr>\n",
              "\t<tr><td>75+  </td></tr>\n",
              "\t<tr><td>75+  </td></tr>\n",
              "\t<tr><td>75+  </td></tr>\n",
              "\t<tr><td>75+  </td></tr>\n",
              "\t<tr><td>75+  </td></tr>\n",
              "\t<tr><td>75+  </td></tr>\n",
              "\t<tr><td>75+  </td></tr>\n",
              "\t<tr><td>Total</td></tr>\n",
              "\t<tr><td>Total</td></tr>\n",
              "\t<tr><td>Total</td></tr>\n",
              "\t<tr><td>Total</td></tr>\n",
              "\t<tr><td>Total</td></tr>\n",
              "\t<tr><td>Total</td></tr>\n",
              "\t<tr><td>Total</td></tr>\n",
              "</tbody>\n",
              "</table>\n"
            ],
            "text/markdown": "\nA tibble: 231 × 1\n\n| age &lt;chr&gt; |\n|---|\n| 0-17  |\n| 0-17  |\n| 0-17  |\n| 0-17  |\n| 0-17  |\n| 0-17  |\n| 0-17  |\n| 0-4   |\n| 0-4   |\n| 0-4   |\n| 0-4   |\n| 0-4   |\n| 0-4   |\n| 0-4   |\n| 5-14  |\n| 5-14  |\n| 5-14  |\n| 5-14  |\n| 5-14  |\n| 5-14  |\n| 5-14  |\n| 15-24 |\n| 15-24 |\n| 15-24 |\n| 15-24 |\n| 15-24 |\n| 15-24 |\n| 15-24 |\n| 25-34 |\n| 25-34 |\n| ⋮ |\n| 45-54 |\n| 45-54 |\n| 55-64 |\n| 55-64 |\n| 55-64 |\n| 55-64 |\n| 55-64 |\n| 55-64 |\n| 55-64 |\n| 65-74 |\n| 65-74 |\n| 65-74 |\n| 65-74 |\n| 65-74 |\n| 65-74 |\n| 65-74 |\n| 75+   |\n| 75+   |\n| 75+   |\n| 75+   |\n| 75+   |\n| 75+   |\n| 75+   |\n| Total |\n| Total |\n| Total |\n| Total |\n| Total |\n| Total |\n| Total |\n\n",
            "text/latex": "A tibble: 231 × 1\n\\begin{tabular}{l}\n age\\\\\n <chr>\\\\\n\\hline\n\t 0-17 \\\\\n\t 0-17 \\\\\n\t 0-17 \\\\\n\t 0-17 \\\\\n\t 0-17 \\\\\n\t 0-17 \\\\\n\t 0-17 \\\\\n\t 0-4  \\\\\n\t 0-4  \\\\\n\t 0-4  \\\\\n\t 0-4  \\\\\n\t 0-4  \\\\\n\t 0-4  \\\\\n\t 0-4  \\\\\n\t 5-14 \\\\\n\t 5-14 \\\\\n\t 5-14 \\\\\n\t 5-14 \\\\\n\t 5-14 \\\\\n\t 5-14 \\\\\n\t 5-14 \\\\\n\t 15-24\\\\\n\t 15-24\\\\\n\t 15-24\\\\\n\t 15-24\\\\\n\t 15-24\\\\\n\t 15-24\\\\\n\t 15-24\\\\\n\t 25-34\\\\\n\t 25-34\\\\\n\t ⋮\\\\\n\t 45-54\\\\\n\t 45-54\\\\\n\t 55-64\\\\\n\t 55-64\\\\\n\t 55-64\\\\\n\t 55-64\\\\\n\t 55-64\\\\\n\t 55-64\\\\\n\t 55-64\\\\\n\t 65-74\\\\\n\t 65-74\\\\\n\t 65-74\\\\\n\t 65-74\\\\\n\t 65-74\\\\\n\t 65-74\\\\\n\t 65-74\\\\\n\t 75+  \\\\\n\t 75+  \\\\\n\t 75+  \\\\\n\t 75+  \\\\\n\t 75+  \\\\\n\t 75+  \\\\\n\t 75+  \\\\\n\t Total\\\\\n\t Total\\\\\n\t Total\\\\\n\t Total\\\\\n\t Total\\\\\n\t Total\\\\\n\t Total\\\\\n\\end{tabular}\n",
            "text/plain": [
              "    age  \n",
              "1   0-17 \n",
              "2   0-17 \n",
              "3   0-17 \n",
              "4   0-17 \n",
              "5   0-17 \n",
              "6   0-17 \n",
              "7   0-17 \n",
              "8   0-4  \n",
              "9   0-4  \n",
              "10  0-4  \n",
              "11  0-4  \n",
              "12  0-4  \n",
              "13  0-4  \n",
              "14  0-4  \n",
              "15  5-14 \n",
              "16  5-14 \n",
              "17  5-14 \n",
              "18  5-14 \n",
              "19  5-14 \n",
              "20  5-14 \n",
              "21  5-14 \n",
              "22  15-24\n",
              "23  15-24\n",
              "24  15-24\n",
              "25  15-24\n",
              "26  15-24\n",
              "27  15-24\n",
              "28  15-24\n",
              "29  25-34\n",
              "30  25-34\n",
              "⋮   ⋮    \n",
              "202 45-54\n",
              "203 45-54\n",
              "204 55-64\n",
              "205 55-64\n",
              "206 55-64\n",
              "207 55-64\n",
              "208 55-64\n",
              "209 55-64\n",
              "210 55-64\n",
              "211 65-74\n",
              "212 65-74\n",
              "213 65-74\n",
              "214 65-74\n",
              "215 65-74\n",
              "216 65-74\n",
              "217 65-74\n",
              "218 75+  \n",
              "219 75+  \n",
              "220 75+  \n",
              "221 75+  \n",
              "222 75+  \n",
              "223 75+  \n",
              "224 75+  \n",
              "225 Total\n",
              "226 Total\n",
              "227 Total\n",
              "228 Total\n",
              "229 Total\n",
              "230 Total\n",
              "231 Total"
            ]
          },
          "metadata": {}
        }
      ]
    },
    {
      "cell_type": "code",
      "source": [
        "# Selecting 2 columns\n",
        "injuries %>% select(c(age,type))"
      ],
      "metadata": {
        "colab": {
          "base_uri": "https://localhost:8080/",
          "height": 1000
        },
        "id": "2ZdzwhJwt8pF",
        "outputId": "c1ad7bfe-56da-4cb2-e53c-ba811fe7bd06"
      },
      "execution_count": 13,
      "outputs": [
        {
          "output_type": "display_data",
          "data": {
            "text/html": [
              "<table class=\"dataframe\">\n",
              "<caption>A tibble: 231 × 2</caption>\n",
              "<thead>\n",
              "\t<tr><th scope=col>age</th><th scope=col>type</th></tr>\n",
              "\t<tr><th scope=col>&lt;chr&gt;</th><th scope=col>&lt;chr&gt;</th></tr>\n",
              "</thead>\n",
              "<tbody>\n",
              "\t<tr><td>0-17 </td><td>Emergency Department Visit</td></tr>\n",
              "\t<tr><td>0-17 </td><td>Emergency Department Visit</td></tr>\n",
              "\t<tr><td>0-17 </td><td>Emergency Department Visit</td></tr>\n",
              "\t<tr><td>0-17 </td><td>Emergency Department Visit</td></tr>\n",
              "\t<tr><td>0-17 </td><td>Emergency Department Visit</td></tr>\n",
              "\t<tr><td>0-17 </td><td>Emergency Department Visit</td></tr>\n",
              "\t<tr><td>0-17 </td><td>Emergency Department Visit</td></tr>\n",
              "\t<tr><td>0-4  </td><td>Emergency Department Visit</td></tr>\n",
              "\t<tr><td>0-4  </td><td>Emergency Department Visit</td></tr>\n",
              "\t<tr><td>0-4  </td><td>Emergency Department Visit</td></tr>\n",
              "\t<tr><td>0-4  </td><td>Emergency Department Visit</td></tr>\n",
              "\t<tr><td>0-4  </td><td>Emergency Department Visit</td></tr>\n",
              "\t<tr><td>0-4  </td><td>Emergency Department Visit</td></tr>\n",
              "\t<tr><td>0-4  </td><td>Emergency Department Visit</td></tr>\n",
              "\t<tr><td>5-14 </td><td>Emergency Department Visit</td></tr>\n",
              "\t<tr><td>5-14 </td><td>Emergency Department Visit</td></tr>\n",
              "\t<tr><td>5-14 </td><td>Emergency Department Visit</td></tr>\n",
              "\t<tr><td>5-14 </td><td>Emergency Department Visit</td></tr>\n",
              "\t<tr><td>5-14 </td><td>Emergency Department Visit</td></tr>\n",
              "\t<tr><td>5-14 </td><td>Emergency Department Visit</td></tr>\n",
              "\t<tr><td>5-14 </td><td>Emergency Department Visit</td></tr>\n",
              "\t<tr><td>15-24</td><td>Emergency Department Visit</td></tr>\n",
              "\t<tr><td>15-24</td><td>Emergency Department Visit</td></tr>\n",
              "\t<tr><td>15-24</td><td>Emergency Department Visit</td></tr>\n",
              "\t<tr><td>15-24</td><td>Emergency Department Visit</td></tr>\n",
              "\t<tr><td>15-24</td><td>Emergency Department Visit</td></tr>\n",
              "\t<tr><td>15-24</td><td>Emergency Department Visit</td></tr>\n",
              "\t<tr><td>15-24</td><td>Emergency Department Visit</td></tr>\n",
              "\t<tr><td>25-34</td><td>Emergency Department Visit</td></tr>\n",
              "\t<tr><td>25-34</td><td>Emergency Department Visit</td></tr>\n",
              "\t<tr><td>⋮</td><td>⋮</td></tr>\n",
              "\t<tr><td>45-54</td><td>Deaths</td></tr>\n",
              "\t<tr><td>45-54</td><td>Deaths</td></tr>\n",
              "\t<tr><td>55-64</td><td>Deaths</td></tr>\n",
              "\t<tr><td>55-64</td><td>Deaths</td></tr>\n",
              "\t<tr><td>55-64</td><td>Deaths</td></tr>\n",
              "\t<tr><td>55-64</td><td>Deaths</td></tr>\n",
              "\t<tr><td>55-64</td><td>Deaths</td></tr>\n",
              "\t<tr><td>55-64</td><td>Deaths</td></tr>\n",
              "\t<tr><td>55-64</td><td>Deaths</td></tr>\n",
              "\t<tr><td>65-74</td><td>Deaths</td></tr>\n",
              "\t<tr><td>65-74</td><td>Deaths</td></tr>\n",
              "\t<tr><td>65-74</td><td>Deaths</td></tr>\n",
              "\t<tr><td>65-74</td><td>Deaths</td></tr>\n",
              "\t<tr><td>65-74</td><td>Deaths</td></tr>\n",
              "\t<tr><td>65-74</td><td>Deaths</td></tr>\n",
              "\t<tr><td>65-74</td><td>Deaths</td></tr>\n",
              "\t<tr><td>75+  </td><td>Deaths</td></tr>\n",
              "\t<tr><td>75+  </td><td>Deaths</td></tr>\n",
              "\t<tr><td>75+  </td><td>Deaths</td></tr>\n",
              "\t<tr><td>75+  </td><td>Deaths</td></tr>\n",
              "\t<tr><td>75+  </td><td>Deaths</td></tr>\n",
              "\t<tr><td>75+  </td><td>Deaths</td></tr>\n",
              "\t<tr><td>75+  </td><td>Deaths</td></tr>\n",
              "\t<tr><td>Total</td><td>Deaths</td></tr>\n",
              "\t<tr><td>Total</td><td>Deaths</td></tr>\n",
              "\t<tr><td>Total</td><td>Deaths</td></tr>\n",
              "\t<tr><td>Total</td><td>Deaths</td></tr>\n",
              "\t<tr><td>Total</td><td>Deaths</td></tr>\n",
              "\t<tr><td>Total</td><td>Deaths</td></tr>\n",
              "\t<tr><td>Total</td><td>Deaths</td></tr>\n",
              "</tbody>\n",
              "</table>\n"
            ],
            "text/markdown": "\nA tibble: 231 × 2\n\n| age &lt;chr&gt; | type &lt;chr&gt; |\n|---|---|\n| 0-17  | Emergency Department Visit |\n| 0-17  | Emergency Department Visit |\n| 0-17  | Emergency Department Visit |\n| 0-17  | Emergency Department Visit |\n| 0-17  | Emergency Department Visit |\n| 0-17  | Emergency Department Visit |\n| 0-17  | Emergency Department Visit |\n| 0-4   | Emergency Department Visit |\n| 0-4   | Emergency Department Visit |\n| 0-4   | Emergency Department Visit |\n| 0-4   | Emergency Department Visit |\n| 0-4   | Emergency Department Visit |\n| 0-4   | Emergency Department Visit |\n| 0-4   | Emergency Department Visit |\n| 5-14  | Emergency Department Visit |\n| 5-14  | Emergency Department Visit |\n| 5-14  | Emergency Department Visit |\n| 5-14  | Emergency Department Visit |\n| 5-14  | Emergency Department Visit |\n| 5-14  | Emergency Department Visit |\n| 5-14  | Emergency Department Visit |\n| 15-24 | Emergency Department Visit |\n| 15-24 | Emergency Department Visit |\n| 15-24 | Emergency Department Visit |\n| 15-24 | Emergency Department Visit |\n| 15-24 | Emergency Department Visit |\n| 15-24 | Emergency Department Visit |\n| 15-24 | Emergency Department Visit |\n| 25-34 | Emergency Department Visit |\n| 25-34 | Emergency Department Visit |\n| ⋮ | ⋮ |\n| 45-54 | Deaths |\n| 45-54 | Deaths |\n| 55-64 | Deaths |\n| 55-64 | Deaths |\n| 55-64 | Deaths |\n| 55-64 | Deaths |\n| 55-64 | Deaths |\n| 55-64 | Deaths |\n| 55-64 | Deaths |\n| 65-74 | Deaths |\n| 65-74 | Deaths |\n| 65-74 | Deaths |\n| 65-74 | Deaths |\n| 65-74 | Deaths |\n| 65-74 | Deaths |\n| 65-74 | Deaths |\n| 75+   | Deaths |\n| 75+   | Deaths |\n| 75+   | Deaths |\n| 75+   | Deaths |\n| 75+   | Deaths |\n| 75+   | Deaths |\n| 75+   | Deaths |\n| Total | Deaths |\n| Total | Deaths |\n| Total | Deaths |\n| Total | Deaths |\n| Total | Deaths |\n| Total | Deaths |\n| Total | Deaths |\n\n",
            "text/latex": "A tibble: 231 × 2\n\\begin{tabular}{ll}\n age & type\\\\\n <chr> & <chr>\\\\\n\\hline\n\t 0-17  & Emergency Department Visit\\\\\n\t 0-17  & Emergency Department Visit\\\\\n\t 0-17  & Emergency Department Visit\\\\\n\t 0-17  & Emergency Department Visit\\\\\n\t 0-17  & Emergency Department Visit\\\\\n\t 0-17  & Emergency Department Visit\\\\\n\t 0-17  & Emergency Department Visit\\\\\n\t 0-4   & Emergency Department Visit\\\\\n\t 0-4   & Emergency Department Visit\\\\\n\t 0-4   & Emergency Department Visit\\\\\n\t 0-4   & Emergency Department Visit\\\\\n\t 0-4   & Emergency Department Visit\\\\\n\t 0-4   & Emergency Department Visit\\\\\n\t 0-4   & Emergency Department Visit\\\\\n\t 5-14  & Emergency Department Visit\\\\\n\t 5-14  & Emergency Department Visit\\\\\n\t 5-14  & Emergency Department Visit\\\\\n\t 5-14  & Emergency Department Visit\\\\\n\t 5-14  & Emergency Department Visit\\\\\n\t 5-14  & Emergency Department Visit\\\\\n\t 5-14  & Emergency Department Visit\\\\\n\t 15-24 & Emergency Department Visit\\\\\n\t 15-24 & Emergency Department Visit\\\\\n\t 15-24 & Emergency Department Visit\\\\\n\t 15-24 & Emergency Department Visit\\\\\n\t 15-24 & Emergency Department Visit\\\\\n\t 15-24 & Emergency Department Visit\\\\\n\t 15-24 & Emergency Department Visit\\\\\n\t 25-34 & Emergency Department Visit\\\\\n\t 25-34 & Emergency Department Visit\\\\\n\t ⋮ & ⋮\\\\\n\t 45-54 & Deaths\\\\\n\t 45-54 & Deaths\\\\\n\t 55-64 & Deaths\\\\\n\t 55-64 & Deaths\\\\\n\t 55-64 & Deaths\\\\\n\t 55-64 & Deaths\\\\\n\t 55-64 & Deaths\\\\\n\t 55-64 & Deaths\\\\\n\t 55-64 & Deaths\\\\\n\t 65-74 & Deaths\\\\\n\t 65-74 & Deaths\\\\\n\t 65-74 & Deaths\\\\\n\t 65-74 & Deaths\\\\\n\t 65-74 & Deaths\\\\\n\t 65-74 & Deaths\\\\\n\t 65-74 & Deaths\\\\\n\t 75+   & Deaths\\\\\n\t 75+   & Deaths\\\\\n\t 75+   & Deaths\\\\\n\t 75+   & Deaths\\\\\n\t 75+   & Deaths\\\\\n\t 75+   & Deaths\\\\\n\t 75+   & Deaths\\\\\n\t Total & Deaths\\\\\n\t Total & Deaths\\\\\n\t Total & Deaths\\\\\n\t Total & Deaths\\\\\n\t Total & Deaths\\\\\n\t Total & Deaths\\\\\n\t Total & Deaths\\\\\n\\end{tabular}\n",
            "text/plain": [
              "    age   type                      \n",
              "1   0-17  Emergency Department Visit\n",
              "2   0-17  Emergency Department Visit\n",
              "3   0-17  Emergency Department Visit\n",
              "4   0-17  Emergency Department Visit\n",
              "5   0-17  Emergency Department Visit\n",
              "6   0-17  Emergency Department Visit\n",
              "7   0-17  Emergency Department Visit\n",
              "8   0-4   Emergency Department Visit\n",
              "9   0-4   Emergency Department Visit\n",
              "10  0-4   Emergency Department Visit\n",
              "11  0-4   Emergency Department Visit\n",
              "12  0-4   Emergency Department Visit\n",
              "13  0-4   Emergency Department Visit\n",
              "14  0-4   Emergency Department Visit\n",
              "15  5-14  Emergency Department Visit\n",
              "16  5-14  Emergency Department Visit\n",
              "17  5-14  Emergency Department Visit\n",
              "18  5-14  Emergency Department Visit\n",
              "19  5-14  Emergency Department Visit\n",
              "20  5-14  Emergency Department Visit\n",
              "21  5-14  Emergency Department Visit\n",
              "22  15-24 Emergency Department Visit\n",
              "23  15-24 Emergency Department Visit\n",
              "24  15-24 Emergency Department Visit\n",
              "25  15-24 Emergency Department Visit\n",
              "26  15-24 Emergency Department Visit\n",
              "27  15-24 Emergency Department Visit\n",
              "28  15-24 Emergency Department Visit\n",
              "29  25-34 Emergency Department Visit\n",
              "30  25-34 Emergency Department Visit\n",
              "⋮   ⋮     ⋮                         \n",
              "202 45-54 Deaths                    \n",
              "203 45-54 Deaths                    \n",
              "204 55-64 Deaths                    \n",
              "205 55-64 Deaths                    \n",
              "206 55-64 Deaths                    \n",
              "207 55-64 Deaths                    \n",
              "208 55-64 Deaths                    \n",
              "209 55-64 Deaths                    \n",
              "210 55-64 Deaths                    \n",
              "211 65-74 Deaths                    \n",
              "212 65-74 Deaths                    \n",
              "213 65-74 Deaths                    \n",
              "214 65-74 Deaths                    \n",
              "215 65-74 Deaths                    \n",
              "216 65-74 Deaths                    \n",
              "217 65-74 Deaths                    \n",
              "218 75+   Deaths                    \n",
              "219 75+   Deaths                    \n",
              "220 75+   Deaths                    \n",
              "221 75+   Deaths                    \n",
              "222 75+   Deaths                    \n",
              "223 75+   Deaths                    \n",
              "224 75+   Deaths                    \n",
              "225 Total Deaths                    \n",
              "226 Total Deaths                    \n",
              "227 Total Deaths                    \n",
              "228 Total Deaths                    \n",
              "229 Total Deaths                    \n",
              "230 Total Deaths                    \n",
              "231 Total Deaths                    "
            ]
          },
          "metadata": {}
        }
      ]
    },
    {
      "cell_type": "code",
      "source": [
        "# Use Filter\n",
        "injuries %>% filter(age==\"0-17\")"
      ],
      "metadata": {
        "colab": {
          "base_uri": "https://localhost:8080/",
          "height": 947
        },
        "id": "aAS3kMrNuJGm",
        "outputId": "adbf9493-a2aa-4bd5-9ca7-a3ff80fab580"
      },
      "execution_count": 14,
      "outputs": [
        {
          "output_type": "display_data",
          "data": {
            "text/html": [
              "<table class=\"dataframe\">\n",
              "<caption>A tibble: 21 × 4</caption>\n",
              "<thead>\n",
              "\t<tr><th scope=col>age</th><th scope=col>type</th><th scope=col>injury</th><th scope=col>estimate</th></tr>\n",
              "\t<tr><th scope=col>&lt;chr&gt;</th><th scope=col>&lt;chr&gt;</th><th scope=col>&lt;chr&gt;</th><th scope=col>&lt;dbl&gt;</th></tr>\n",
              "</thead>\n",
              "<tbody>\n",
              "\t<tr><td>0-17</td><td>Emergency Department Visit</td><td>Motor Vehicle Crashes                            </td><td> 47138</td></tr>\n",
              "\t<tr><td>0-17</td><td>Emergency Department Visit</td><td>Unintentional Falls                              </td><td>397190</td></tr>\n",
              "\t<tr><td>0-17</td><td>Emergency Department Visit</td><td>Unintentionally struck by or against an object   </td><td>229236</td></tr>\n",
              "\t<tr><td>0-17</td><td>Emergency Department Visit</td><td>Other unintentional injury, mechanism unspecified</td><td> 55785</td></tr>\n",
              "\t<tr><td>0-17</td><td>Emergency Department Visit</td><td>Intentional self-harm                            </td><td>    NA</td></tr>\n",
              "\t<tr><td>0-17</td><td>Emergency Department Visit</td><td>Assault                                          </td><td> 24360</td></tr>\n",
              "\t<tr><td>0-17</td><td>Emergency Department Visit</td><td>Other or no mechanism specified                  </td><td> 57983</td></tr>\n",
              "\t<tr><td>0-17</td><td>Hospitalizations          </td><td>Motor Vehicle Crashes                            </td><td>  5830</td></tr>\n",
              "\t<tr><td>0-17</td><td>Hospitalizations          </td><td>Unintentional Falls                              </td><td>  7935</td></tr>\n",
              "\t<tr><td>0-17</td><td>Hospitalizations          </td><td>Unintentionally struck by or against an object   </td><td>  1985</td></tr>\n",
              "\t<tr><td>0-17</td><td>Hospitalizations          </td><td>Other unintentional injury, mechanism unspecified</td><td>  3135</td></tr>\n",
              "\t<tr><td>0-17</td><td>Hospitalizations          </td><td>Intentional self-harm                            </td><td>    NA</td></tr>\n",
              "\t<tr><td>0-17</td><td>Hospitalizations          </td><td>Assault                                          </td><td>  1535</td></tr>\n",
              "\t<tr><td>0-17</td><td>Hospitalizations          </td><td>Other or no mechanism specified                  </td><td>  2595</td></tr>\n",
              "\t<tr><td>0-17</td><td>Deaths                    </td><td>Motor Vehicle Crashes                            </td><td>   931</td></tr>\n",
              "\t<tr><td>0-17</td><td>Deaths                    </td><td>Unintentional Falls                              </td><td>    48</td></tr>\n",
              "\t<tr><td>0-17</td><td>Deaths                    </td><td>Unintentionally struck by or against an object   </td><td>    52</td></tr>\n",
              "\t<tr><td>0-17</td><td>Deaths                    </td><td>Other unintentional injury, mechanism unspecified</td><td>   308</td></tr>\n",
              "\t<tr><td>0-17</td><td>Deaths                    </td><td>Intentional self-harm                            </td><td>    NA</td></tr>\n",
              "\t<tr><td>0-17</td><td>Deaths                    </td><td>Assault                                          </td><td>   611</td></tr>\n",
              "\t<tr><td>0-17</td><td>Deaths                    </td><td>Other or no mechanism specified                  </td><td>    61</td></tr>\n",
              "</tbody>\n",
              "</table>\n"
            ],
            "text/markdown": "\nA tibble: 21 × 4\n\n| age &lt;chr&gt; | type &lt;chr&gt; | injury &lt;chr&gt; | estimate &lt;dbl&gt; |\n|---|---|---|---|\n| 0-17 | Emergency Department Visit | Motor Vehicle Crashes                             |  47138 |\n| 0-17 | Emergency Department Visit | Unintentional Falls                               | 397190 |\n| 0-17 | Emergency Department Visit | Unintentionally struck by or against an object    | 229236 |\n| 0-17 | Emergency Department Visit | Other unintentional injury, mechanism unspecified |  55785 |\n| 0-17 | Emergency Department Visit | Intentional self-harm                             |     NA |\n| 0-17 | Emergency Department Visit | Assault                                           |  24360 |\n| 0-17 | Emergency Department Visit | Other or no mechanism specified                   |  57983 |\n| 0-17 | Hospitalizations           | Motor Vehicle Crashes                             |   5830 |\n| 0-17 | Hospitalizations           | Unintentional Falls                               |   7935 |\n| 0-17 | Hospitalizations           | Unintentionally struck by or against an object    |   1985 |\n| 0-17 | Hospitalizations           | Other unintentional injury, mechanism unspecified |   3135 |\n| 0-17 | Hospitalizations           | Intentional self-harm                             |     NA |\n| 0-17 | Hospitalizations           | Assault                                           |   1535 |\n| 0-17 | Hospitalizations           | Other or no mechanism specified                   |   2595 |\n| 0-17 | Deaths                     | Motor Vehicle Crashes                             |    931 |\n| 0-17 | Deaths                     | Unintentional Falls                               |     48 |\n| 0-17 | Deaths                     | Unintentionally struck by or against an object    |     52 |\n| 0-17 | Deaths                     | Other unintentional injury, mechanism unspecified |    308 |\n| 0-17 | Deaths                     | Intentional self-harm                             |     NA |\n| 0-17 | Deaths                     | Assault                                           |    611 |\n| 0-17 | Deaths                     | Other or no mechanism specified                   |     61 |\n\n",
            "text/latex": "A tibble: 21 × 4\n\\begin{tabular}{llll}\n age & type & injury & estimate\\\\\n <chr> & <chr> & <chr> & <dbl>\\\\\n\\hline\n\t 0-17 & Emergency Department Visit & Motor Vehicle Crashes                             &  47138\\\\\n\t 0-17 & Emergency Department Visit & Unintentional Falls                               & 397190\\\\\n\t 0-17 & Emergency Department Visit & Unintentionally struck by or against an object    & 229236\\\\\n\t 0-17 & Emergency Department Visit & Other unintentional injury, mechanism unspecified &  55785\\\\\n\t 0-17 & Emergency Department Visit & Intentional self-harm                             &     NA\\\\\n\t 0-17 & Emergency Department Visit & Assault                                           &  24360\\\\\n\t 0-17 & Emergency Department Visit & Other or no mechanism specified                   &  57983\\\\\n\t 0-17 & Hospitalizations           & Motor Vehicle Crashes                             &   5830\\\\\n\t 0-17 & Hospitalizations           & Unintentional Falls                               &   7935\\\\\n\t 0-17 & Hospitalizations           & Unintentionally struck by or against an object    &   1985\\\\\n\t 0-17 & Hospitalizations           & Other unintentional injury, mechanism unspecified &   3135\\\\\n\t 0-17 & Hospitalizations           & Intentional self-harm                             &     NA\\\\\n\t 0-17 & Hospitalizations           & Assault                                           &   1535\\\\\n\t 0-17 & Hospitalizations           & Other or no mechanism specified                   &   2595\\\\\n\t 0-17 & Deaths                     & Motor Vehicle Crashes                             &    931\\\\\n\t 0-17 & Deaths                     & Unintentional Falls                               &     48\\\\\n\t 0-17 & Deaths                     & Unintentionally struck by or against an object    &     52\\\\\n\t 0-17 & Deaths                     & Other unintentional injury, mechanism unspecified &    308\\\\\n\t 0-17 & Deaths                     & Intentional self-harm                             &     NA\\\\\n\t 0-17 & Deaths                     & Assault                                           &    611\\\\\n\t 0-17 & Deaths                     & Other or no mechanism specified                   &     61\\\\\n\\end{tabular}\n",
            "text/plain": [
              "   age  type                      \n",
              "1  0-17 Emergency Department Visit\n",
              "2  0-17 Emergency Department Visit\n",
              "3  0-17 Emergency Department Visit\n",
              "4  0-17 Emergency Department Visit\n",
              "5  0-17 Emergency Department Visit\n",
              "6  0-17 Emergency Department Visit\n",
              "7  0-17 Emergency Department Visit\n",
              "8  0-17 Hospitalizations          \n",
              "9  0-17 Hospitalizations          \n",
              "10 0-17 Hospitalizations          \n",
              "11 0-17 Hospitalizations          \n",
              "12 0-17 Hospitalizations          \n",
              "13 0-17 Hospitalizations          \n",
              "14 0-17 Hospitalizations          \n",
              "15 0-17 Deaths                    \n",
              "16 0-17 Deaths                    \n",
              "17 0-17 Deaths                    \n",
              "18 0-17 Deaths                    \n",
              "19 0-17 Deaths                    \n",
              "20 0-17 Deaths                    \n",
              "21 0-17 Deaths                    \n",
              "   injury                                            estimate\n",
              "1  Motor Vehicle Crashes                              47138  \n",
              "2  Unintentional Falls                               397190  \n",
              "3  Unintentionally struck by or against an object    229236  \n",
              "4  Other unintentional injury, mechanism unspecified  55785  \n",
              "5  Intentional self-harm                                 NA  \n",
              "6  Assault                                            24360  \n",
              "7  Other or no mechanism specified                    57983  \n",
              "8  Motor Vehicle Crashes                               5830  \n",
              "9  Unintentional Falls                                 7935  \n",
              "10 Unintentionally struck by or against an object      1985  \n",
              "11 Other unintentional injury, mechanism unspecified   3135  \n",
              "12 Intentional self-harm                                 NA  \n",
              "13 Assault                                             1535  \n",
              "14 Other or no mechanism specified                     2595  \n",
              "15 Motor Vehicle Crashes                                931  \n",
              "16 Unintentional Falls                                   48  \n",
              "17 Unintentionally struck by or against an object        52  \n",
              "18 Other unintentional injury, mechanism unspecified    308  \n",
              "19 Intentional self-harm                                 NA  \n",
              "20 Assault                                              611  \n",
              "21 Other or no mechanism specified                       61  "
            ]
          },
          "metadata": {}
        }
      ]
    },
    {
      "cell_type": "code",
      "source": [
        "# aggregation # Group by\n",
        "injuries %>% group_by(type)"
      ],
      "metadata": {
        "colab": {
          "base_uri": "https://localhost:8080/",
          "height": 1000
        },
        "id": "6zs3SWDeuggU",
        "outputId": "2e148fd1-3a9d-439b-8275-c186cf2a55af"
      },
      "execution_count": 15,
      "outputs": [
        {
          "output_type": "display_data",
          "data": {
            "text/html": [
              "<table class=\"dataframe\">\n",
              "<caption>A grouped_df: 231 × 4</caption>\n",
              "<thead>\n",
              "\t<tr><th scope=col>age</th><th scope=col>type</th><th scope=col>injury</th><th scope=col>estimate</th></tr>\n",
              "\t<tr><th scope=col>&lt;chr&gt;</th><th scope=col>&lt;chr&gt;</th><th scope=col>&lt;chr&gt;</th><th scope=col>&lt;dbl&gt;</th></tr>\n",
              "</thead>\n",
              "<tbody>\n",
              "\t<tr><td>0-17 </td><td>Emergency Department Visit</td><td>Motor Vehicle Crashes                            </td><td> 47138</td></tr>\n",
              "\t<tr><td>0-17 </td><td>Emergency Department Visit</td><td>Unintentional Falls                              </td><td>397190</td></tr>\n",
              "\t<tr><td>0-17 </td><td>Emergency Department Visit</td><td>Unintentionally struck by or against an object   </td><td>229236</td></tr>\n",
              "\t<tr><td>0-17 </td><td>Emergency Department Visit</td><td>Other unintentional injury, mechanism unspecified</td><td> 55785</td></tr>\n",
              "\t<tr><td>0-17 </td><td>Emergency Department Visit</td><td>Intentional self-harm                            </td><td>    NA</td></tr>\n",
              "\t<tr><td>0-17 </td><td>Emergency Department Visit</td><td>Assault                                          </td><td> 24360</td></tr>\n",
              "\t<tr><td>0-17 </td><td>Emergency Department Visit</td><td>Other or no mechanism specified                  </td><td> 57983</td></tr>\n",
              "\t<tr><td>0-4  </td><td>Emergency Department Visit</td><td>Motor Vehicle Crashes                            </td><td>  5464</td></tr>\n",
              "\t<tr><td>0-4  </td><td>Emergency Department Visit</td><td>Unintentional Falls                              </td><td>230776</td></tr>\n",
              "\t<tr><td>0-4  </td><td>Emergency Department Visit</td><td>Unintentionally struck by or against an object   </td><td> 53436</td></tr>\n",
              "\t<tr><td>0-4  </td><td>Emergency Department Visit</td><td>Other unintentional injury, mechanism unspecified</td><td> 12007</td></tr>\n",
              "\t<tr><td>0-4  </td><td>Emergency Department Visit</td><td>Intentional self-harm                            </td><td>    NA</td></tr>\n",
              "\t<tr><td>0-4  </td><td>Emergency Department Visit</td><td>Assault                                          </td><td>   674</td></tr>\n",
              "\t<tr><td>0-4  </td><td>Emergency Department Visit</td><td>Other or no mechanism specified                  </td><td> 19360</td></tr>\n",
              "\t<tr><td>5-14 </td><td>Emergency Department Visit</td><td>Motor Vehicle Crashes                            </td><td> 19785</td></tr>\n",
              "\t<tr><td>5-14 </td><td>Emergency Department Visit</td><td>Unintentional Falls                              </td><td>133084</td></tr>\n",
              "\t<tr><td>5-14 </td><td>Emergency Department Visit</td><td>Unintentionally struck by or against an object   </td><td>120839</td></tr>\n",
              "\t<tr><td>5-14 </td><td>Emergency Department Visit</td><td>Other unintentional injury, mechanism unspecified</td><td> 30656</td></tr>\n",
              "\t<tr><td>5-14 </td><td>Emergency Department Visit</td><td>Intentional self-harm                            </td><td>    NA</td></tr>\n",
              "\t<tr><td>5-14 </td><td>Emergency Department Visit</td><td>Assault                                          </td><td>  9690</td></tr>\n",
              "\t<tr><td>5-14 </td><td>Emergency Department Visit</td><td>Other or no mechanism specified                  </td><td> 26022</td></tr>\n",
              "\t<tr><td>15-24</td><td>Emergency Department Visit</td><td>Motor Vehicle Crashes                            </td><td>103892</td></tr>\n",
              "\t<tr><td>15-24</td><td>Emergency Department Visit</td><td>Unintentional Falls                              </td><td> 96568</td></tr>\n",
              "\t<tr><td>15-24</td><td>Emergency Department Visit</td><td>Unintentionally struck by or against an object   </td><td>106679</td></tr>\n",
              "\t<tr><td>15-24</td><td>Emergency Department Visit</td><td>Other unintentional injury, mechanism unspecified</td><td> 37118</td></tr>\n",
              "\t<tr><td>15-24</td><td>Emergency Department Visit</td><td>Intentional self-harm                            </td><td>   870</td></tr>\n",
              "\t<tr><td>15-24</td><td>Emergency Department Visit</td><td>Assault                                          </td><td> 65399</td></tr>\n",
              "\t<tr><td>15-24</td><td>Emergency Department Visit</td><td>Other or no mechanism specified                  </td><td> 33395</td></tr>\n",
              "\t<tr><td>25-34</td><td>Emergency Department Visit</td><td>Motor Vehicle Crashes                            </td><td> 71641</td></tr>\n",
              "\t<tr><td>25-34</td><td>Emergency Department Visit</td><td>Unintentional Falls                              </td><td> 70210</td></tr>\n",
              "\t<tr><td>⋮</td><td>⋮</td><td>⋮</td><td>⋮</td></tr>\n",
              "\t<tr><td>45-54</td><td>Deaths</td><td>Assault                                          </td><td>  633</td></tr>\n",
              "\t<tr><td>45-54</td><td>Deaths</td><td>Other or no mechanism specified                  </td><td>  297</td></tr>\n",
              "\t<tr><td>55-64</td><td>Deaths</td><td>Motor Vehicle Crashes                            </td><td> 1287</td></tr>\n",
              "\t<tr><td>55-64</td><td>Deaths</td><td>Unintentional Falls                              </td><td> 1674</td></tr>\n",
              "\t<tr><td>55-64</td><td>Deaths</td><td>Unintentionally struck by or against an object   </td><td>   70</td></tr>\n",
              "\t<tr><td>55-64</td><td>Deaths</td><td>Other unintentional injury, mechanism unspecified</td><td>  585</td></tr>\n",
              "\t<tr><td>55-64</td><td>Deaths</td><td>Intentional self-harm                            </td><td> 3233</td></tr>\n",
              "\t<tr><td>55-64</td><td>Deaths</td><td>Assault                                          </td><td>  410</td></tr>\n",
              "\t<tr><td>55-64</td><td>Deaths</td><td>Other or no mechanism specified                  </td><td>  393</td></tr>\n",
              "\t<tr><td>65-74</td><td>Deaths</td><td>Motor Vehicle Crashes                            </td><td>  797</td></tr>\n",
              "\t<tr><td>65-74</td><td>Deaths</td><td>Unintentional Falls                              </td><td> 2324</td></tr>\n",
              "\t<tr><td>65-74</td><td>Deaths</td><td>Unintentionally struck by or against an object   </td><td>   60</td></tr>\n",
              "\t<tr><td>65-74</td><td>Deaths</td><td>Other unintentional injury, mechanism unspecified</td><td>  504</td></tr>\n",
              "\t<tr><td>65-74</td><td>Deaths</td><td>Intentional self-harm                            </td><td> 2244</td></tr>\n",
              "\t<tr><td>65-74</td><td>Deaths</td><td>Assault                                          </td><td>  241</td></tr>\n",
              "\t<tr><td>65-74</td><td>Deaths</td><td>Other or no mechanism specified                  </td><td>  356</td></tr>\n",
              "\t<tr><td>75+  </td><td>Deaths</td><td>Motor Vehicle Crashes                            </td><td>  794</td></tr>\n",
              "\t<tr><td>75+  </td><td>Deaths</td><td>Unintentional Falls                              </td><td>10400</td></tr>\n",
              "\t<tr><td>75+  </td><td>Deaths</td><td>Unintentionally struck by or against an object   </td><td>   44</td></tr>\n",
              "\t<tr><td>75+  </td><td>Deaths</td><td>Other unintentional injury, mechanism unspecified</td><td>  859</td></tr>\n",
              "\t<tr><td>75+  </td><td>Deaths</td><td>Intentional self-harm                            </td><td> 2212</td></tr>\n",
              "\t<tr><td>75+  </td><td>Deaths</td><td>Assault                                          </td><td>  174</td></tr>\n",
              "\t<tr><td>75+  </td><td>Deaths</td><td>Other or no mechanism specified                  </td><td> 1079</td></tr>\n",
              "\t<tr><td>Total</td><td>Deaths</td><td>Motor Vehicle Crashes                            </td><td>10656</td></tr>\n",
              "\t<tr><td>Total</td><td>Deaths</td><td>Unintentional Falls                              </td><td>15939</td></tr>\n",
              "\t<tr><td>Total</td><td>Deaths</td><td>Unintentionally struck by or against an object   </td><td>  378</td></tr>\n",
              "\t<tr><td>Total</td><td>Deaths</td><td>Other unintentional injury, mechanism unspecified</td><td> 3889</td></tr>\n",
              "\t<tr><td>Total</td><td>Deaths</td><td>Intentional self-harm                            </td><td>18485</td></tr>\n",
              "\t<tr><td>Total</td><td>Deaths</td><td>Assault                                          </td><td> 4906</td></tr>\n",
              "\t<tr><td>Total</td><td>Deaths</td><td>Other or no mechanism specified                  </td><td> 2547</td></tr>\n",
              "</tbody>\n",
              "</table>\n"
            ],
            "text/markdown": "\nA grouped_df: 231 × 4\n\n| age &lt;chr&gt; | type &lt;chr&gt; | injury &lt;chr&gt; | estimate &lt;dbl&gt; |\n|---|---|---|---|\n| 0-17  | Emergency Department Visit | Motor Vehicle Crashes                             |  47138 |\n| 0-17  | Emergency Department Visit | Unintentional Falls                               | 397190 |\n| 0-17  | Emergency Department Visit | Unintentionally struck by or against an object    | 229236 |\n| 0-17  | Emergency Department Visit | Other unintentional injury, mechanism unspecified |  55785 |\n| 0-17  | Emergency Department Visit | Intentional self-harm                             |     NA |\n| 0-17  | Emergency Department Visit | Assault                                           |  24360 |\n| 0-17  | Emergency Department Visit | Other or no mechanism specified                   |  57983 |\n| 0-4   | Emergency Department Visit | Motor Vehicle Crashes                             |   5464 |\n| 0-4   | Emergency Department Visit | Unintentional Falls                               | 230776 |\n| 0-4   | Emergency Department Visit | Unintentionally struck by or against an object    |  53436 |\n| 0-4   | Emergency Department Visit | Other unintentional injury, mechanism unspecified |  12007 |\n| 0-4   | Emergency Department Visit | Intentional self-harm                             |     NA |\n| 0-4   | Emergency Department Visit | Assault                                           |    674 |\n| 0-4   | Emergency Department Visit | Other or no mechanism specified                   |  19360 |\n| 5-14  | Emergency Department Visit | Motor Vehicle Crashes                             |  19785 |\n| 5-14  | Emergency Department Visit | Unintentional Falls                               | 133084 |\n| 5-14  | Emergency Department Visit | Unintentionally struck by or against an object    | 120839 |\n| 5-14  | Emergency Department Visit | Other unintentional injury, mechanism unspecified |  30656 |\n| 5-14  | Emergency Department Visit | Intentional self-harm                             |     NA |\n| 5-14  | Emergency Department Visit | Assault                                           |   9690 |\n| 5-14  | Emergency Department Visit | Other or no mechanism specified                   |  26022 |\n| 15-24 | Emergency Department Visit | Motor Vehicle Crashes                             | 103892 |\n| 15-24 | Emergency Department Visit | Unintentional Falls                               |  96568 |\n| 15-24 | Emergency Department Visit | Unintentionally struck by or against an object    | 106679 |\n| 15-24 | Emergency Department Visit | Other unintentional injury, mechanism unspecified |  37118 |\n| 15-24 | Emergency Department Visit | Intentional self-harm                             |    870 |\n| 15-24 | Emergency Department Visit | Assault                                           |  65399 |\n| 15-24 | Emergency Department Visit | Other or no mechanism specified                   |  33395 |\n| 25-34 | Emergency Department Visit | Motor Vehicle Crashes                             |  71641 |\n| 25-34 | Emergency Department Visit | Unintentional Falls                               |  70210 |\n| ⋮ | ⋮ | ⋮ | ⋮ |\n| 45-54 | Deaths | Assault                                           |   633 |\n| 45-54 | Deaths | Other or no mechanism specified                   |   297 |\n| 55-64 | Deaths | Motor Vehicle Crashes                             |  1287 |\n| 55-64 | Deaths | Unintentional Falls                               |  1674 |\n| 55-64 | Deaths | Unintentionally struck by or against an object    |    70 |\n| 55-64 | Deaths | Other unintentional injury, mechanism unspecified |   585 |\n| 55-64 | Deaths | Intentional self-harm                             |  3233 |\n| 55-64 | Deaths | Assault                                           |   410 |\n| 55-64 | Deaths | Other or no mechanism specified                   |   393 |\n| 65-74 | Deaths | Motor Vehicle Crashes                             |   797 |\n| 65-74 | Deaths | Unintentional Falls                               |  2324 |\n| 65-74 | Deaths | Unintentionally struck by or against an object    |    60 |\n| 65-74 | Deaths | Other unintentional injury, mechanism unspecified |   504 |\n| 65-74 | Deaths | Intentional self-harm                             |  2244 |\n| 65-74 | Deaths | Assault                                           |   241 |\n| 65-74 | Deaths | Other or no mechanism specified                   |   356 |\n| 75+   | Deaths | Motor Vehicle Crashes                             |   794 |\n| 75+   | Deaths | Unintentional Falls                               | 10400 |\n| 75+   | Deaths | Unintentionally struck by or against an object    |    44 |\n| 75+   | Deaths | Other unintentional injury, mechanism unspecified |   859 |\n| 75+   | Deaths | Intentional self-harm                             |  2212 |\n| 75+   | Deaths | Assault                                           |   174 |\n| 75+   | Deaths | Other or no mechanism specified                   |  1079 |\n| Total | Deaths | Motor Vehicle Crashes                             | 10656 |\n| Total | Deaths | Unintentional Falls                               | 15939 |\n| Total | Deaths | Unintentionally struck by or against an object    |   378 |\n| Total | Deaths | Other unintentional injury, mechanism unspecified |  3889 |\n| Total | Deaths | Intentional self-harm                             | 18485 |\n| Total | Deaths | Assault                                           |  4906 |\n| Total | Deaths | Other or no mechanism specified                   |  2547 |\n\n",
            "text/latex": "A grouped\\_df: 231 × 4\n\\begin{tabular}{llll}\n age & type & injury & estimate\\\\\n <chr> & <chr> & <chr> & <dbl>\\\\\n\\hline\n\t 0-17  & Emergency Department Visit & Motor Vehicle Crashes                             &  47138\\\\\n\t 0-17  & Emergency Department Visit & Unintentional Falls                               & 397190\\\\\n\t 0-17  & Emergency Department Visit & Unintentionally struck by or against an object    & 229236\\\\\n\t 0-17  & Emergency Department Visit & Other unintentional injury, mechanism unspecified &  55785\\\\\n\t 0-17  & Emergency Department Visit & Intentional self-harm                             &     NA\\\\\n\t 0-17  & Emergency Department Visit & Assault                                           &  24360\\\\\n\t 0-17  & Emergency Department Visit & Other or no mechanism specified                   &  57983\\\\\n\t 0-4   & Emergency Department Visit & Motor Vehicle Crashes                             &   5464\\\\\n\t 0-4   & Emergency Department Visit & Unintentional Falls                               & 230776\\\\\n\t 0-4   & Emergency Department Visit & Unintentionally struck by or against an object    &  53436\\\\\n\t 0-4   & Emergency Department Visit & Other unintentional injury, mechanism unspecified &  12007\\\\\n\t 0-4   & Emergency Department Visit & Intentional self-harm                             &     NA\\\\\n\t 0-4   & Emergency Department Visit & Assault                                           &    674\\\\\n\t 0-4   & Emergency Department Visit & Other or no mechanism specified                   &  19360\\\\\n\t 5-14  & Emergency Department Visit & Motor Vehicle Crashes                             &  19785\\\\\n\t 5-14  & Emergency Department Visit & Unintentional Falls                               & 133084\\\\\n\t 5-14  & Emergency Department Visit & Unintentionally struck by or against an object    & 120839\\\\\n\t 5-14  & Emergency Department Visit & Other unintentional injury, mechanism unspecified &  30656\\\\\n\t 5-14  & Emergency Department Visit & Intentional self-harm                             &     NA\\\\\n\t 5-14  & Emergency Department Visit & Assault                                           &   9690\\\\\n\t 5-14  & Emergency Department Visit & Other or no mechanism specified                   &  26022\\\\\n\t 15-24 & Emergency Department Visit & Motor Vehicle Crashes                             & 103892\\\\\n\t 15-24 & Emergency Department Visit & Unintentional Falls                               &  96568\\\\\n\t 15-24 & Emergency Department Visit & Unintentionally struck by or against an object    & 106679\\\\\n\t 15-24 & Emergency Department Visit & Other unintentional injury, mechanism unspecified &  37118\\\\\n\t 15-24 & Emergency Department Visit & Intentional self-harm                             &    870\\\\\n\t 15-24 & Emergency Department Visit & Assault                                           &  65399\\\\\n\t 15-24 & Emergency Department Visit & Other or no mechanism specified                   &  33395\\\\\n\t 25-34 & Emergency Department Visit & Motor Vehicle Crashes                             &  71641\\\\\n\t 25-34 & Emergency Department Visit & Unintentional Falls                               &  70210\\\\\n\t ⋮ & ⋮ & ⋮ & ⋮\\\\\n\t 45-54 & Deaths & Assault                                           &   633\\\\\n\t 45-54 & Deaths & Other or no mechanism specified                   &   297\\\\\n\t 55-64 & Deaths & Motor Vehicle Crashes                             &  1287\\\\\n\t 55-64 & Deaths & Unintentional Falls                               &  1674\\\\\n\t 55-64 & Deaths & Unintentionally struck by or against an object    &    70\\\\\n\t 55-64 & Deaths & Other unintentional injury, mechanism unspecified &   585\\\\\n\t 55-64 & Deaths & Intentional self-harm                             &  3233\\\\\n\t 55-64 & Deaths & Assault                                           &   410\\\\\n\t 55-64 & Deaths & Other or no mechanism specified                   &   393\\\\\n\t 65-74 & Deaths & Motor Vehicle Crashes                             &   797\\\\\n\t 65-74 & Deaths & Unintentional Falls                               &  2324\\\\\n\t 65-74 & Deaths & Unintentionally struck by or against an object    &    60\\\\\n\t 65-74 & Deaths & Other unintentional injury, mechanism unspecified &   504\\\\\n\t 65-74 & Deaths & Intentional self-harm                             &  2244\\\\\n\t 65-74 & Deaths & Assault                                           &   241\\\\\n\t 65-74 & Deaths & Other or no mechanism specified                   &   356\\\\\n\t 75+   & Deaths & Motor Vehicle Crashes                             &   794\\\\\n\t 75+   & Deaths & Unintentional Falls                               & 10400\\\\\n\t 75+   & Deaths & Unintentionally struck by or against an object    &    44\\\\\n\t 75+   & Deaths & Other unintentional injury, mechanism unspecified &   859\\\\\n\t 75+   & Deaths & Intentional self-harm                             &  2212\\\\\n\t 75+   & Deaths & Assault                                           &   174\\\\\n\t 75+   & Deaths & Other or no mechanism specified                   &  1079\\\\\n\t Total & Deaths & Motor Vehicle Crashes                             & 10656\\\\\n\t Total & Deaths & Unintentional Falls                               & 15939\\\\\n\t Total & Deaths & Unintentionally struck by or against an object    &   378\\\\\n\t Total & Deaths & Other unintentional injury, mechanism unspecified &  3889\\\\\n\t Total & Deaths & Intentional self-harm                             & 18485\\\\\n\t Total & Deaths & Assault                                           &  4906\\\\\n\t Total & Deaths & Other or no mechanism specified                   &  2547\\\\\n\\end{tabular}\n",
            "text/plain": [
              "    age   type                      \n",
              "1   0-17  Emergency Department Visit\n",
              "2   0-17  Emergency Department Visit\n",
              "3   0-17  Emergency Department Visit\n",
              "4   0-17  Emergency Department Visit\n",
              "5   0-17  Emergency Department Visit\n",
              "6   0-17  Emergency Department Visit\n",
              "7   0-17  Emergency Department Visit\n",
              "8   0-4   Emergency Department Visit\n",
              "9   0-4   Emergency Department Visit\n",
              "10  0-4   Emergency Department Visit\n",
              "11  0-4   Emergency Department Visit\n",
              "12  0-4   Emergency Department Visit\n",
              "13  0-4   Emergency Department Visit\n",
              "14  0-4   Emergency Department Visit\n",
              "15  5-14  Emergency Department Visit\n",
              "16  5-14  Emergency Department Visit\n",
              "17  5-14  Emergency Department Visit\n",
              "18  5-14  Emergency Department Visit\n",
              "19  5-14  Emergency Department Visit\n",
              "20  5-14  Emergency Department Visit\n",
              "21  5-14  Emergency Department Visit\n",
              "22  15-24 Emergency Department Visit\n",
              "23  15-24 Emergency Department Visit\n",
              "24  15-24 Emergency Department Visit\n",
              "25  15-24 Emergency Department Visit\n",
              "26  15-24 Emergency Department Visit\n",
              "27  15-24 Emergency Department Visit\n",
              "28  15-24 Emergency Department Visit\n",
              "29  25-34 Emergency Department Visit\n",
              "30  25-34 Emergency Department Visit\n",
              "⋮   ⋮     ⋮                         \n",
              "202 45-54 Deaths                    \n",
              "203 45-54 Deaths                    \n",
              "204 55-64 Deaths                    \n",
              "205 55-64 Deaths                    \n",
              "206 55-64 Deaths                    \n",
              "207 55-64 Deaths                    \n",
              "208 55-64 Deaths                    \n",
              "209 55-64 Deaths                    \n",
              "210 55-64 Deaths                    \n",
              "211 65-74 Deaths                    \n",
              "212 65-74 Deaths                    \n",
              "213 65-74 Deaths                    \n",
              "214 65-74 Deaths                    \n",
              "215 65-74 Deaths                    \n",
              "216 65-74 Deaths                    \n",
              "217 65-74 Deaths                    \n",
              "218 75+   Deaths                    \n",
              "219 75+   Deaths                    \n",
              "220 75+   Deaths                    \n",
              "221 75+   Deaths                    \n",
              "222 75+   Deaths                    \n",
              "223 75+   Deaths                    \n",
              "224 75+   Deaths                    \n",
              "225 Total Deaths                    \n",
              "226 Total Deaths                    \n",
              "227 Total Deaths                    \n",
              "228 Total Deaths                    \n",
              "229 Total Deaths                    \n",
              "230 Total Deaths                    \n",
              "231 Total Deaths                    \n",
              "    injury                                            estimate\n",
              "1   Motor Vehicle Crashes                              47138  \n",
              "2   Unintentional Falls                               397190  \n",
              "3   Unintentionally struck by or against an object    229236  \n",
              "4   Other unintentional injury, mechanism unspecified  55785  \n",
              "5   Intentional self-harm                                 NA  \n",
              "6   Assault                                            24360  \n",
              "7   Other or no mechanism specified                    57983  \n",
              "8   Motor Vehicle Crashes                               5464  \n",
              "9   Unintentional Falls                               230776  \n",
              "10  Unintentionally struck by or against an object     53436  \n",
              "11  Other unintentional injury, mechanism unspecified  12007  \n",
              "12  Intentional self-harm                                 NA  \n",
              "13  Assault                                              674  \n",
              "14  Other or no mechanism specified                    19360  \n",
              "15  Motor Vehicle Crashes                              19785  \n",
              "16  Unintentional Falls                               133084  \n",
              "17  Unintentionally struck by or against an object    120839  \n",
              "18  Other unintentional injury, mechanism unspecified  30656  \n",
              "19  Intentional self-harm                                 NA  \n",
              "20  Assault                                             9690  \n",
              "21  Other or no mechanism specified                    26022  \n",
              "22  Motor Vehicle Crashes                             103892  \n",
              "23  Unintentional Falls                                96568  \n",
              "24  Unintentionally struck by or against an object    106679  \n",
              "25  Other unintentional injury, mechanism unspecified  37118  \n",
              "26  Intentional self-harm                                870  \n",
              "27  Assault                                            65399  \n",
              "28  Other or no mechanism specified                    33395  \n",
              "29  Motor Vehicle Crashes                              71641  \n",
              "30  Unintentional Falls                                70210  \n",
              "⋮   ⋮                                                 ⋮       \n",
              "202 Assault                                             633   \n",
              "203 Other or no mechanism specified                     297   \n",
              "204 Motor Vehicle Crashes                              1287   \n",
              "205 Unintentional Falls                                1674   \n",
              "206 Unintentionally struck by or against an object       70   \n",
              "207 Other unintentional injury, mechanism unspecified   585   \n",
              "208 Intentional self-harm                              3233   \n",
              "209 Assault                                             410   \n",
              "210 Other or no mechanism specified                     393   \n",
              "211 Motor Vehicle Crashes                               797   \n",
              "212 Unintentional Falls                                2324   \n",
              "213 Unintentionally struck by or against an object       60   \n",
              "214 Other unintentional injury, mechanism unspecified   504   \n",
              "215 Intentional self-harm                              2244   \n",
              "216 Assault                                             241   \n",
              "217 Other or no mechanism specified                     356   \n",
              "218 Motor Vehicle Crashes                               794   \n",
              "219 Unintentional Falls                               10400   \n",
              "220 Unintentionally struck by or against an object       44   \n",
              "221 Other unintentional injury, mechanism unspecified   859   \n",
              "222 Intentional self-harm                              2212   \n",
              "223 Assault                                             174   \n",
              "224 Other or no mechanism specified                    1079   \n",
              "225 Motor Vehicle Crashes                             10656   \n",
              "226 Unintentional Falls                               15939   \n",
              "227 Unintentionally struck by or against an object      378   \n",
              "228 Other unintentional injury, mechanism unspecified  3889   \n",
              "229 Intentional self-harm                             18485   \n",
              "230 Assault                                            4906   \n",
              "231 Other or no mechanism specified                    2547   "
            ]
          },
          "metadata": {}
        }
      ]
    },
    {
      "cell_type": "code",
      "source": [
        "injuries %>% group_by(type) %>% summarize(total=sum(estimate, na.rm=TRUE)) # missing values also has been handled"
      ],
      "metadata": {
        "colab": {
          "base_uri": "https://localhost:8080/",
          "height": 192
        },
        "id": "OYxkMfycuymc",
        "outputId": "46b0e7de-1b0d-47b2-d2c4-db26950044cc"
      },
      "execution_count": 16,
      "outputs": [
        {
          "output_type": "display_data",
          "data": {
            "text/html": [
              "<table class=\"dataframe\">\n",
              "<caption>A tibble: 3 × 2</caption>\n",
              "<thead>\n",
              "\t<tr><th scope=col>type</th><th scope=col>total</th></tr>\n",
              "\t<tr><th scope=col>&lt;chr&gt;</th><th scope=col>&lt;dbl&gt;</th></tr>\n",
              "</thead>\n",
              "<tbody>\n",
              "\t<tr><td>Deaths                    </td><td> 115442</td></tr>\n",
              "\t<tr><td>Emergency Department Visit</td><td>5876203</td></tr>\n",
              "\t<tr><td>Hospitalizations          </td><td> 599685</td></tr>\n",
              "</tbody>\n",
              "</table>\n"
            ],
            "text/markdown": "\nA tibble: 3 × 2\n\n| type &lt;chr&gt; | total &lt;dbl&gt; |\n|---|---|\n| Deaths                     |  115442 |\n| Emergency Department Visit | 5876203 |\n| Hospitalizations           |  599685 |\n\n",
            "text/latex": "A tibble: 3 × 2\n\\begin{tabular}{ll}\n type & total\\\\\n <chr> & <dbl>\\\\\n\\hline\n\t Deaths                     &  115442\\\\\n\t Emergency Department Visit & 5876203\\\\\n\t Hospitalizations           &  599685\\\\\n\\end{tabular}\n",
            "text/plain": [
              "  type                       total  \n",
              "1 Deaths                      115442\n",
              "2 Emergency Department Visit 5876203\n",
              "3 Hospitalizations            599685"
            ]
          },
          "metadata": {}
        }
      ]
    },
    {
      "cell_type": "markdown",
      "source": [
        "## **Pivot data in R, into wide and long format**\n",
        "\n",
        "* We need to pivot data to get data in different format.\n",
        "\n",
        "* We will need to make the data into tidy data format.\n",
        "\n",
        "* Tidy data is a way of organizing datasets so they are easier to work with in R (especially with the tidyverse).\n",
        "\n"
      ],
      "metadata": {
        "id": "T4HvKFkhv9fD"
      }
    },
    {
      "cell_type": "markdown",
      "source": [
        "### **3 principles of tidy data**\n",
        "\n",
        "* Each variable forms a column\n",
        "\n",
        "  * Example: age, type, injury, estimate should each be their own columns.\n",
        "\n",
        "* Each observation forms a row\n",
        "\n",
        "  * Example: One row represents one unique case, like 0-17 | Emergency Department Visit | Motor Vehicle Crashes | 47138.\n",
        "\n",
        "* Each value forms a single cell\n",
        "\n",
        "  * Each cell contains just one value, not multiple values combined."
      ],
      "metadata": {
        "id": "36z5TBmqy-Yu"
      }
    },
    {
      "cell_type": "markdown",
      "source": [
        "### Example of Tidy vs Messy Data\n",
        "\n",
        "**Messy data (wide format):**\n",
        "\n",
        "| age  | Motor Vehicle Crashes | Unintentional Falls | Assault |\n",
        "|------|------------------------|---------------------|---------|\n",
        "| 0-17 | 47138                  | 397190              | 24360   |\n",
        "\n",
        "---\n",
        "\n",
        "**Tidy data (long format):**\n",
        "\n",
        "| age  | injury                  | estimate |\n",
        "|------|-------------------------|----------|\n",
        "| 0-17 | Motor Vehicle Crashes   | 47138    |\n",
        "| 0-17 | Unintentional Falls     | 397190   |\n",
        "| 0-17 | Assault                 | 24360    |"
      ],
      "metadata": {
        "id": "kDLZN4MFy2Gc"
      }
    },
    {
      "cell_type": "code",
      "source": [
        "# We are using dataset from tidyverse\n",
        "head(relig_income) # This is not tidy data"
      ],
      "metadata": {
        "colab": {
          "base_uri": "https://localhost:8080/",
          "height": 358
        },
        "id": "q6IKbW5uwFiW",
        "outputId": "9e43afba-8da2-49d8-8b61-f7c67f82718a"
      },
      "execution_count": 17,
      "outputs": [
        {
          "output_type": "display_data",
          "data": {
            "text/html": [
              "<table class=\"dataframe\">\n",
              "<caption>A tibble: 6 × 11</caption>\n",
              "<thead>\n",
              "\t<tr><th scope=col>religion</th><th scope=col>&lt;$10k</th><th scope=col>$10-20k</th><th scope=col>$20-30k</th><th scope=col>$30-40k</th><th scope=col>$40-50k</th><th scope=col>$50-75k</th><th scope=col>$75-100k</th><th scope=col>$100-150k</th><th scope=col>&gt;150k</th><th scope=col>Don't know/refused</th></tr>\n",
              "\t<tr><th scope=col>&lt;chr&gt;</th><th scope=col>&lt;dbl&gt;</th><th scope=col>&lt;dbl&gt;</th><th scope=col>&lt;dbl&gt;</th><th scope=col>&lt;dbl&gt;</th><th scope=col>&lt;dbl&gt;</th><th scope=col>&lt;dbl&gt;</th><th scope=col>&lt;dbl&gt;</th><th scope=col>&lt;dbl&gt;</th><th scope=col>&lt;dbl&gt;</th><th scope=col>&lt;dbl&gt;</th></tr>\n",
              "</thead>\n",
              "<tbody>\n",
              "\t<tr><td>Agnostic          </td><td> 27</td><td> 34</td><td>  60</td><td> 81</td><td> 76</td><td> 137</td><td>122</td><td>109</td><td> 84</td><td>  96</td></tr>\n",
              "\t<tr><td>Atheist           </td><td> 12</td><td> 27</td><td>  37</td><td> 52</td><td> 35</td><td>  70</td><td> 73</td><td> 59</td><td> 74</td><td>  76</td></tr>\n",
              "\t<tr><td>Buddhist          </td><td> 27</td><td> 21</td><td>  30</td><td> 34</td><td> 33</td><td>  58</td><td> 62</td><td> 39</td><td> 53</td><td>  54</td></tr>\n",
              "\t<tr><td>Catholic          </td><td>418</td><td>617</td><td> 732</td><td>670</td><td>638</td><td>1116</td><td>949</td><td>792</td><td>633</td><td>1489</td></tr>\n",
              "\t<tr><td>Don’t know/refused</td><td> 15</td><td> 14</td><td>  15</td><td> 11</td><td> 10</td><td>  35</td><td> 21</td><td> 17</td><td> 18</td><td> 116</td></tr>\n",
              "\t<tr><td>Evangelical Prot  </td><td>575</td><td>869</td><td>1064</td><td>982</td><td>881</td><td>1486</td><td>949</td><td>723</td><td>414</td><td>1529</td></tr>\n",
              "</tbody>\n",
              "</table>\n"
            ],
            "text/markdown": "\nA tibble: 6 × 11\n\n| religion &lt;chr&gt; | &lt;$10k &lt;dbl&gt; | $10-20k &lt;dbl&gt; | $20-30k &lt;dbl&gt; | $30-40k &lt;dbl&gt; | $40-50k &lt;dbl&gt; | $50-75k &lt;dbl&gt; | $75-100k &lt;dbl&gt; | $100-150k &lt;dbl&gt; | &gt;150k &lt;dbl&gt; | Don't know/refused &lt;dbl&gt; |\n|---|---|---|---|---|---|---|---|---|---|---|\n| Agnostic           |  27 |  34 |   60 |  81 |  76 |  137 | 122 | 109 |  84 |   96 |\n| Atheist            |  12 |  27 |   37 |  52 |  35 |   70 |  73 |  59 |  74 |   76 |\n| Buddhist           |  27 |  21 |   30 |  34 |  33 |   58 |  62 |  39 |  53 |   54 |\n| Catholic           | 418 | 617 |  732 | 670 | 638 | 1116 | 949 | 792 | 633 | 1489 |\n| Don’t know/refused |  15 |  14 |   15 |  11 |  10 |   35 |  21 |  17 |  18 |  116 |\n| Evangelical Prot   | 575 | 869 | 1064 | 982 | 881 | 1486 | 949 | 723 | 414 | 1529 |\n\n",
            "text/latex": "A tibble: 6 × 11\n\\begin{tabular}{lllllllllll}\n religion & <\\$10k & \\$10-20k & \\$20-30k & \\$30-40k & \\$40-50k & \\$50-75k & \\$75-100k & \\$100-150k & >150k & Don't know/refused\\\\\n <chr> & <dbl> & <dbl> & <dbl> & <dbl> & <dbl> & <dbl> & <dbl> & <dbl> & <dbl> & <dbl>\\\\\n\\hline\n\t Agnostic           &  27 &  34 &   60 &  81 &  76 &  137 & 122 & 109 &  84 &   96\\\\\n\t Atheist            &  12 &  27 &   37 &  52 &  35 &   70 &  73 &  59 &  74 &   76\\\\\n\t Buddhist           &  27 &  21 &   30 &  34 &  33 &   58 &  62 &  39 &  53 &   54\\\\\n\t Catholic           & 418 & 617 &  732 & 670 & 638 & 1116 & 949 & 792 & 633 & 1489\\\\\n\t Don’t know/refused &  15 &  14 &   15 &  11 &  10 &   35 &  21 &  17 &  18 &  116\\\\\n\t Evangelical Prot   & 575 & 869 & 1064 & 982 & 881 & 1486 & 949 & 723 & 414 & 1529\\\\\n\\end{tabular}\n",
            "text/plain": [
              "  religion           <$10k $10-20k $20-30k $30-40k $40-50k $50-75k $75-100k\n",
              "1 Agnostic            27    34       60     81      76      137    122     \n",
              "2 Atheist             12    27       37     52      35       70     73     \n",
              "3 Buddhist            27    21       30     34      33       58     62     \n",
              "4 Catholic           418   617      732    670     638     1116    949     \n",
              "5 Don’t know/refused  15    14       15     11      10       35     21     \n",
              "6 Evangelical Prot   575   869     1064    982     881     1486    949     \n",
              "  $100-150k >150k Don't know/refused\n",
              "1 109        84     96              \n",
              "2  59        74     76              \n",
              "3  39        53     54              \n",
              "4 792       633   1489              \n",
              "5  17        18    116              \n",
              "6 723       414   1529              "
            ]
          },
          "metadata": {}
        }
      ]
    },
    {
      "cell_type": "code",
      "source": [
        "# Convert wide format into long format\n",
        "relig_income %>% pivot_longer(!religion) # Pivot all but not religion"
      ],
      "metadata": {
        "colab": {
          "base_uri": "https://localhost:8080/",
          "height": 1000
        },
        "id": "2IHpe-dtzucZ",
        "outputId": "6e8ead75-685f-4dde-8a41-5955f2994532"
      },
      "execution_count": 18,
      "outputs": [
        {
          "output_type": "display_data",
          "data": {
            "text/html": [
              "<table class=\"dataframe\">\n",
              "<caption>A tibble: 180 × 3</caption>\n",
              "<thead>\n",
              "\t<tr><th scope=col>religion</th><th scope=col>name</th><th scope=col>value</th></tr>\n",
              "\t<tr><th scope=col>&lt;chr&gt;</th><th scope=col>&lt;chr&gt;</th><th scope=col>&lt;dbl&gt;</th></tr>\n",
              "</thead>\n",
              "<tbody>\n",
              "\t<tr><td>Agnostic</td><td><span style=white-space:pre-wrap>&lt;$10k             </span></td><td> 27</td></tr>\n",
              "\t<tr><td>Agnostic</td><td>$10-20k           </td><td> 34</td></tr>\n",
              "\t<tr><td>Agnostic</td><td>$20-30k           </td><td> 60</td></tr>\n",
              "\t<tr><td>Agnostic</td><td>$30-40k           </td><td> 81</td></tr>\n",
              "\t<tr><td>Agnostic</td><td>$40-50k           </td><td> 76</td></tr>\n",
              "\t<tr><td>Agnostic</td><td>$50-75k           </td><td>137</td></tr>\n",
              "\t<tr><td>Agnostic</td><td>$75-100k          </td><td>122</td></tr>\n",
              "\t<tr><td>Agnostic</td><td>$100-150k         </td><td>109</td></tr>\n",
              "\t<tr><td>Agnostic</td><td><span style=white-space:pre-wrap>&gt;150k             </span></td><td> 84</td></tr>\n",
              "\t<tr><td>Agnostic</td><td>Don't know/refused</td><td> 96</td></tr>\n",
              "\t<tr><td>Atheist </td><td><span style=white-space:pre-wrap>&lt;$10k             </span></td><td> 12</td></tr>\n",
              "\t<tr><td>Atheist </td><td>$10-20k           </td><td> 27</td></tr>\n",
              "\t<tr><td>Atheist </td><td>$20-30k           </td><td> 37</td></tr>\n",
              "\t<tr><td>Atheist </td><td>$30-40k           </td><td> 52</td></tr>\n",
              "\t<tr><td>Atheist </td><td>$40-50k           </td><td> 35</td></tr>\n",
              "\t<tr><td>Atheist </td><td>$50-75k           </td><td> 70</td></tr>\n",
              "\t<tr><td>Atheist </td><td>$75-100k          </td><td> 73</td></tr>\n",
              "\t<tr><td>Atheist </td><td>$100-150k         </td><td> 59</td></tr>\n",
              "\t<tr><td>Atheist </td><td><span style=white-space:pre-wrap>&gt;150k             </span></td><td> 74</td></tr>\n",
              "\t<tr><td>Atheist </td><td>Don't know/refused</td><td> 76</td></tr>\n",
              "\t<tr><td>Buddhist</td><td><span style=white-space:pre-wrap>&lt;$10k             </span></td><td> 27</td></tr>\n",
              "\t<tr><td>Buddhist</td><td>$10-20k           </td><td> 21</td></tr>\n",
              "\t<tr><td>Buddhist</td><td>$20-30k           </td><td> 30</td></tr>\n",
              "\t<tr><td>Buddhist</td><td>$30-40k           </td><td> 34</td></tr>\n",
              "\t<tr><td>Buddhist</td><td>$40-50k           </td><td> 33</td></tr>\n",
              "\t<tr><td>Buddhist</td><td>$50-75k           </td><td> 58</td></tr>\n",
              "\t<tr><td>Buddhist</td><td>$75-100k          </td><td> 62</td></tr>\n",
              "\t<tr><td>Buddhist</td><td>$100-150k         </td><td> 39</td></tr>\n",
              "\t<tr><td>Buddhist</td><td><span style=white-space:pre-wrap>&gt;150k             </span></td><td> 53</td></tr>\n",
              "\t<tr><td>Buddhist</td><td>Don't know/refused</td><td> 54</td></tr>\n",
              "\t<tr><td>⋮</td><td>⋮</td><td>⋮</td></tr>\n",
              "\t<tr><td><span style=white-space:pre-wrap>Other Faiths         </span></td><td><span style=white-space:pre-wrap>&lt;$10k             </span></td><td> 20</td></tr>\n",
              "\t<tr><td>Other Faiths         </td><td>$10-20k           </td><td> 33</td></tr>\n",
              "\t<tr><td>Other Faiths         </td><td>$20-30k           </td><td> 40</td></tr>\n",
              "\t<tr><td>Other Faiths         </td><td>$30-40k           </td><td> 46</td></tr>\n",
              "\t<tr><td>Other Faiths         </td><td>$40-50k           </td><td> 49</td></tr>\n",
              "\t<tr><td>Other Faiths         </td><td>$50-75k           </td><td> 63</td></tr>\n",
              "\t<tr><td>Other Faiths         </td><td>$75-100k          </td><td> 46</td></tr>\n",
              "\t<tr><td>Other Faiths         </td><td>$100-150k         </td><td> 40</td></tr>\n",
              "\t<tr><td><span style=white-space:pre-wrap>Other Faiths         </span></td><td><span style=white-space:pre-wrap>&gt;150k             </span></td><td> 41</td></tr>\n",
              "\t<tr><td>Other Faiths         </td><td>Don't know/refused</td><td> 71</td></tr>\n",
              "\t<tr><td>Other World Religions</td><td><span style=white-space:pre-wrap>&lt;$10k             </span></td><td><span style=white-space:pre-wrap>  5</span></td></tr>\n",
              "\t<tr><td>Other World Religions</td><td>$10-20k           </td><td>  2</td></tr>\n",
              "\t<tr><td>Other World Religions</td><td>$20-30k           </td><td>  3</td></tr>\n",
              "\t<tr><td>Other World Religions</td><td>$30-40k           </td><td>  4</td></tr>\n",
              "\t<tr><td>Other World Religions</td><td>$40-50k           </td><td>  2</td></tr>\n",
              "\t<tr><td>Other World Religions</td><td>$50-75k           </td><td>  7</td></tr>\n",
              "\t<tr><td>Other World Religions</td><td>$75-100k          </td><td>  3</td></tr>\n",
              "\t<tr><td>Other World Religions</td><td>$100-150k         </td><td>  4</td></tr>\n",
              "\t<tr><td>Other World Religions</td><td><span style=white-space:pre-wrap>&gt;150k             </span></td><td><span style=white-space:pre-wrap>  4</span></td></tr>\n",
              "\t<tr><td>Other World Religions</td><td>Don't know/refused</td><td>  8</td></tr>\n",
              "\t<tr><td><span style=white-space:pre-wrap>Unaffiliated         </span></td><td><span style=white-space:pre-wrap>&lt;$10k             </span></td><td>217</td></tr>\n",
              "\t<tr><td>Unaffiliated         </td><td>$10-20k           </td><td>299</td></tr>\n",
              "\t<tr><td>Unaffiliated         </td><td>$20-30k           </td><td>374</td></tr>\n",
              "\t<tr><td>Unaffiliated         </td><td>$30-40k           </td><td>365</td></tr>\n",
              "\t<tr><td>Unaffiliated         </td><td>$40-50k           </td><td>341</td></tr>\n",
              "\t<tr><td>Unaffiliated         </td><td>$50-75k           </td><td>528</td></tr>\n",
              "\t<tr><td>Unaffiliated         </td><td>$75-100k          </td><td>407</td></tr>\n",
              "\t<tr><td>Unaffiliated         </td><td>$100-150k         </td><td>321</td></tr>\n",
              "\t<tr><td><span style=white-space:pre-wrap>Unaffiliated         </span></td><td><span style=white-space:pre-wrap>&gt;150k             </span></td><td>258</td></tr>\n",
              "\t<tr><td>Unaffiliated         </td><td>Don't know/refused</td><td>597</td></tr>\n",
              "</tbody>\n",
              "</table>\n"
            ],
            "text/markdown": "\nA tibble: 180 × 3\n\n| religion &lt;chr&gt; | name &lt;chr&gt; | value &lt;dbl&gt; |\n|---|---|---|\n| Agnostic | &lt;$10k              |  27 |\n| Agnostic | $10-20k            |  34 |\n| Agnostic | $20-30k            |  60 |\n| Agnostic | $30-40k            |  81 |\n| Agnostic | $40-50k            |  76 |\n| Agnostic | $50-75k            | 137 |\n| Agnostic | $75-100k           | 122 |\n| Agnostic | $100-150k          | 109 |\n| Agnostic | &gt;150k              |  84 |\n| Agnostic | Don't know/refused |  96 |\n| Atheist  | &lt;$10k              |  12 |\n| Atheist  | $10-20k            |  27 |\n| Atheist  | $20-30k            |  37 |\n| Atheist  | $30-40k            |  52 |\n| Atheist  | $40-50k            |  35 |\n| Atheist  | $50-75k            |  70 |\n| Atheist  | $75-100k           |  73 |\n| Atheist  | $100-150k          |  59 |\n| Atheist  | &gt;150k              |  74 |\n| Atheist  | Don't know/refused |  76 |\n| Buddhist | &lt;$10k              |  27 |\n| Buddhist | $10-20k            |  21 |\n| Buddhist | $20-30k            |  30 |\n| Buddhist | $30-40k            |  34 |\n| Buddhist | $40-50k            |  33 |\n| Buddhist | $50-75k            |  58 |\n| Buddhist | $75-100k           |  62 |\n| Buddhist | $100-150k          |  39 |\n| Buddhist | &gt;150k              |  53 |\n| Buddhist | Don't know/refused |  54 |\n| ⋮ | ⋮ | ⋮ |\n| Other Faiths          | &lt;$10k              |  20 |\n| Other Faiths          | $10-20k            |  33 |\n| Other Faiths          | $20-30k            |  40 |\n| Other Faiths          | $30-40k            |  46 |\n| Other Faiths          | $40-50k            |  49 |\n| Other Faiths          | $50-75k            |  63 |\n| Other Faiths          | $75-100k           |  46 |\n| Other Faiths          | $100-150k          |  40 |\n| Other Faiths          | &gt;150k              |  41 |\n| Other Faiths          | Don't know/refused |  71 |\n| Other World Religions | &lt;$10k              |   5 |\n| Other World Religions | $10-20k            |   2 |\n| Other World Religions | $20-30k            |   3 |\n| Other World Religions | $30-40k            |   4 |\n| Other World Religions | $40-50k            |   2 |\n| Other World Religions | $50-75k            |   7 |\n| Other World Religions | $75-100k           |   3 |\n| Other World Religions | $100-150k          |   4 |\n| Other World Religions | &gt;150k              |   4 |\n| Other World Religions | Don't know/refused |   8 |\n| Unaffiliated          | &lt;$10k              | 217 |\n| Unaffiliated          | $10-20k            | 299 |\n| Unaffiliated          | $20-30k            | 374 |\n| Unaffiliated          | $30-40k            | 365 |\n| Unaffiliated          | $40-50k            | 341 |\n| Unaffiliated          | $50-75k            | 528 |\n| Unaffiliated          | $75-100k           | 407 |\n| Unaffiliated          | $100-150k          | 321 |\n| Unaffiliated          | &gt;150k              | 258 |\n| Unaffiliated          | Don't know/refused | 597 |\n\n",
            "text/latex": "A tibble: 180 × 3\n\\begin{tabular}{lll}\n religion & name & value\\\\\n <chr> & <chr> & <dbl>\\\\\n\\hline\n\t Agnostic & <\\$10k              &  27\\\\\n\t Agnostic & \\$10-20k            &  34\\\\\n\t Agnostic & \\$20-30k            &  60\\\\\n\t Agnostic & \\$30-40k            &  81\\\\\n\t Agnostic & \\$40-50k            &  76\\\\\n\t Agnostic & \\$50-75k            & 137\\\\\n\t Agnostic & \\$75-100k           & 122\\\\\n\t Agnostic & \\$100-150k          & 109\\\\\n\t Agnostic & >150k              &  84\\\\\n\t Agnostic & Don't know/refused &  96\\\\\n\t Atheist  & <\\$10k              &  12\\\\\n\t Atheist  & \\$10-20k            &  27\\\\\n\t Atheist  & \\$20-30k            &  37\\\\\n\t Atheist  & \\$30-40k            &  52\\\\\n\t Atheist  & \\$40-50k            &  35\\\\\n\t Atheist  & \\$50-75k            &  70\\\\\n\t Atheist  & \\$75-100k           &  73\\\\\n\t Atheist  & \\$100-150k          &  59\\\\\n\t Atheist  & >150k              &  74\\\\\n\t Atheist  & Don't know/refused &  76\\\\\n\t Buddhist & <\\$10k              &  27\\\\\n\t Buddhist & \\$10-20k            &  21\\\\\n\t Buddhist & \\$20-30k            &  30\\\\\n\t Buddhist & \\$30-40k            &  34\\\\\n\t Buddhist & \\$40-50k            &  33\\\\\n\t Buddhist & \\$50-75k            &  58\\\\\n\t Buddhist & \\$75-100k           &  62\\\\\n\t Buddhist & \\$100-150k          &  39\\\\\n\t Buddhist & >150k              &  53\\\\\n\t Buddhist & Don't know/refused &  54\\\\\n\t ⋮ & ⋮ & ⋮\\\\\n\t Other Faiths          & <\\$10k              &  20\\\\\n\t Other Faiths          & \\$10-20k            &  33\\\\\n\t Other Faiths          & \\$20-30k            &  40\\\\\n\t Other Faiths          & \\$30-40k            &  46\\\\\n\t Other Faiths          & \\$40-50k            &  49\\\\\n\t Other Faiths          & \\$50-75k            &  63\\\\\n\t Other Faiths          & \\$75-100k           &  46\\\\\n\t Other Faiths          & \\$100-150k          &  40\\\\\n\t Other Faiths          & >150k              &  41\\\\\n\t Other Faiths          & Don't know/refused &  71\\\\\n\t Other World Religions & <\\$10k              &   5\\\\\n\t Other World Religions & \\$10-20k            &   2\\\\\n\t Other World Religions & \\$20-30k            &   3\\\\\n\t Other World Religions & \\$30-40k            &   4\\\\\n\t Other World Religions & \\$40-50k            &   2\\\\\n\t Other World Religions & \\$50-75k            &   7\\\\\n\t Other World Religions & \\$75-100k           &   3\\\\\n\t Other World Religions & \\$100-150k          &   4\\\\\n\t Other World Religions & >150k              &   4\\\\\n\t Other World Religions & Don't know/refused &   8\\\\\n\t Unaffiliated          & <\\$10k              & 217\\\\\n\t Unaffiliated          & \\$10-20k            & 299\\\\\n\t Unaffiliated          & \\$20-30k            & 374\\\\\n\t Unaffiliated          & \\$30-40k            & 365\\\\\n\t Unaffiliated          & \\$40-50k            & 341\\\\\n\t Unaffiliated          & \\$50-75k            & 528\\\\\n\t Unaffiliated          & \\$75-100k           & 407\\\\\n\t Unaffiliated          & \\$100-150k          & 321\\\\\n\t Unaffiliated          & >150k              & 258\\\\\n\t Unaffiliated          & Don't know/refused & 597\\\\\n\\end{tabular}\n",
            "text/plain": [
              "    religion              name               value\n",
              "1   Agnostic              <$10k               27  \n",
              "2   Agnostic              $10-20k             34  \n",
              "3   Agnostic              $20-30k             60  \n",
              "4   Agnostic              $30-40k             81  \n",
              "5   Agnostic              $40-50k             76  \n",
              "6   Agnostic              $50-75k            137  \n",
              "7   Agnostic              $75-100k           122  \n",
              "8   Agnostic              $100-150k          109  \n",
              "9   Agnostic              >150k               84  \n",
              "10  Agnostic              Don't know/refused  96  \n",
              "11  Atheist               <$10k               12  \n",
              "12  Atheist               $10-20k             27  \n",
              "13  Atheist               $20-30k             37  \n",
              "14  Atheist               $30-40k             52  \n",
              "15  Atheist               $40-50k             35  \n",
              "16  Atheist               $50-75k             70  \n",
              "17  Atheist               $75-100k            73  \n",
              "18  Atheist               $100-150k           59  \n",
              "19  Atheist               >150k               74  \n",
              "20  Atheist               Don't know/refused  76  \n",
              "21  Buddhist              <$10k               27  \n",
              "22  Buddhist              $10-20k             21  \n",
              "23  Buddhist              $20-30k             30  \n",
              "24  Buddhist              $30-40k             34  \n",
              "25  Buddhist              $40-50k             33  \n",
              "26  Buddhist              $50-75k             58  \n",
              "27  Buddhist              $75-100k            62  \n",
              "28  Buddhist              $100-150k           39  \n",
              "29  Buddhist              >150k               53  \n",
              "30  Buddhist              Don't know/refused  54  \n",
              "⋮   ⋮                     ⋮                  ⋮    \n",
              "151 Other Faiths          <$10k               20  \n",
              "152 Other Faiths          $10-20k             33  \n",
              "153 Other Faiths          $20-30k             40  \n",
              "154 Other Faiths          $30-40k             46  \n",
              "155 Other Faiths          $40-50k             49  \n",
              "156 Other Faiths          $50-75k             63  \n",
              "157 Other Faiths          $75-100k            46  \n",
              "158 Other Faiths          $100-150k           40  \n",
              "159 Other Faiths          >150k               41  \n",
              "160 Other Faiths          Don't know/refused  71  \n",
              "161 Other World Religions <$10k                5  \n",
              "162 Other World Religions $10-20k              2  \n",
              "163 Other World Religions $20-30k              3  \n",
              "164 Other World Religions $30-40k              4  \n",
              "165 Other World Religions $40-50k              2  \n",
              "166 Other World Religions $50-75k              7  \n",
              "167 Other World Religions $75-100k             3  \n",
              "168 Other World Religions $100-150k            4  \n",
              "169 Other World Religions >150k                4  \n",
              "170 Other World Religions Don't know/refused   8  \n",
              "171 Unaffiliated          <$10k              217  \n",
              "172 Unaffiliated          $10-20k            299  \n",
              "173 Unaffiliated          $20-30k            374  \n",
              "174 Unaffiliated          $30-40k            365  \n",
              "175 Unaffiliated          $40-50k            341  \n",
              "176 Unaffiliated          $50-75k            528  \n",
              "177 Unaffiliated          $75-100k           407  \n",
              "178 Unaffiliated          $100-150k          321  \n",
              "179 Unaffiliated          >150k              258  \n",
              "180 Unaffiliated          Don't know/refused 597  "
            ]
          },
          "metadata": {}
        }
      ]
    },
    {
      "cell_type": "code",
      "source": [
        "# Pivot into wider format\n",
        "relig_income %>% pivot_longer(!religion) %>% pivot_wider(names_from = name, values_from = value)"
      ],
      "metadata": {
        "colab": {
          "base_uri": "https://localhost:8080/",
          "height": 804
        },
        "id": "kvqwYW5n0J67",
        "outputId": "6791aa49-65b1-45c7-9468-e1b5c57ff74b"
      },
      "execution_count": 19,
      "outputs": [
        {
          "output_type": "display_data",
          "data": {
            "text/html": [
              "<table class=\"dataframe\">\n",
              "<caption>A tibble: 18 × 11</caption>\n",
              "<thead>\n",
              "\t<tr><th scope=col>religion</th><th scope=col>&lt;$10k</th><th scope=col>$10-20k</th><th scope=col>$20-30k</th><th scope=col>$30-40k</th><th scope=col>$40-50k</th><th scope=col>$50-75k</th><th scope=col>$75-100k</th><th scope=col>$100-150k</th><th scope=col>&gt;150k</th><th scope=col>Don't know/refused</th></tr>\n",
              "\t<tr><th scope=col>&lt;chr&gt;</th><th scope=col>&lt;dbl&gt;</th><th scope=col>&lt;dbl&gt;</th><th scope=col>&lt;dbl&gt;</th><th scope=col>&lt;dbl&gt;</th><th scope=col>&lt;dbl&gt;</th><th scope=col>&lt;dbl&gt;</th><th scope=col>&lt;dbl&gt;</th><th scope=col>&lt;dbl&gt;</th><th scope=col>&lt;dbl&gt;</th><th scope=col>&lt;dbl&gt;</th></tr>\n",
              "</thead>\n",
              "<tbody>\n",
              "\t<tr><td>Agnostic               </td><td> 27</td><td> 34</td><td>  60</td><td> 81</td><td> 76</td><td> 137</td><td>122</td><td>109</td><td> 84</td><td>  96</td></tr>\n",
              "\t<tr><td>Atheist                </td><td> 12</td><td> 27</td><td>  37</td><td> 52</td><td> 35</td><td>  70</td><td> 73</td><td> 59</td><td> 74</td><td>  76</td></tr>\n",
              "\t<tr><td>Buddhist               </td><td> 27</td><td> 21</td><td>  30</td><td> 34</td><td> 33</td><td>  58</td><td> 62</td><td> 39</td><td> 53</td><td>  54</td></tr>\n",
              "\t<tr><td>Catholic               </td><td>418</td><td>617</td><td> 732</td><td>670</td><td>638</td><td>1116</td><td>949</td><td>792</td><td>633</td><td>1489</td></tr>\n",
              "\t<tr><td>Don’t know/refused     </td><td> 15</td><td> 14</td><td>  15</td><td> 11</td><td> 10</td><td>  35</td><td> 21</td><td> 17</td><td> 18</td><td> 116</td></tr>\n",
              "\t<tr><td>Evangelical Prot       </td><td>575</td><td>869</td><td>1064</td><td>982</td><td>881</td><td>1486</td><td>949</td><td>723</td><td>414</td><td>1529</td></tr>\n",
              "\t<tr><td>Hindu                  </td><td>  1</td><td>  9</td><td>   7</td><td>  9</td><td> 11</td><td>  34</td><td> 47</td><td> 48</td><td> 54</td><td>  37</td></tr>\n",
              "\t<tr><td>Historically Black Prot</td><td>228</td><td>244</td><td> 236</td><td>238</td><td>197</td><td> 223</td><td>131</td><td> 81</td><td> 78</td><td> 339</td></tr>\n",
              "\t<tr><td>Jehovah's Witness      </td><td> 20</td><td> 27</td><td>  24</td><td> 24</td><td> 21</td><td>  30</td><td> 15</td><td> 11</td><td>  6</td><td>  37</td></tr>\n",
              "\t<tr><td>Jewish                 </td><td> 19</td><td> 19</td><td>  25</td><td> 25</td><td> 30</td><td>  95</td><td> 69</td><td> 87</td><td>151</td><td> 162</td></tr>\n",
              "\t<tr><td>Mainline Prot          </td><td>289</td><td>495</td><td> 619</td><td>655</td><td>651</td><td>1107</td><td>939</td><td>753</td><td>634</td><td>1328</td></tr>\n",
              "\t<tr><td>Mormon                 </td><td> 29</td><td> 40</td><td>  48</td><td> 51</td><td> 56</td><td> 112</td><td> 85</td><td> 49</td><td> 42</td><td>  69</td></tr>\n",
              "\t<tr><td>Muslim                 </td><td>  6</td><td>  7</td><td>   9</td><td> 10</td><td>  9</td><td>  23</td><td> 16</td><td>  8</td><td>  6</td><td>  22</td></tr>\n",
              "\t<tr><td>Orthodox               </td><td> 13</td><td> 17</td><td>  23</td><td> 32</td><td> 32</td><td>  47</td><td> 38</td><td> 42</td><td> 46</td><td>  73</td></tr>\n",
              "\t<tr><td>Other Christian        </td><td>  9</td><td>  7</td><td>  11</td><td> 13</td><td> 13</td><td>  14</td><td> 18</td><td> 14</td><td> 12</td><td>  18</td></tr>\n",
              "\t<tr><td>Other Faiths           </td><td> 20</td><td> 33</td><td>  40</td><td> 46</td><td> 49</td><td>  63</td><td> 46</td><td> 40</td><td> 41</td><td>  71</td></tr>\n",
              "\t<tr><td>Other World Religions  </td><td>  5</td><td>  2</td><td>   3</td><td>  4</td><td>  2</td><td>   7</td><td>  3</td><td>  4</td><td>  4</td><td>   8</td></tr>\n",
              "\t<tr><td>Unaffiliated           </td><td>217</td><td>299</td><td> 374</td><td>365</td><td>341</td><td> 528</td><td>407</td><td>321</td><td>258</td><td> 597</td></tr>\n",
              "</tbody>\n",
              "</table>\n"
            ],
            "text/markdown": "\nA tibble: 18 × 11\n\n| religion &lt;chr&gt; | &lt;$10k &lt;dbl&gt; | $10-20k &lt;dbl&gt; | $20-30k &lt;dbl&gt; | $30-40k &lt;dbl&gt; | $40-50k &lt;dbl&gt; | $50-75k &lt;dbl&gt; | $75-100k &lt;dbl&gt; | $100-150k &lt;dbl&gt; | &gt;150k &lt;dbl&gt; | Don't know/refused &lt;dbl&gt; |\n|---|---|---|---|---|---|---|---|---|---|---|\n| Agnostic                |  27 |  34 |   60 |  81 |  76 |  137 | 122 | 109 |  84 |   96 |\n| Atheist                 |  12 |  27 |   37 |  52 |  35 |   70 |  73 |  59 |  74 |   76 |\n| Buddhist                |  27 |  21 |   30 |  34 |  33 |   58 |  62 |  39 |  53 |   54 |\n| Catholic                | 418 | 617 |  732 | 670 | 638 | 1116 | 949 | 792 | 633 | 1489 |\n| Don’t know/refused      |  15 |  14 |   15 |  11 |  10 |   35 |  21 |  17 |  18 |  116 |\n| Evangelical Prot        | 575 | 869 | 1064 | 982 | 881 | 1486 | 949 | 723 | 414 | 1529 |\n| Hindu                   |   1 |   9 |    7 |   9 |  11 |   34 |  47 |  48 |  54 |   37 |\n| Historically Black Prot | 228 | 244 |  236 | 238 | 197 |  223 | 131 |  81 |  78 |  339 |\n| Jehovah's Witness       |  20 |  27 |   24 |  24 |  21 |   30 |  15 |  11 |   6 |   37 |\n| Jewish                  |  19 |  19 |   25 |  25 |  30 |   95 |  69 |  87 | 151 |  162 |\n| Mainline Prot           | 289 | 495 |  619 | 655 | 651 | 1107 | 939 | 753 | 634 | 1328 |\n| Mormon                  |  29 |  40 |   48 |  51 |  56 |  112 |  85 |  49 |  42 |   69 |\n| Muslim                  |   6 |   7 |    9 |  10 |   9 |   23 |  16 |   8 |   6 |   22 |\n| Orthodox                |  13 |  17 |   23 |  32 |  32 |   47 |  38 |  42 |  46 |   73 |\n| Other Christian         |   9 |   7 |   11 |  13 |  13 |   14 |  18 |  14 |  12 |   18 |\n| Other Faiths            |  20 |  33 |   40 |  46 |  49 |   63 |  46 |  40 |  41 |   71 |\n| Other World Religions   |   5 |   2 |    3 |   4 |   2 |    7 |   3 |   4 |   4 |    8 |\n| Unaffiliated            | 217 | 299 |  374 | 365 | 341 |  528 | 407 | 321 | 258 |  597 |\n\n",
            "text/latex": "A tibble: 18 × 11\n\\begin{tabular}{lllllllllll}\n religion & <\\$10k & \\$10-20k & \\$20-30k & \\$30-40k & \\$40-50k & \\$50-75k & \\$75-100k & \\$100-150k & >150k & Don't know/refused\\\\\n <chr> & <dbl> & <dbl> & <dbl> & <dbl> & <dbl> & <dbl> & <dbl> & <dbl> & <dbl> & <dbl>\\\\\n\\hline\n\t Agnostic                &  27 &  34 &   60 &  81 &  76 &  137 & 122 & 109 &  84 &   96\\\\\n\t Atheist                 &  12 &  27 &   37 &  52 &  35 &   70 &  73 &  59 &  74 &   76\\\\\n\t Buddhist                &  27 &  21 &   30 &  34 &  33 &   58 &  62 &  39 &  53 &   54\\\\\n\t Catholic                & 418 & 617 &  732 & 670 & 638 & 1116 & 949 & 792 & 633 & 1489\\\\\n\t Don’t know/refused      &  15 &  14 &   15 &  11 &  10 &   35 &  21 &  17 &  18 &  116\\\\\n\t Evangelical Prot        & 575 & 869 & 1064 & 982 & 881 & 1486 & 949 & 723 & 414 & 1529\\\\\n\t Hindu                   &   1 &   9 &    7 &   9 &  11 &   34 &  47 &  48 &  54 &   37\\\\\n\t Historically Black Prot & 228 & 244 &  236 & 238 & 197 &  223 & 131 &  81 &  78 &  339\\\\\n\t Jehovah's Witness       &  20 &  27 &   24 &  24 &  21 &   30 &  15 &  11 &   6 &   37\\\\\n\t Jewish                  &  19 &  19 &   25 &  25 &  30 &   95 &  69 &  87 & 151 &  162\\\\\n\t Mainline Prot           & 289 & 495 &  619 & 655 & 651 & 1107 & 939 & 753 & 634 & 1328\\\\\n\t Mormon                  &  29 &  40 &   48 &  51 &  56 &  112 &  85 &  49 &  42 &   69\\\\\n\t Muslim                  &   6 &   7 &    9 &  10 &   9 &   23 &  16 &   8 &   6 &   22\\\\\n\t Orthodox                &  13 &  17 &   23 &  32 &  32 &   47 &  38 &  42 &  46 &   73\\\\\n\t Other Christian         &   9 &   7 &   11 &  13 &  13 &   14 &  18 &  14 &  12 &   18\\\\\n\t Other Faiths            &  20 &  33 &   40 &  46 &  49 &   63 &  46 &  40 &  41 &   71\\\\\n\t Other World Religions   &   5 &   2 &    3 &   4 &   2 &    7 &   3 &   4 &   4 &    8\\\\\n\t Unaffiliated            & 217 & 299 &  374 & 365 & 341 &  528 & 407 & 321 & 258 &  597\\\\\n\\end{tabular}\n",
            "text/plain": [
              "   religion                <$10k $10-20k $20-30k $30-40k $40-50k $50-75k\n",
              "1  Agnostic                 27    34       60     81      76      137   \n",
              "2  Atheist                  12    27       37     52      35       70   \n",
              "3  Buddhist                 27    21       30     34      33       58   \n",
              "4  Catholic                418   617      732    670     638     1116   \n",
              "5  Don’t know/refused       15    14       15     11      10       35   \n",
              "6  Evangelical Prot        575   869     1064    982     881     1486   \n",
              "7  Hindu                     1     9        7      9      11       34   \n",
              "8  Historically Black Prot 228   244      236    238     197      223   \n",
              "9  Jehovah's Witness        20    27       24     24      21       30   \n",
              "10 Jewish                   19    19       25     25      30       95   \n",
              "11 Mainline Prot           289   495      619    655     651     1107   \n",
              "12 Mormon                   29    40       48     51      56      112   \n",
              "13 Muslim                    6     7        9     10       9       23   \n",
              "14 Orthodox                 13    17       23     32      32       47   \n",
              "15 Other Christian           9     7       11     13      13       14   \n",
              "16 Other Faiths             20    33       40     46      49       63   \n",
              "17 Other World Religions     5     2        3      4       2        7   \n",
              "18 Unaffiliated            217   299      374    365     341      528   \n",
              "   $75-100k $100-150k >150k Don't know/refused\n",
              "1  122      109        84     96              \n",
              "2   73       59        74     76              \n",
              "3   62       39        53     54              \n",
              "4  949      792       633   1489              \n",
              "5   21       17        18    116              \n",
              "6  949      723       414   1529              \n",
              "7   47       48        54     37              \n",
              "8  131       81        78    339              \n",
              "9   15       11         6     37              \n",
              "10  69       87       151    162              \n",
              "11 939      753       634   1328              \n",
              "12  85       49        42     69              \n",
              "13  16        8         6     22              \n",
              "14  38       42        46     73              \n",
              "15  18       14        12     18              \n",
              "16  46       40        41     71              \n",
              "17   3        4         4      8              \n",
              "18 407      321       258    597              "
            ]
          },
          "metadata": {}
        }
      ]
    },
    {
      "cell_type": "code",
      "source": [
        "injuries %>% pivot_wider(names_from = \"injury\", values_from=\"estimate\")"
      ],
      "metadata": {
        "colab": {
          "base_uri": "https://localhost:8080/",
          "height": 1000
        },
        "id": "-2oQIy_Saob7",
        "outputId": "e0fce02c-a1b3-45f5-dfbc-3d27a2b2a329"
      },
      "execution_count": 20,
      "outputs": [
        {
          "output_type": "display_data",
          "data": {
            "text/html": [
              "<table class=\"dataframe\">\n",
              "<caption>A tibble: 33 × 9</caption>\n",
              "<thead>\n",
              "\t<tr><th scope=col>age</th><th scope=col>type</th><th scope=col>Motor Vehicle Crashes</th><th scope=col>Unintentional Falls</th><th scope=col>Unintentionally struck by or against an object</th><th scope=col>Other unintentional injury, mechanism unspecified</th><th scope=col>Intentional self-harm</th><th scope=col>Assault</th><th scope=col>Other or no mechanism specified</th></tr>\n",
              "\t<tr><th scope=col>&lt;chr&gt;</th><th scope=col>&lt;chr&gt;</th><th scope=col>&lt;dbl&gt;</th><th scope=col>&lt;dbl&gt;</th><th scope=col>&lt;dbl&gt;</th><th scope=col>&lt;dbl&gt;</th><th scope=col>&lt;dbl&gt;</th><th scope=col>&lt;dbl&gt;</th><th scope=col>&lt;dbl&gt;</th></tr>\n",
              "</thead>\n",
              "<tbody>\n",
              "\t<tr><td>0-17 </td><td>Emergency Department Visit</td><td> 47138</td><td> 397190</td><td>229236</td><td> 55785</td><td>   NA</td><td> 24360</td><td> 57983</td></tr>\n",
              "\t<tr><td>0-4  </td><td>Emergency Department Visit</td><td>  5464</td><td> 230776</td><td> 53436</td><td> 12007</td><td>   NA</td><td>   674</td><td> 19360</td></tr>\n",
              "\t<tr><td>5-14 </td><td>Emergency Department Visit</td><td> 19785</td><td> 133084</td><td>120839</td><td> 30656</td><td>   NA</td><td>  9690</td><td> 26022</td></tr>\n",
              "\t<tr><td>15-24</td><td>Emergency Department Visit</td><td>103892</td><td>  96568</td><td>106679</td><td> 37118</td><td>  870</td><td> 65399</td><td> 33395</td></tr>\n",
              "\t<tr><td>25-34</td><td>Emergency Department Visit</td><td> 71641</td><td>  70210</td><td> 44404</td><td> 22360</td><td>  650</td><td> 57213</td><td> 20974</td></tr>\n",
              "\t<tr><td>35-44</td><td>Emergency Department Visit</td><td> 44108</td><td>  68830</td><td> 32479</td><td> 17541</td><td>  421</td><td> 34100</td><td> 16503</td></tr>\n",
              "\t<tr><td>45-54</td><td>Emergency Department Visit</td><td> 40020</td><td>  95127</td><td> 30495</td><td> 17808</td><td>  247</td><td> 27682</td><td> 15962</td></tr>\n",
              "\t<tr><td>55-64</td><td>Emergency Department Visit</td><td> 27193</td><td> 112460</td><td> 20408</td><td> 12928</td><td>  105</td><td> 11538</td><td> 13387</td></tr>\n",
              "\t<tr><td>65-74</td><td>Emergency Department Visit</td><td> 13829</td><td> 120327</td><td> 11937</td><td>  7077</td><td>   NA</td><td>  2893</td><td> 10051</td></tr>\n",
              "\t<tr><td>75+  </td><td>Emergency Department Visit</td><td>  8176</td><td> 286031</td><td> 13270</td><td>  7440</td><td>   NA</td><td>  1260</td><td> 17318</td></tr>\n",
              "\t<tr><td>Total</td><td>Emergency Department Visit</td><td>334109</td><td>1213412</td><td>433947</td><td>164935</td><td> 2567</td><td>210450</td><td>172974</td></tr>\n",
              "\t<tr><td>0-17 </td><td>Hospitalizations          </td><td>  5830</td><td>   7935</td><td>  1985</td><td>  3135</td><td>   NA</td><td>  1535</td><td>  2595</td></tr>\n",
              "\t<tr><td>0-4  </td><td>Hospitalizations          </td><td>   870</td><td>   4700</td><td>   510</td><td>   785</td><td>   NA</td><td>   960</td><td>  1140</td></tr>\n",
              "\t<tr><td>5-14 </td><td>Hospitalizations          </td><td>  2395</td><td>   2270</td><td>   980</td><td>  1435</td><td>   NA</td><td>   195</td><td>   955</td></tr>\n",
              "\t<tr><td>15-24</td><td>Hospitalizations          </td><td> 12925</td><td>   3910</td><td>  1070</td><td>  3060</td><td>  280</td><td>  3125</td><td>  2050</td></tr>\n",
              "\t<tr><td>25-34</td><td>Hospitalizations          </td><td> 11050</td><td>   4470</td><td>   635</td><td>  2600</td><td>  440</td><td>  4320</td><td>  1965</td></tr>\n",
              "\t<tr><td>35-44</td><td>Hospitalizations          </td><td>  7305</td><td>   5640</td><td>   610</td><td>  2255</td><td>  340</td><td>  2865</td><td>  1920</td></tr>\n",
              "\t<tr><td>45-54</td><td>Hospitalizations          </td><td>  8490</td><td>  12010</td><td>   685</td><td>  3140</td><td>  350</td><td>  3290</td><td>  2775</td></tr>\n",
              "\t<tr><td>55-64</td><td>Hospitalizations          </td><td>  7280</td><td>  18490</td><td>   765</td><td>  3165</td><td>  145</td><td>  1780</td><td>  4215</td></tr>\n",
              "\t<tr><td>65-74</td><td>Hospitalizations          </td><td>  4485</td><td>  25235</td><td>   790</td><td>  2180</td><td>   85</td><td>   535</td><td>  5085</td></tr>\n",
              "\t<tr><td>75+  </td><td>Hospitalizations          </td><td>  3965</td><td>  74005</td><td>  1045</td><td>  2550</td><td>   70</td><td>   325</td><td> 11360</td></tr>\n",
              "\t<tr><td>Total</td><td>Hospitalizations          </td><td> 58765</td><td> 150730</td><td>  7090</td><td> 21170</td><td> 1730</td><td> 17395</td><td> 31465</td></tr>\n",
              "\t<tr><td>0-17 </td><td>Deaths                    </td><td>   931</td><td>     48</td><td>    52</td><td>   308</td><td>   NA</td><td>   611</td><td>    61</td></tr>\n",
              "\t<tr><td>0-4  </td><td>Deaths                    </td><td>   187</td><td>     19</td><td>    27</td><td>   136</td><td>   NA</td><td>   322</td><td>    30</td></tr>\n",
              "\t<tr><td>43965</td><td>Deaths                    </td><td>   326</td><td>     16</td><td>    19</td><td>   110</td><td>   NA</td><td>   117</td><td>    19</td></tr>\n",
              "\t<tr><td>15-24</td><td>Deaths                    </td><td>  2419</td><td>     95</td><td>    21</td><td>   344</td><td> 2171</td><td>  1165</td><td>    96</td></tr>\n",
              "\t<tr><td>25-34</td><td>Deaths                    </td><td>  1960</td><td>    175</td><td>    34</td><td>   345</td><td> 2622</td><td>  1110</td><td>   125</td></tr>\n",
              "\t<tr><td>35-44</td><td>Deaths                    </td><td>  1402</td><td>    328</td><td>    41</td><td>   388</td><td> 2502</td><td>   732</td><td>   152</td></tr>\n",
              "\t<tr><td>45-54</td><td>Deaths                    </td><td>  1484</td><td>    908</td><td>    62</td><td>   618</td><td> 3334</td><td>   633</td><td>   297</td></tr>\n",
              "\t<tr><td>55-64</td><td>Deaths                    </td><td>  1287</td><td>   1674</td><td>    70</td><td>   585</td><td> 3233</td><td>   410</td><td>   393</td></tr>\n",
              "\t<tr><td>65-74</td><td>Deaths                    </td><td>   797</td><td>   2324</td><td>    60</td><td>   504</td><td> 2244</td><td>   241</td><td>   356</td></tr>\n",
              "\t<tr><td>75+  </td><td>Deaths                    </td><td>   794</td><td>  10400</td><td>    44</td><td>   859</td><td> 2212</td><td>   174</td><td>  1079</td></tr>\n",
              "\t<tr><td>Total</td><td>Deaths                    </td><td> 10656</td><td>  15939</td><td>   378</td><td>  3889</td><td>18485</td><td>  4906</td><td>  2547</td></tr>\n",
              "</tbody>\n",
              "</table>\n"
            ],
            "text/markdown": "\nA tibble: 33 × 9\n\n| age &lt;chr&gt; | type &lt;chr&gt; | Motor Vehicle Crashes &lt;dbl&gt; | Unintentional Falls &lt;dbl&gt; | Unintentionally struck by or against an object &lt;dbl&gt; | Other unintentional injury, mechanism unspecified &lt;dbl&gt; | Intentional self-harm &lt;dbl&gt; | Assault &lt;dbl&gt; | Other or no mechanism specified &lt;dbl&gt; |\n|---|---|---|---|---|---|---|---|---|\n| 0-17  | Emergency Department Visit |  47138 |  397190 | 229236 |  55785 |    NA |  24360 |  57983 |\n| 0-4   | Emergency Department Visit |   5464 |  230776 |  53436 |  12007 |    NA |    674 |  19360 |\n| 5-14  | Emergency Department Visit |  19785 |  133084 | 120839 |  30656 |    NA |   9690 |  26022 |\n| 15-24 | Emergency Department Visit | 103892 |   96568 | 106679 |  37118 |   870 |  65399 |  33395 |\n| 25-34 | Emergency Department Visit |  71641 |   70210 |  44404 |  22360 |   650 |  57213 |  20974 |\n| 35-44 | Emergency Department Visit |  44108 |   68830 |  32479 |  17541 |   421 |  34100 |  16503 |\n| 45-54 | Emergency Department Visit |  40020 |   95127 |  30495 |  17808 |   247 |  27682 |  15962 |\n| 55-64 | Emergency Department Visit |  27193 |  112460 |  20408 |  12928 |   105 |  11538 |  13387 |\n| 65-74 | Emergency Department Visit |  13829 |  120327 |  11937 |   7077 |    NA |   2893 |  10051 |\n| 75+   | Emergency Department Visit |   8176 |  286031 |  13270 |   7440 |    NA |   1260 |  17318 |\n| Total | Emergency Department Visit | 334109 | 1213412 | 433947 | 164935 |  2567 | 210450 | 172974 |\n| 0-17  | Hospitalizations           |   5830 |    7935 |   1985 |   3135 |    NA |   1535 |   2595 |\n| 0-4   | Hospitalizations           |    870 |    4700 |    510 |    785 |    NA |    960 |   1140 |\n| 5-14  | Hospitalizations           |   2395 |    2270 |    980 |   1435 |    NA |    195 |    955 |\n| 15-24 | Hospitalizations           |  12925 |    3910 |   1070 |   3060 |   280 |   3125 |   2050 |\n| 25-34 | Hospitalizations           |  11050 |    4470 |    635 |   2600 |   440 |   4320 |   1965 |\n| 35-44 | Hospitalizations           |   7305 |    5640 |    610 |   2255 |   340 |   2865 |   1920 |\n| 45-54 | Hospitalizations           |   8490 |   12010 |    685 |   3140 |   350 |   3290 |   2775 |\n| 55-64 | Hospitalizations           |   7280 |   18490 |    765 |   3165 |   145 |   1780 |   4215 |\n| 65-74 | Hospitalizations           |   4485 |   25235 |    790 |   2180 |    85 |    535 |   5085 |\n| 75+   | Hospitalizations           |   3965 |   74005 |   1045 |   2550 |    70 |    325 |  11360 |\n| Total | Hospitalizations           |  58765 |  150730 |   7090 |  21170 |  1730 |  17395 |  31465 |\n| 0-17  | Deaths                     |    931 |      48 |     52 |    308 |    NA |    611 |     61 |\n| 0-4   | Deaths                     |    187 |      19 |     27 |    136 |    NA |    322 |     30 |\n| 43965 | Deaths                     |    326 |      16 |     19 |    110 |    NA |    117 |     19 |\n| 15-24 | Deaths                     |   2419 |      95 |     21 |    344 |  2171 |   1165 |     96 |\n| 25-34 | Deaths                     |   1960 |     175 |     34 |    345 |  2622 |   1110 |    125 |\n| 35-44 | Deaths                     |   1402 |     328 |     41 |    388 |  2502 |    732 |    152 |\n| 45-54 | Deaths                     |   1484 |     908 |     62 |    618 |  3334 |    633 |    297 |\n| 55-64 | Deaths                     |   1287 |    1674 |     70 |    585 |  3233 |    410 |    393 |\n| 65-74 | Deaths                     |    797 |    2324 |     60 |    504 |  2244 |    241 |    356 |\n| 75+   | Deaths                     |    794 |   10400 |     44 |    859 |  2212 |    174 |   1079 |\n| Total | Deaths                     |  10656 |   15939 |    378 |   3889 | 18485 |   4906 |   2547 |\n\n",
            "text/latex": "A tibble: 33 × 9\n\\begin{tabular}{lllllllll}\n age & type & Motor Vehicle Crashes & Unintentional Falls & Unintentionally struck by or against an object & Other unintentional injury, mechanism unspecified & Intentional self-harm & Assault & Other or no mechanism specified\\\\\n <chr> & <chr> & <dbl> & <dbl> & <dbl> & <dbl> & <dbl> & <dbl> & <dbl>\\\\\n\\hline\n\t 0-17  & Emergency Department Visit &  47138 &  397190 & 229236 &  55785 &    NA &  24360 &  57983\\\\\n\t 0-4   & Emergency Department Visit &   5464 &  230776 &  53436 &  12007 &    NA &    674 &  19360\\\\\n\t 5-14  & Emergency Department Visit &  19785 &  133084 & 120839 &  30656 &    NA &   9690 &  26022\\\\\n\t 15-24 & Emergency Department Visit & 103892 &   96568 & 106679 &  37118 &   870 &  65399 &  33395\\\\\n\t 25-34 & Emergency Department Visit &  71641 &   70210 &  44404 &  22360 &   650 &  57213 &  20974\\\\\n\t 35-44 & Emergency Department Visit &  44108 &   68830 &  32479 &  17541 &   421 &  34100 &  16503\\\\\n\t 45-54 & Emergency Department Visit &  40020 &   95127 &  30495 &  17808 &   247 &  27682 &  15962\\\\\n\t 55-64 & Emergency Department Visit &  27193 &  112460 &  20408 &  12928 &   105 &  11538 &  13387\\\\\n\t 65-74 & Emergency Department Visit &  13829 &  120327 &  11937 &   7077 &    NA &   2893 &  10051\\\\\n\t 75+   & Emergency Department Visit &   8176 &  286031 &  13270 &   7440 &    NA &   1260 &  17318\\\\\n\t Total & Emergency Department Visit & 334109 & 1213412 & 433947 & 164935 &  2567 & 210450 & 172974\\\\\n\t 0-17  & Hospitalizations           &   5830 &    7935 &   1985 &   3135 &    NA &   1535 &   2595\\\\\n\t 0-4   & Hospitalizations           &    870 &    4700 &    510 &    785 &    NA &    960 &   1140\\\\\n\t 5-14  & Hospitalizations           &   2395 &    2270 &    980 &   1435 &    NA &    195 &    955\\\\\n\t 15-24 & Hospitalizations           &  12925 &    3910 &   1070 &   3060 &   280 &   3125 &   2050\\\\\n\t 25-34 & Hospitalizations           &  11050 &    4470 &    635 &   2600 &   440 &   4320 &   1965\\\\\n\t 35-44 & Hospitalizations           &   7305 &    5640 &    610 &   2255 &   340 &   2865 &   1920\\\\\n\t 45-54 & Hospitalizations           &   8490 &   12010 &    685 &   3140 &   350 &   3290 &   2775\\\\\n\t 55-64 & Hospitalizations           &   7280 &   18490 &    765 &   3165 &   145 &   1780 &   4215\\\\\n\t 65-74 & Hospitalizations           &   4485 &   25235 &    790 &   2180 &    85 &    535 &   5085\\\\\n\t 75+   & Hospitalizations           &   3965 &   74005 &   1045 &   2550 &    70 &    325 &  11360\\\\\n\t Total & Hospitalizations           &  58765 &  150730 &   7090 &  21170 &  1730 &  17395 &  31465\\\\\n\t 0-17  & Deaths                     &    931 &      48 &     52 &    308 &    NA &    611 &     61\\\\\n\t 0-4   & Deaths                     &    187 &      19 &     27 &    136 &    NA &    322 &     30\\\\\n\t 43965 & Deaths                     &    326 &      16 &     19 &    110 &    NA &    117 &     19\\\\\n\t 15-24 & Deaths                     &   2419 &      95 &     21 &    344 &  2171 &   1165 &     96\\\\\n\t 25-34 & Deaths                     &   1960 &     175 &     34 &    345 &  2622 &   1110 &    125\\\\\n\t 35-44 & Deaths                     &   1402 &     328 &     41 &    388 &  2502 &    732 &    152\\\\\n\t 45-54 & Deaths                     &   1484 &     908 &     62 &    618 &  3334 &    633 &    297\\\\\n\t 55-64 & Deaths                     &   1287 &    1674 &     70 &    585 &  3233 &    410 &    393\\\\\n\t 65-74 & Deaths                     &    797 &    2324 &     60 &    504 &  2244 &    241 &    356\\\\\n\t 75+   & Deaths                     &    794 &   10400 &     44 &    859 &  2212 &    174 &   1079\\\\\n\t Total & Deaths                     &  10656 &   15939 &    378 &   3889 & 18485 &   4906 &   2547\\\\\n\\end{tabular}\n",
            "text/plain": [
              "   age   type                       Motor Vehicle Crashes Unintentional Falls\n",
              "1  0-17  Emergency Department Visit  47138                 397190            \n",
              "2  0-4   Emergency Department Visit   5464                 230776            \n",
              "3  5-14  Emergency Department Visit  19785                 133084            \n",
              "4  15-24 Emergency Department Visit 103892                  96568            \n",
              "5  25-34 Emergency Department Visit  71641                  70210            \n",
              "6  35-44 Emergency Department Visit  44108                  68830            \n",
              "7  45-54 Emergency Department Visit  40020                  95127            \n",
              "8  55-64 Emergency Department Visit  27193                 112460            \n",
              "9  65-74 Emergency Department Visit  13829                 120327            \n",
              "10 75+   Emergency Department Visit   8176                 286031            \n",
              "11 Total Emergency Department Visit 334109                1213412            \n",
              "12 0-17  Hospitalizations             5830                   7935            \n",
              "13 0-4   Hospitalizations              870                   4700            \n",
              "14 5-14  Hospitalizations             2395                   2270            \n",
              "15 15-24 Hospitalizations            12925                   3910            \n",
              "16 25-34 Hospitalizations            11050                   4470            \n",
              "17 35-44 Hospitalizations             7305                   5640            \n",
              "18 45-54 Hospitalizations             8490                  12010            \n",
              "19 55-64 Hospitalizations             7280                  18490            \n",
              "20 65-74 Hospitalizations             4485                  25235            \n",
              "21 75+   Hospitalizations             3965                  74005            \n",
              "22 Total Hospitalizations            58765                 150730            \n",
              "23 0-17  Deaths                        931                     48            \n",
              "24 0-4   Deaths                        187                     19            \n",
              "25 43965 Deaths                        326                     16            \n",
              "26 15-24 Deaths                       2419                     95            \n",
              "27 25-34 Deaths                       1960                    175            \n",
              "28 35-44 Deaths                       1402                    328            \n",
              "29 45-54 Deaths                       1484                    908            \n",
              "30 55-64 Deaths                       1287                   1674            \n",
              "31 65-74 Deaths                        797                   2324            \n",
              "32 75+   Deaths                        794                  10400            \n",
              "33 Total Deaths                      10656                  15939            \n",
              "   Unintentionally struck by or against an object\n",
              "1  229236                                        \n",
              "2   53436                                        \n",
              "3  120839                                        \n",
              "4  106679                                        \n",
              "5   44404                                        \n",
              "6   32479                                        \n",
              "7   30495                                        \n",
              "8   20408                                        \n",
              "9   11937                                        \n",
              "10  13270                                        \n",
              "11 433947                                        \n",
              "12   1985                                        \n",
              "13    510                                        \n",
              "14    980                                        \n",
              "15   1070                                        \n",
              "16    635                                        \n",
              "17    610                                        \n",
              "18    685                                        \n",
              "19    765                                        \n",
              "20    790                                        \n",
              "21   1045                                        \n",
              "22   7090                                        \n",
              "23     52                                        \n",
              "24     27                                        \n",
              "25     19                                        \n",
              "26     21                                        \n",
              "27     34                                        \n",
              "28     41                                        \n",
              "29     62                                        \n",
              "30     70                                        \n",
              "31     60                                        \n",
              "32     44                                        \n",
              "33    378                                        \n",
              "   Other unintentional injury, mechanism unspecified Intentional self-harm\n",
              "1   55785                                               NA                \n",
              "2   12007                                               NA                \n",
              "3   30656                                               NA                \n",
              "4   37118                                              870                \n",
              "5   22360                                              650                \n",
              "6   17541                                              421                \n",
              "7   17808                                              247                \n",
              "8   12928                                              105                \n",
              "9    7077                                               NA                \n",
              "10   7440                                               NA                \n",
              "11 164935                                             2567                \n",
              "12   3135                                               NA                \n",
              "13    785                                               NA                \n",
              "14   1435                                               NA                \n",
              "15   3060                                              280                \n",
              "16   2600                                              440                \n",
              "17   2255                                              340                \n",
              "18   3140                                              350                \n",
              "19   3165                                              145                \n",
              "20   2180                                               85                \n",
              "21   2550                                               70                \n",
              "22  21170                                             1730                \n",
              "23    308                                               NA                \n",
              "24    136                                               NA                \n",
              "25    110                                               NA                \n",
              "26    344                                             2171                \n",
              "27    345                                             2622                \n",
              "28    388                                             2502                \n",
              "29    618                                             3334                \n",
              "30    585                                             3233                \n",
              "31    504                                             2244                \n",
              "32    859                                             2212                \n",
              "33   3889                                            18485                \n",
              "   Assault Other or no mechanism specified\n",
              "1   24360   57983                         \n",
              "2     674   19360                         \n",
              "3    9690   26022                         \n",
              "4   65399   33395                         \n",
              "5   57213   20974                         \n",
              "6   34100   16503                         \n",
              "7   27682   15962                         \n",
              "8   11538   13387                         \n",
              "9    2893   10051                         \n",
              "10   1260   17318                         \n",
              "11 210450  172974                         \n",
              "12   1535    2595                         \n",
              "13    960    1140                         \n",
              "14    195     955                         \n",
              "15   3125    2050                         \n",
              "16   4320    1965                         \n",
              "17   2865    1920                         \n",
              "18   3290    2775                         \n",
              "19   1780    4215                         \n",
              "20    535    5085                         \n",
              "21    325   11360                         \n",
              "22  17395   31465                         \n",
              "23    611      61                         \n",
              "24    322      30                         \n",
              "25    117      19                         \n",
              "26   1165      96                         \n",
              "27   1110     125                         \n",
              "28    732     152                         \n",
              "29    633     297                         \n",
              "30    410     393                         \n",
              "31    241     356                         \n",
              "32    174    1079                         \n",
              "33   4906    2547                         "
            ]
          },
          "metadata": {}
        }
      ]
    },
    {
      "cell_type": "code",
      "source": [
        "injuries %>% pivot_wider(names_from = \"injury\", values_from=\"estimate\")"
      ],
      "metadata": {
        "colab": {
          "base_uri": "https://localhost:8080/",
          "height": 1000
        },
        "id": "mjG-_P6XZKNe",
        "outputId": "34312d2e-3231-415e-cbae-bd45118c7001"
      },
      "execution_count": 21,
      "outputs": [
        {
          "output_type": "display_data",
          "data": {
            "text/html": [
              "<table class=\"dataframe\">\n",
              "<caption>A tibble: 33 × 9</caption>\n",
              "<thead>\n",
              "\t<tr><th scope=col>age</th><th scope=col>type</th><th scope=col>Motor Vehicle Crashes</th><th scope=col>Unintentional Falls</th><th scope=col>Unintentionally struck by or against an object</th><th scope=col>Other unintentional injury, mechanism unspecified</th><th scope=col>Intentional self-harm</th><th scope=col>Assault</th><th scope=col>Other or no mechanism specified</th></tr>\n",
              "\t<tr><th scope=col>&lt;chr&gt;</th><th scope=col>&lt;chr&gt;</th><th scope=col>&lt;dbl&gt;</th><th scope=col>&lt;dbl&gt;</th><th scope=col>&lt;dbl&gt;</th><th scope=col>&lt;dbl&gt;</th><th scope=col>&lt;dbl&gt;</th><th scope=col>&lt;dbl&gt;</th><th scope=col>&lt;dbl&gt;</th></tr>\n",
              "</thead>\n",
              "<tbody>\n",
              "\t<tr><td>0-17 </td><td>Emergency Department Visit</td><td> 47138</td><td> 397190</td><td>229236</td><td> 55785</td><td>   NA</td><td> 24360</td><td> 57983</td></tr>\n",
              "\t<tr><td>0-4  </td><td>Emergency Department Visit</td><td>  5464</td><td> 230776</td><td> 53436</td><td> 12007</td><td>   NA</td><td>   674</td><td> 19360</td></tr>\n",
              "\t<tr><td>5-14 </td><td>Emergency Department Visit</td><td> 19785</td><td> 133084</td><td>120839</td><td> 30656</td><td>   NA</td><td>  9690</td><td> 26022</td></tr>\n",
              "\t<tr><td>15-24</td><td>Emergency Department Visit</td><td>103892</td><td>  96568</td><td>106679</td><td> 37118</td><td>  870</td><td> 65399</td><td> 33395</td></tr>\n",
              "\t<tr><td>25-34</td><td>Emergency Department Visit</td><td> 71641</td><td>  70210</td><td> 44404</td><td> 22360</td><td>  650</td><td> 57213</td><td> 20974</td></tr>\n",
              "\t<tr><td>35-44</td><td>Emergency Department Visit</td><td> 44108</td><td>  68830</td><td> 32479</td><td> 17541</td><td>  421</td><td> 34100</td><td> 16503</td></tr>\n",
              "\t<tr><td>45-54</td><td>Emergency Department Visit</td><td> 40020</td><td>  95127</td><td> 30495</td><td> 17808</td><td>  247</td><td> 27682</td><td> 15962</td></tr>\n",
              "\t<tr><td>55-64</td><td>Emergency Department Visit</td><td> 27193</td><td> 112460</td><td> 20408</td><td> 12928</td><td>  105</td><td> 11538</td><td> 13387</td></tr>\n",
              "\t<tr><td>65-74</td><td>Emergency Department Visit</td><td> 13829</td><td> 120327</td><td> 11937</td><td>  7077</td><td>   NA</td><td>  2893</td><td> 10051</td></tr>\n",
              "\t<tr><td>75+  </td><td>Emergency Department Visit</td><td>  8176</td><td> 286031</td><td> 13270</td><td>  7440</td><td>   NA</td><td>  1260</td><td> 17318</td></tr>\n",
              "\t<tr><td>Total</td><td>Emergency Department Visit</td><td>334109</td><td>1213412</td><td>433947</td><td>164935</td><td> 2567</td><td>210450</td><td>172974</td></tr>\n",
              "\t<tr><td>0-17 </td><td>Hospitalizations          </td><td>  5830</td><td>   7935</td><td>  1985</td><td>  3135</td><td>   NA</td><td>  1535</td><td>  2595</td></tr>\n",
              "\t<tr><td>0-4  </td><td>Hospitalizations          </td><td>   870</td><td>   4700</td><td>   510</td><td>   785</td><td>   NA</td><td>   960</td><td>  1140</td></tr>\n",
              "\t<tr><td>5-14 </td><td>Hospitalizations          </td><td>  2395</td><td>   2270</td><td>   980</td><td>  1435</td><td>   NA</td><td>   195</td><td>   955</td></tr>\n",
              "\t<tr><td>15-24</td><td>Hospitalizations          </td><td> 12925</td><td>   3910</td><td>  1070</td><td>  3060</td><td>  280</td><td>  3125</td><td>  2050</td></tr>\n",
              "\t<tr><td>25-34</td><td>Hospitalizations          </td><td> 11050</td><td>   4470</td><td>   635</td><td>  2600</td><td>  440</td><td>  4320</td><td>  1965</td></tr>\n",
              "\t<tr><td>35-44</td><td>Hospitalizations          </td><td>  7305</td><td>   5640</td><td>   610</td><td>  2255</td><td>  340</td><td>  2865</td><td>  1920</td></tr>\n",
              "\t<tr><td>45-54</td><td>Hospitalizations          </td><td>  8490</td><td>  12010</td><td>   685</td><td>  3140</td><td>  350</td><td>  3290</td><td>  2775</td></tr>\n",
              "\t<tr><td>55-64</td><td>Hospitalizations          </td><td>  7280</td><td>  18490</td><td>   765</td><td>  3165</td><td>  145</td><td>  1780</td><td>  4215</td></tr>\n",
              "\t<tr><td>65-74</td><td>Hospitalizations          </td><td>  4485</td><td>  25235</td><td>   790</td><td>  2180</td><td>   85</td><td>   535</td><td>  5085</td></tr>\n",
              "\t<tr><td>75+  </td><td>Hospitalizations          </td><td>  3965</td><td>  74005</td><td>  1045</td><td>  2550</td><td>   70</td><td>   325</td><td> 11360</td></tr>\n",
              "\t<tr><td>Total</td><td>Hospitalizations          </td><td> 58765</td><td> 150730</td><td>  7090</td><td> 21170</td><td> 1730</td><td> 17395</td><td> 31465</td></tr>\n",
              "\t<tr><td>0-17 </td><td>Deaths                    </td><td>   931</td><td>     48</td><td>    52</td><td>   308</td><td>   NA</td><td>   611</td><td>    61</td></tr>\n",
              "\t<tr><td>0-4  </td><td>Deaths                    </td><td>   187</td><td>     19</td><td>    27</td><td>   136</td><td>   NA</td><td>   322</td><td>    30</td></tr>\n",
              "\t<tr><td>43965</td><td>Deaths                    </td><td>   326</td><td>     16</td><td>    19</td><td>   110</td><td>   NA</td><td>   117</td><td>    19</td></tr>\n",
              "\t<tr><td>15-24</td><td>Deaths                    </td><td>  2419</td><td>     95</td><td>    21</td><td>   344</td><td> 2171</td><td>  1165</td><td>    96</td></tr>\n",
              "\t<tr><td>25-34</td><td>Deaths                    </td><td>  1960</td><td>    175</td><td>    34</td><td>   345</td><td> 2622</td><td>  1110</td><td>   125</td></tr>\n",
              "\t<tr><td>35-44</td><td>Deaths                    </td><td>  1402</td><td>    328</td><td>    41</td><td>   388</td><td> 2502</td><td>   732</td><td>   152</td></tr>\n",
              "\t<tr><td>45-54</td><td>Deaths                    </td><td>  1484</td><td>    908</td><td>    62</td><td>   618</td><td> 3334</td><td>   633</td><td>   297</td></tr>\n",
              "\t<tr><td>55-64</td><td>Deaths                    </td><td>  1287</td><td>   1674</td><td>    70</td><td>   585</td><td> 3233</td><td>   410</td><td>   393</td></tr>\n",
              "\t<tr><td>65-74</td><td>Deaths                    </td><td>   797</td><td>   2324</td><td>    60</td><td>   504</td><td> 2244</td><td>   241</td><td>   356</td></tr>\n",
              "\t<tr><td>75+  </td><td>Deaths                    </td><td>   794</td><td>  10400</td><td>    44</td><td>   859</td><td> 2212</td><td>   174</td><td>  1079</td></tr>\n",
              "\t<tr><td>Total</td><td>Deaths                    </td><td> 10656</td><td>  15939</td><td>   378</td><td>  3889</td><td>18485</td><td>  4906</td><td>  2547</td></tr>\n",
              "</tbody>\n",
              "</table>\n"
            ],
            "text/markdown": "\nA tibble: 33 × 9\n\n| age &lt;chr&gt; | type &lt;chr&gt; | Motor Vehicle Crashes &lt;dbl&gt; | Unintentional Falls &lt;dbl&gt; | Unintentionally struck by or against an object &lt;dbl&gt; | Other unintentional injury, mechanism unspecified &lt;dbl&gt; | Intentional self-harm &lt;dbl&gt; | Assault &lt;dbl&gt; | Other or no mechanism specified &lt;dbl&gt; |\n|---|---|---|---|---|---|---|---|---|\n| 0-17  | Emergency Department Visit |  47138 |  397190 | 229236 |  55785 |    NA |  24360 |  57983 |\n| 0-4   | Emergency Department Visit |   5464 |  230776 |  53436 |  12007 |    NA |    674 |  19360 |\n| 5-14  | Emergency Department Visit |  19785 |  133084 | 120839 |  30656 |    NA |   9690 |  26022 |\n| 15-24 | Emergency Department Visit | 103892 |   96568 | 106679 |  37118 |   870 |  65399 |  33395 |\n| 25-34 | Emergency Department Visit |  71641 |   70210 |  44404 |  22360 |   650 |  57213 |  20974 |\n| 35-44 | Emergency Department Visit |  44108 |   68830 |  32479 |  17541 |   421 |  34100 |  16503 |\n| 45-54 | Emergency Department Visit |  40020 |   95127 |  30495 |  17808 |   247 |  27682 |  15962 |\n| 55-64 | Emergency Department Visit |  27193 |  112460 |  20408 |  12928 |   105 |  11538 |  13387 |\n| 65-74 | Emergency Department Visit |  13829 |  120327 |  11937 |   7077 |    NA |   2893 |  10051 |\n| 75+   | Emergency Department Visit |   8176 |  286031 |  13270 |   7440 |    NA |   1260 |  17318 |\n| Total | Emergency Department Visit | 334109 | 1213412 | 433947 | 164935 |  2567 | 210450 | 172974 |\n| 0-17  | Hospitalizations           |   5830 |    7935 |   1985 |   3135 |    NA |   1535 |   2595 |\n| 0-4   | Hospitalizations           |    870 |    4700 |    510 |    785 |    NA |    960 |   1140 |\n| 5-14  | Hospitalizations           |   2395 |    2270 |    980 |   1435 |    NA |    195 |    955 |\n| 15-24 | Hospitalizations           |  12925 |    3910 |   1070 |   3060 |   280 |   3125 |   2050 |\n| 25-34 | Hospitalizations           |  11050 |    4470 |    635 |   2600 |   440 |   4320 |   1965 |\n| 35-44 | Hospitalizations           |   7305 |    5640 |    610 |   2255 |   340 |   2865 |   1920 |\n| 45-54 | Hospitalizations           |   8490 |   12010 |    685 |   3140 |   350 |   3290 |   2775 |\n| 55-64 | Hospitalizations           |   7280 |   18490 |    765 |   3165 |   145 |   1780 |   4215 |\n| 65-74 | Hospitalizations           |   4485 |   25235 |    790 |   2180 |    85 |    535 |   5085 |\n| 75+   | Hospitalizations           |   3965 |   74005 |   1045 |   2550 |    70 |    325 |  11360 |\n| Total | Hospitalizations           |  58765 |  150730 |   7090 |  21170 |  1730 |  17395 |  31465 |\n| 0-17  | Deaths                     |    931 |      48 |     52 |    308 |    NA |    611 |     61 |\n| 0-4   | Deaths                     |    187 |      19 |     27 |    136 |    NA |    322 |     30 |\n| 43965 | Deaths                     |    326 |      16 |     19 |    110 |    NA |    117 |     19 |\n| 15-24 | Deaths                     |   2419 |      95 |     21 |    344 |  2171 |   1165 |     96 |\n| 25-34 | Deaths                     |   1960 |     175 |     34 |    345 |  2622 |   1110 |    125 |\n| 35-44 | Deaths                     |   1402 |     328 |     41 |    388 |  2502 |    732 |    152 |\n| 45-54 | Deaths                     |   1484 |     908 |     62 |    618 |  3334 |    633 |    297 |\n| 55-64 | Deaths                     |   1287 |    1674 |     70 |    585 |  3233 |    410 |    393 |\n| 65-74 | Deaths                     |    797 |    2324 |     60 |    504 |  2244 |    241 |    356 |\n| 75+   | Deaths                     |    794 |   10400 |     44 |    859 |  2212 |    174 |   1079 |\n| Total | Deaths                     |  10656 |   15939 |    378 |   3889 | 18485 |   4906 |   2547 |\n\n",
            "text/latex": "A tibble: 33 × 9\n\\begin{tabular}{lllllllll}\n age & type & Motor Vehicle Crashes & Unintentional Falls & Unintentionally struck by or against an object & Other unintentional injury, mechanism unspecified & Intentional self-harm & Assault & Other or no mechanism specified\\\\\n <chr> & <chr> & <dbl> & <dbl> & <dbl> & <dbl> & <dbl> & <dbl> & <dbl>\\\\\n\\hline\n\t 0-17  & Emergency Department Visit &  47138 &  397190 & 229236 &  55785 &    NA &  24360 &  57983\\\\\n\t 0-4   & Emergency Department Visit &   5464 &  230776 &  53436 &  12007 &    NA &    674 &  19360\\\\\n\t 5-14  & Emergency Department Visit &  19785 &  133084 & 120839 &  30656 &    NA &   9690 &  26022\\\\\n\t 15-24 & Emergency Department Visit & 103892 &   96568 & 106679 &  37118 &   870 &  65399 &  33395\\\\\n\t 25-34 & Emergency Department Visit &  71641 &   70210 &  44404 &  22360 &   650 &  57213 &  20974\\\\\n\t 35-44 & Emergency Department Visit &  44108 &   68830 &  32479 &  17541 &   421 &  34100 &  16503\\\\\n\t 45-54 & Emergency Department Visit &  40020 &   95127 &  30495 &  17808 &   247 &  27682 &  15962\\\\\n\t 55-64 & Emergency Department Visit &  27193 &  112460 &  20408 &  12928 &   105 &  11538 &  13387\\\\\n\t 65-74 & Emergency Department Visit &  13829 &  120327 &  11937 &   7077 &    NA &   2893 &  10051\\\\\n\t 75+   & Emergency Department Visit &   8176 &  286031 &  13270 &   7440 &    NA &   1260 &  17318\\\\\n\t Total & Emergency Department Visit & 334109 & 1213412 & 433947 & 164935 &  2567 & 210450 & 172974\\\\\n\t 0-17  & Hospitalizations           &   5830 &    7935 &   1985 &   3135 &    NA &   1535 &   2595\\\\\n\t 0-4   & Hospitalizations           &    870 &    4700 &    510 &    785 &    NA &    960 &   1140\\\\\n\t 5-14  & Hospitalizations           &   2395 &    2270 &    980 &   1435 &    NA &    195 &    955\\\\\n\t 15-24 & Hospitalizations           &  12925 &    3910 &   1070 &   3060 &   280 &   3125 &   2050\\\\\n\t 25-34 & Hospitalizations           &  11050 &    4470 &    635 &   2600 &   440 &   4320 &   1965\\\\\n\t 35-44 & Hospitalizations           &   7305 &    5640 &    610 &   2255 &   340 &   2865 &   1920\\\\\n\t 45-54 & Hospitalizations           &   8490 &   12010 &    685 &   3140 &   350 &   3290 &   2775\\\\\n\t 55-64 & Hospitalizations           &   7280 &   18490 &    765 &   3165 &   145 &   1780 &   4215\\\\\n\t 65-74 & Hospitalizations           &   4485 &   25235 &    790 &   2180 &    85 &    535 &   5085\\\\\n\t 75+   & Hospitalizations           &   3965 &   74005 &   1045 &   2550 &    70 &    325 &  11360\\\\\n\t Total & Hospitalizations           &  58765 &  150730 &   7090 &  21170 &  1730 &  17395 &  31465\\\\\n\t 0-17  & Deaths                     &    931 &      48 &     52 &    308 &    NA &    611 &     61\\\\\n\t 0-4   & Deaths                     &    187 &      19 &     27 &    136 &    NA &    322 &     30\\\\\n\t 43965 & Deaths                     &    326 &      16 &     19 &    110 &    NA &    117 &     19\\\\\n\t 15-24 & Deaths                     &   2419 &      95 &     21 &    344 &  2171 &   1165 &     96\\\\\n\t 25-34 & Deaths                     &   1960 &     175 &     34 &    345 &  2622 &   1110 &    125\\\\\n\t 35-44 & Deaths                     &   1402 &     328 &     41 &    388 &  2502 &    732 &    152\\\\\n\t 45-54 & Deaths                     &   1484 &     908 &     62 &    618 &  3334 &    633 &    297\\\\\n\t 55-64 & Deaths                     &   1287 &    1674 &     70 &    585 &  3233 &    410 &    393\\\\\n\t 65-74 & Deaths                     &    797 &    2324 &     60 &    504 &  2244 &    241 &    356\\\\\n\t 75+   & Deaths                     &    794 &   10400 &     44 &    859 &  2212 &    174 &   1079\\\\\n\t Total & Deaths                     &  10656 &   15939 &    378 &   3889 & 18485 &   4906 &   2547\\\\\n\\end{tabular}\n",
            "text/plain": [
              "   age   type                       Motor Vehicle Crashes Unintentional Falls\n",
              "1  0-17  Emergency Department Visit  47138                 397190            \n",
              "2  0-4   Emergency Department Visit   5464                 230776            \n",
              "3  5-14  Emergency Department Visit  19785                 133084            \n",
              "4  15-24 Emergency Department Visit 103892                  96568            \n",
              "5  25-34 Emergency Department Visit  71641                  70210            \n",
              "6  35-44 Emergency Department Visit  44108                  68830            \n",
              "7  45-54 Emergency Department Visit  40020                  95127            \n",
              "8  55-64 Emergency Department Visit  27193                 112460            \n",
              "9  65-74 Emergency Department Visit  13829                 120327            \n",
              "10 75+   Emergency Department Visit   8176                 286031            \n",
              "11 Total Emergency Department Visit 334109                1213412            \n",
              "12 0-17  Hospitalizations             5830                   7935            \n",
              "13 0-4   Hospitalizations              870                   4700            \n",
              "14 5-14  Hospitalizations             2395                   2270            \n",
              "15 15-24 Hospitalizations            12925                   3910            \n",
              "16 25-34 Hospitalizations            11050                   4470            \n",
              "17 35-44 Hospitalizations             7305                   5640            \n",
              "18 45-54 Hospitalizations             8490                  12010            \n",
              "19 55-64 Hospitalizations             7280                  18490            \n",
              "20 65-74 Hospitalizations             4485                  25235            \n",
              "21 75+   Hospitalizations             3965                  74005            \n",
              "22 Total Hospitalizations            58765                 150730            \n",
              "23 0-17  Deaths                        931                     48            \n",
              "24 0-4   Deaths                        187                     19            \n",
              "25 43965 Deaths                        326                     16            \n",
              "26 15-24 Deaths                       2419                     95            \n",
              "27 25-34 Deaths                       1960                    175            \n",
              "28 35-44 Deaths                       1402                    328            \n",
              "29 45-54 Deaths                       1484                    908            \n",
              "30 55-64 Deaths                       1287                   1674            \n",
              "31 65-74 Deaths                        797                   2324            \n",
              "32 75+   Deaths                        794                  10400            \n",
              "33 Total Deaths                      10656                  15939            \n",
              "   Unintentionally struck by or against an object\n",
              "1  229236                                        \n",
              "2   53436                                        \n",
              "3  120839                                        \n",
              "4  106679                                        \n",
              "5   44404                                        \n",
              "6   32479                                        \n",
              "7   30495                                        \n",
              "8   20408                                        \n",
              "9   11937                                        \n",
              "10  13270                                        \n",
              "11 433947                                        \n",
              "12   1985                                        \n",
              "13    510                                        \n",
              "14    980                                        \n",
              "15   1070                                        \n",
              "16    635                                        \n",
              "17    610                                        \n",
              "18    685                                        \n",
              "19    765                                        \n",
              "20    790                                        \n",
              "21   1045                                        \n",
              "22   7090                                        \n",
              "23     52                                        \n",
              "24     27                                        \n",
              "25     19                                        \n",
              "26     21                                        \n",
              "27     34                                        \n",
              "28     41                                        \n",
              "29     62                                        \n",
              "30     70                                        \n",
              "31     60                                        \n",
              "32     44                                        \n",
              "33    378                                        \n",
              "   Other unintentional injury, mechanism unspecified Intentional self-harm\n",
              "1   55785                                               NA                \n",
              "2   12007                                               NA                \n",
              "3   30656                                               NA                \n",
              "4   37118                                              870                \n",
              "5   22360                                              650                \n",
              "6   17541                                              421                \n",
              "7   17808                                              247                \n",
              "8   12928                                              105                \n",
              "9    7077                                               NA                \n",
              "10   7440                                               NA                \n",
              "11 164935                                             2567                \n",
              "12   3135                                               NA                \n",
              "13    785                                               NA                \n",
              "14   1435                                               NA                \n",
              "15   3060                                              280                \n",
              "16   2600                                              440                \n",
              "17   2255                                              340                \n",
              "18   3140                                              350                \n",
              "19   3165                                              145                \n",
              "20   2180                                               85                \n",
              "21   2550                                               70                \n",
              "22  21170                                             1730                \n",
              "23    308                                               NA                \n",
              "24    136                                               NA                \n",
              "25    110                                               NA                \n",
              "26    344                                             2171                \n",
              "27    345                                             2622                \n",
              "28    388                                             2502                \n",
              "29    618                                             3334                \n",
              "30    585                                             3233                \n",
              "31    504                                             2244                \n",
              "32    859                                             2212                \n",
              "33   3889                                            18485                \n",
              "   Assault Other or no mechanism specified\n",
              "1   24360   57983                         \n",
              "2     674   19360                         \n",
              "3    9690   26022                         \n",
              "4   65399   33395                         \n",
              "5   57213   20974                         \n",
              "6   34100   16503                         \n",
              "7   27682   15962                         \n",
              "8   11538   13387                         \n",
              "9    2893   10051                         \n",
              "10   1260   17318                         \n",
              "11 210450  172974                         \n",
              "12   1535    2595                         \n",
              "13    960    1140                         \n",
              "14    195     955                         \n",
              "15   3125    2050                         \n",
              "16   4320    1965                         \n",
              "17   2865    1920                         \n",
              "18   3290    2775                         \n",
              "19   1780    4215                         \n",
              "20    535    5085                         \n",
              "21    325   11360                         \n",
              "22  17395   31465                         \n",
              "23    611      61                         \n",
              "24    322      30                         \n",
              "25    117      19                         \n",
              "26   1165      96                         \n",
              "27   1110     125                         \n",
              "28    732     152                         \n",
              "29    633     297                         \n",
              "30    410     393                         \n",
              "31    241     356                         \n",
              "32    174    1079                         \n",
              "33   4906    2547                         "
            ]
          },
          "metadata": {}
        }
      ]
    },
    {
      "cell_type": "markdown",
      "source": [
        "### **Quiz**"
      ],
      "metadata": {
        "id": "hSdoRtkXddlk"
      }
    },
    {
      "cell_type": "markdown",
      "source": [
        "Case:\n",
        "![image.png](data:image/png;base64,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)"
      ],
      "metadata": {
        "id": "j9SsJ0ncb0b6"
      }
    },
    {
      "cell_type": "code",
      "source": [
        "# Reading excel file from github\n",
        "library(readxl)\n",
        "library(httr)\n",
        "\n",
        "# Correct raw url (binary files must use /raw/ not /blob/ or /refs/heads/)\n",
        "url_xlsx <- \"https://github.com/harishmuh/R_tutorial/raw/main/datasets/injuries.xlsx\"\n",
        "\n",
        "# Download the file temporarily using httr::GET to ensure proper handling of binary files\n",
        "temp_file <- tempfile(fileext = \".xlsx\")\n",
        "GET(url_xlsx, write_disk(temp_file, overwrite = TRUE))\n",
        "\n",
        "# Read Excel\n",
        "injurydataset <- read_excel(temp_file)\n",
        "\n",
        "# Check first rows\n",
        "head(injurydataset)"
      ],
      "metadata": {
        "colab": {
          "base_uri": "https://localhost:8080/",
          "height": 538
        },
        "id": "RAEJnXAsdl2d",
        "outputId": "2b8446c5-1795-41ed-bb96-cb63178a4d51"
      },
      "execution_count": 24,
      "outputs": [
        {
          "output_type": "display_data",
          "data": {
            "text/plain": [
              "Response [https://raw.githubusercontent.com/harishmuh/R_tutorial/main/datasets/injuries.xlsx]\n",
              "  Date: 2025-09-16 02:59\n",
              "  Status: 200\n",
              "  Content-Type: application/octet-stream\n",
              "  Size: 14.3 kB\n",
              "<ON DISK>  /tmp/RtmpGUMlT6/filefa1c9908b5.xlsxNULL"
            ]
          },
          "metadata": {}
        },
        {
          "output_type": "display_data",
          "data": {
            "text/html": [
              "<table class=\"dataframe\">\n",
              "<caption>A tibble: 6 × 4</caption>\n",
              "<thead>\n",
              "\t<tr><th scope=col>age</th><th scope=col>type</th><th scope=col>injury</th><th scope=col>estimate</th></tr>\n",
              "\t<tr><th scope=col>&lt;chr&gt;</th><th scope=col>&lt;chr&gt;</th><th scope=col>&lt;chr&gt;</th><th scope=col>&lt;chr&gt;</th></tr>\n",
              "</thead>\n",
              "<tbody>\n",
              "\t<tr><td>0-17</td><td>Emergency Department Visit</td><td>Motor Vehicle Crashes                            </td><td>47138 </td></tr>\n",
              "\t<tr><td>0-17</td><td>Emergency Department Visit</td><td>Unintentional Falls                              </td><td>397190</td></tr>\n",
              "\t<tr><td>0-17</td><td>Emergency Department Visit</td><td>Unintentionally struck by or against an object   </td><td>229236</td></tr>\n",
              "\t<tr><td>0-17</td><td>Emergency Department Visit</td><td>Other unintentional injury, mechanism unspecified</td><td>55785 </td></tr>\n",
              "\t<tr><td>0-17</td><td>Emergency Department Visit</td><td>Intentional self-harm                            </td><td>NA    </td></tr>\n",
              "\t<tr><td>0-17</td><td>Emergency Department Visit</td><td>Assault                                          </td><td>24360 </td></tr>\n",
              "</tbody>\n",
              "</table>\n"
            ],
            "text/markdown": "\nA tibble: 6 × 4\n\n| age &lt;chr&gt; | type &lt;chr&gt; | injury &lt;chr&gt; | estimate &lt;chr&gt; |\n|---|---|---|---|\n| 0-17 | Emergency Department Visit | Motor Vehicle Crashes                             | 47138  |\n| 0-17 | Emergency Department Visit | Unintentional Falls                               | 397190 |\n| 0-17 | Emergency Department Visit | Unintentionally struck by or against an object    | 229236 |\n| 0-17 | Emergency Department Visit | Other unintentional injury, mechanism unspecified | 55785  |\n| 0-17 | Emergency Department Visit | Intentional self-harm                             | NA     |\n| 0-17 | Emergency Department Visit | Assault                                           | 24360  |\n\n",
            "text/latex": "A tibble: 6 × 4\n\\begin{tabular}{llll}\n age & type & injury & estimate\\\\\n <chr> & <chr> & <chr> & <chr>\\\\\n\\hline\n\t 0-17 & Emergency Department Visit & Motor Vehicle Crashes                             & 47138 \\\\\n\t 0-17 & Emergency Department Visit & Unintentional Falls                               & 397190\\\\\n\t 0-17 & Emergency Department Visit & Unintentionally struck by or against an object    & 229236\\\\\n\t 0-17 & Emergency Department Visit & Other unintentional injury, mechanism unspecified & 55785 \\\\\n\t 0-17 & Emergency Department Visit & Intentional self-harm                             & NA    \\\\\n\t 0-17 & Emergency Department Visit & Assault                                           & 24360 \\\\\n\\end{tabular}\n",
            "text/plain": [
              "  age  type                      \n",
              "1 0-17 Emergency Department Visit\n",
              "2 0-17 Emergency Department Visit\n",
              "3 0-17 Emergency Department Visit\n",
              "4 0-17 Emergency Department Visit\n",
              "5 0-17 Emergency Department Visit\n",
              "6 0-17 Emergency Department Visit\n",
              "  injury                                            estimate\n",
              "1 Motor Vehicle Crashes                             47138   \n",
              "2 Unintentional Falls                               397190  \n",
              "3 Unintentionally struck by or against an object    229236  \n",
              "4 Other unintentional injury, mechanism unspecified 55785   \n",
              "5 Intentional self-harm                             NA      \n",
              "6 Assault                                           24360   "
            ]
          },
          "metadata": {}
        }
      ]
    },
    {
      "cell_type": "code",
      "source": [
        "injurydataset %>% filter(injury == 'Assault') %>% select(injury,estimate)"
      ],
      "metadata": {
        "colab": {
          "base_uri": "https://localhost:8080/",
          "height": 1000
        },
        "id": "PWmE6GJjcQ7Y",
        "outputId": "ad16dcbb-6076-43cd-a413-8136808970d9"
      },
      "execution_count": 26,
      "outputs": [
        {
          "output_type": "display_data",
          "data": {
            "text/html": [
              "<table class=\"dataframe\">\n",
              "<caption>A tibble: 33 × 2</caption>\n",
              "<thead>\n",
              "\t<tr><th scope=col>injury</th><th scope=col>estimate</th></tr>\n",
              "\t<tr><th scope=col>&lt;chr&gt;</th><th scope=col>&lt;chr&gt;</th></tr>\n",
              "</thead>\n",
              "<tbody>\n",
              "\t<tr><td>Assault</td><td>24360 </td></tr>\n",
              "\t<tr><td>Assault</td><td>674   </td></tr>\n",
              "\t<tr><td>Assault</td><td>9690  </td></tr>\n",
              "\t<tr><td>Assault</td><td>65399 </td></tr>\n",
              "\t<tr><td>Assault</td><td>57213 </td></tr>\n",
              "\t<tr><td>Assault</td><td>34100 </td></tr>\n",
              "\t<tr><td>Assault</td><td>27682 </td></tr>\n",
              "\t<tr><td>Assault</td><td>11538 </td></tr>\n",
              "\t<tr><td>Assault</td><td>2893  </td></tr>\n",
              "\t<tr><td>Assault</td><td>1260  </td></tr>\n",
              "\t<tr><td>Assault</td><td>210450</td></tr>\n",
              "\t<tr><td>Assault</td><td>1535  </td></tr>\n",
              "\t<tr><td>Assault</td><td>960   </td></tr>\n",
              "\t<tr><td>Assault</td><td>195   </td></tr>\n",
              "\t<tr><td>Assault</td><td>3125  </td></tr>\n",
              "\t<tr><td>Assault</td><td>4320  </td></tr>\n",
              "\t<tr><td>Assault</td><td>2865  </td></tr>\n",
              "\t<tr><td>Assault</td><td>3290  </td></tr>\n",
              "\t<tr><td>Assault</td><td>1780  </td></tr>\n",
              "\t<tr><td>Assault</td><td>535   </td></tr>\n",
              "\t<tr><td>Assault</td><td>325   </td></tr>\n",
              "\t<tr><td>Assault</td><td>17395 </td></tr>\n",
              "\t<tr><td>Assault</td><td>611   </td></tr>\n",
              "\t<tr><td>Assault</td><td>322   </td></tr>\n",
              "\t<tr><td>Assault</td><td>117   </td></tr>\n",
              "\t<tr><td>Assault</td><td>1165  </td></tr>\n",
              "\t<tr><td>Assault</td><td>1110  </td></tr>\n",
              "\t<tr><td>Assault</td><td>732   </td></tr>\n",
              "\t<tr><td>Assault</td><td>633   </td></tr>\n",
              "\t<tr><td>Assault</td><td>410   </td></tr>\n",
              "\t<tr><td>Assault</td><td>241   </td></tr>\n",
              "\t<tr><td>Assault</td><td>174   </td></tr>\n",
              "\t<tr><td>Assault</td><td>4906  </td></tr>\n",
              "</tbody>\n",
              "</table>\n"
            ],
            "text/markdown": "\nA tibble: 33 × 2\n\n| injury &lt;chr&gt; | estimate &lt;chr&gt; |\n|---|---|\n| Assault | 24360  |\n| Assault | 674    |\n| Assault | 9690   |\n| Assault | 65399  |\n| Assault | 57213  |\n| Assault | 34100  |\n| Assault | 27682  |\n| Assault | 11538  |\n| Assault | 2893   |\n| Assault | 1260   |\n| Assault | 210450 |\n| Assault | 1535   |\n| Assault | 960    |\n| Assault | 195    |\n| Assault | 3125   |\n| Assault | 4320   |\n| Assault | 2865   |\n| Assault | 3290   |\n| Assault | 1780   |\n| Assault | 535    |\n| Assault | 325    |\n| Assault | 17395  |\n| Assault | 611    |\n| Assault | 322    |\n| Assault | 117    |\n| Assault | 1165   |\n| Assault | 1110   |\n| Assault | 732    |\n| Assault | 633    |\n| Assault | 410    |\n| Assault | 241    |\n| Assault | 174    |\n| Assault | 4906   |\n\n",
            "text/latex": "A tibble: 33 × 2\n\\begin{tabular}{ll}\n injury & estimate\\\\\n <chr> & <chr>\\\\\n\\hline\n\t Assault & 24360 \\\\\n\t Assault & 674   \\\\\n\t Assault & 9690  \\\\\n\t Assault & 65399 \\\\\n\t Assault & 57213 \\\\\n\t Assault & 34100 \\\\\n\t Assault & 27682 \\\\\n\t Assault & 11538 \\\\\n\t Assault & 2893  \\\\\n\t Assault & 1260  \\\\\n\t Assault & 210450\\\\\n\t Assault & 1535  \\\\\n\t Assault & 960   \\\\\n\t Assault & 195   \\\\\n\t Assault & 3125  \\\\\n\t Assault & 4320  \\\\\n\t Assault & 2865  \\\\\n\t Assault & 3290  \\\\\n\t Assault & 1780  \\\\\n\t Assault & 535   \\\\\n\t Assault & 325   \\\\\n\t Assault & 17395 \\\\\n\t Assault & 611   \\\\\n\t Assault & 322   \\\\\n\t Assault & 117   \\\\\n\t Assault & 1165  \\\\\n\t Assault & 1110  \\\\\n\t Assault & 732   \\\\\n\t Assault & 633   \\\\\n\t Assault & 410   \\\\\n\t Assault & 241   \\\\\n\t Assault & 174   \\\\\n\t Assault & 4906  \\\\\n\\end{tabular}\n",
            "text/plain": [
              "   injury  estimate\n",
              "1  Assault 24360   \n",
              "2  Assault 674     \n",
              "3  Assault 9690    \n",
              "4  Assault 65399   \n",
              "5  Assault 57213   \n",
              "6  Assault 34100   \n",
              "7  Assault 27682   \n",
              "8  Assault 11538   \n",
              "9  Assault 2893    \n",
              "10 Assault 1260    \n",
              "11 Assault 210450  \n",
              "12 Assault 1535    \n",
              "13 Assault 960     \n",
              "14 Assault 195     \n",
              "15 Assault 3125    \n",
              "16 Assault 4320    \n",
              "17 Assault 2865    \n",
              "18 Assault 3290    \n",
              "19 Assault 1780    \n",
              "20 Assault 535     \n",
              "21 Assault 325     \n",
              "22 Assault 17395   \n",
              "23 Assault 611     \n",
              "24 Assault 322     \n",
              "25 Assault 117     \n",
              "26 Assault 1165    \n",
              "27 Assault 1110    \n",
              "28 Assault 732     \n",
              "29 Assault 633     \n",
              "30 Assault 410     \n",
              "31 Assault 241     \n",
              "32 Assault 174     \n",
              "33 Assault 4906    "
            ]
          },
          "metadata": {}
        }
      ]
    },
    {
      "cell_type": "markdown",
      "source": [
        "## **Handling missing values**"
      ],
      "metadata": {
        "id": "QJ4ZMu_teXww"
      }
    },
    {
      "cell_type": "markdown",
      "source": [
        "**Data observation**"
      ],
      "metadata": {
        "id": "ILkZhE4EgvDO"
      }
    },
    {
      "cell_type": "code",
      "source": [
        "head(injuries)"
      ],
      "metadata": {
        "colab": {
          "base_uri": "https://localhost:8080/",
          "height": 390
        },
        "id": "_NLn_F6aeXTf",
        "outputId": "749ce081-446d-43ed-fe63-1e73aaf23a05"
      },
      "execution_count": 27,
      "outputs": [
        {
          "output_type": "display_data",
          "data": {
            "text/html": [
              "<table class=\"dataframe\">\n",
              "<caption>A tibble: 6 × 4</caption>\n",
              "<thead>\n",
              "\t<tr><th scope=col>age</th><th scope=col>type</th><th scope=col>injury</th><th scope=col>estimate</th></tr>\n",
              "\t<tr><th scope=col>&lt;chr&gt;</th><th scope=col>&lt;chr&gt;</th><th scope=col>&lt;chr&gt;</th><th scope=col>&lt;dbl&gt;</th></tr>\n",
              "</thead>\n",
              "<tbody>\n",
              "\t<tr><td>0-17</td><td>Emergency Department Visit</td><td>Motor Vehicle Crashes                            </td><td> 47138</td></tr>\n",
              "\t<tr><td>0-17</td><td>Emergency Department Visit</td><td>Unintentional Falls                              </td><td>397190</td></tr>\n",
              "\t<tr><td>0-17</td><td>Emergency Department Visit</td><td>Unintentionally struck by or against an object   </td><td>229236</td></tr>\n",
              "\t<tr><td>0-17</td><td>Emergency Department Visit</td><td>Other unintentional injury, mechanism unspecified</td><td> 55785</td></tr>\n",
              "\t<tr><td>0-17</td><td>Emergency Department Visit</td><td>Intentional self-harm                            </td><td>    NA</td></tr>\n",
              "\t<tr><td>0-17</td><td>Emergency Department Visit</td><td>Assault                                          </td><td> 24360</td></tr>\n",
              "</tbody>\n",
              "</table>\n"
            ],
            "text/markdown": "\nA tibble: 6 × 4\n\n| age &lt;chr&gt; | type &lt;chr&gt; | injury &lt;chr&gt; | estimate &lt;dbl&gt; |\n|---|---|---|---|\n| 0-17 | Emergency Department Visit | Motor Vehicle Crashes                             |  47138 |\n| 0-17 | Emergency Department Visit | Unintentional Falls                               | 397190 |\n| 0-17 | Emergency Department Visit | Unintentionally struck by or against an object    | 229236 |\n| 0-17 | Emergency Department Visit | Other unintentional injury, mechanism unspecified |  55785 |\n| 0-17 | Emergency Department Visit | Intentional self-harm                             |     NA |\n| 0-17 | Emergency Department Visit | Assault                                           |  24360 |\n\n",
            "text/latex": "A tibble: 6 × 4\n\\begin{tabular}{llll}\n age & type & injury & estimate\\\\\n <chr> & <chr> & <chr> & <dbl>\\\\\n\\hline\n\t 0-17 & Emergency Department Visit & Motor Vehicle Crashes                             &  47138\\\\\n\t 0-17 & Emergency Department Visit & Unintentional Falls                               & 397190\\\\\n\t 0-17 & Emergency Department Visit & Unintentionally struck by or against an object    & 229236\\\\\n\t 0-17 & Emergency Department Visit & Other unintentional injury, mechanism unspecified &  55785\\\\\n\t 0-17 & Emergency Department Visit & Intentional self-harm                             &     NA\\\\\n\t 0-17 & Emergency Department Visit & Assault                                           &  24360\\\\\n\\end{tabular}\n",
            "text/plain": [
              "  age  type                      \n",
              "1 0-17 Emergency Department Visit\n",
              "2 0-17 Emergency Department Visit\n",
              "3 0-17 Emergency Department Visit\n",
              "4 0-17 Emergency Department Visit\n",
              "5 0-17 Emergency Department Visit\n",
              "6 0-17 Emergency Department Visit\n",
              "  injury                                            estimate\n",
              "1 Motor Vehicle Crashes                              47138  \n",
              "2 Unintentional Falls                               397190  \n",
              "3 Unintentionally struck by or against an object    229236  \n",
              "4 Other unintentional injury, mechanism unspecified  55785  \n",
              "5 Intentional self-harm                                 NA  \n",
              "6 Assault                                            24360  "
            ]
          },
          "metadata": {}
        }
      ]
    },
    {
      "cell_type": "code",
      "source": [
        "# To get value in the vector estimate\n",
        "injuries$estimate"
      ],
      "metadata": {
        "colab": {
          "base_uri": "https://localhost:8080/",
          "height": 329
        },
        "id": "VPljW-4GemaN",
        "outputId": "e2fc69bc-6ee2-4386-b8ff-1677263f1bcb"
      },
      "execution_count": 28,
      "outputs": [
        {
          "output_type": "display_data",
          "data": {
            "text/html": [
              "<style>\n",
              ".list-inline {list-style: none; margin:0; padding: 0}\n",
              ".list-inline>li {display: inline-block}\n",
              ".list-inline>li:not(:last-child)::after {content: \"\\00b7\"; padding: 0 .5ex}\n",
              "</style>\n",
              "<ol class=list-inline><li>47138</li><li>397190</li><li>229236</li><li>55785</li><li>&lt;NA&gt;</li><li>24360</li><li>57983</li><li>5464</li><li>230776</li><li>53436</li><li>12007</li><li>&lt;NA&gt;</li><li>674</li><li>19360</li><li>19785</li><li>133084</li><li>120839</li><li>30656</li><li>&lt;NA&gt;</li><li>9690</li><li>26022</li><li>103892</li><li>96568</li><li>106679</li><li>37118</li><li>870</li><li>65399</li><li>33395</li><li>71641</li><li>70210</li><li>44404</li><li>22360</li><li>650</li><li>57213</li><li>20974</li><li>44108</li><li>68830</li><li>32479</li><li>17541</li><li>421</li><li>34100</li><li>16503</li><li>40020</li><li>95127</li><li>30495</li><li>17808</li><li>247</li><li>27682</li><li>15962</li><li>27193</li><li>112460</li><li>20408</li><li>12928</li><li>105</li><li>11538</li><li>13387</li><li>13829</li><li>120327</li><li>11937</li><li>7077</li><li>&lt;NA&gt;</li><li>2893</li><li>10051</li><li>8176</li><li>286031</li><li>13270</li><li>7440</li><li>&lt;NA&gt;</li><li>1260</li><li>17318</li><li>334109</li><li>1213412</li><li>433947</li><li>164935</li><li>2567</li><li>210450</li><li>172974</li><li>5830</li><li>7935</li><li>1985</li><li>3135</li><li>&lt;NA&gt;</li><li>1535</li><li>2595</li><li>870</li><li>4700</li><li>510</li><li>785</li><li>&lt;NA&gt;</li><li>960</li><li>1140</li><li>2395</li><li>2270</li><li>980</li><li>1435</li><li>&lt;NA&gt;</li><li>195</li><li>955</li><li>12925</li><li>3910</li><li>1070</li><li>3060</li><li>280</li><li>3125</li><li>2050</li><li>11050</li><li>4470</li><li>635</li><li>2600</li><li>440</li><li>4320</li><li>1965</li><li>7305</li><li>5640</li><li>610</li><li>2255</li><li>340</li><li>2865</li><li>1920</li><li>8490</li><li>12010</li><li>685</li><li>3140</li><li>350</li><li>3290</li><li>2775</li><li>7280</li><li>18490</li><li>765</li><li>3165</li><li>145</li><li>1780</li><li>4215</li><li>4485</li><li>25235</li><li>790</li><li>2180</li><li>85</li><li>535</li><li>5085</li><li>3965</li><li>74005</li><li>1045</li><li>2550</li><li>70</li><li>325</li><li>11360</li><li>58765</li><li>150730</li><li>7090</li><li>21170</li><li>1730</li><li>17395</li><li>31465</li><li>931</li><li>48</li><li>52</li><li>308</li><li>&lt;NA&gt;</li><li>611</li><li>61</li><li>187</li><li>19</li><li>27</li><li>136</li><li>&lt;NA&gt;</li><li>322</li><li>30</li><li>326</li><li>16</li><li>19</li><li>110</li><li>&lt;NA&gt;</li><li>117</li><li>19</li><li>2419</li><li>95</li><li>21</li><li>344</li><li>2171</li><li>1165</li><li>96</li><li>1960</li><li>175</li><li>34</li><li>345</li><li>2622</li><li>1110</li><li>125</li><li>1402</li><li>328</li><li>41</li><li>388</li><li>2502</li><li>732</li><li>152</li><li>1484</li><li>908</li><li>62</li><li>618</li><li>3334</li><li>633</li><li>297</li><li>1287</li><li>1674</li><li>70</li><li>585</li><li>3233</li><li>410</li><li>393</li><li>797</li><li>2324</li><li>60</li><li>504</li><li>2244</li><li>241</li><li>356</li><li>794</li><li>10400</li><li>44</li><li>859</li><li>2212</li><li>174</li><li>1079</li><li>10656</li><li>15939</li><li>378</li><li>3889</li><li>18485</li><li>4906</li><li>2547</li></ol>\n"
            ],
            "text/markdown": "1. 47138\n2. 397190\n3. 229236\n4. 55785\n5. &lt;NA&gt;\n6. 24360\n7. 57983\n8. 5464\n9. 230776\n10. 53436\n11. 12007\n12. &lt;NA&gt;\n13. 674\n14. 19360\n15. 19785\n16. 133084\n17. 120839\n18. 30656\n19. &lt;NA&gt;\n20. 9690\n21. 26022\n22. 103892\n23. 96568\n24. 106679\n25. 37118\n26. 870\n27. 65399\n28. 33395\n29. 71641\n30. 70210\n31. 44404\n32. 22360\n33. 650\n34. 57213\n35. 20974\n36. 44108\n37. 68830\n38. 32479\n39. 17541\n40. 421\n41. 34100\n42. 16503\n43. 40020\n44. 95127\n45. 30495\n46. 17808\n47. 247\n48. 27682\n49. 15962\n50. 27193\n51. 112460\n52. 20408\n53. 12928\n54. 105\n55. 11538\n56. 13387\n57. 13829\n58. 120327\n59. 11937\n60. 7077\n61. &lt;NA&gt;\n62. 2893\n63. 10051\n64. 8176\n65. 286031\n66. 13270\n67. 7440\n68. &lt;NA&gt;\n69. 1260\n70. 17318\n71. 334109\n72. 1213412\n73. 433947\n74. 164935\n75. 2567\n76. 210450\n77. 172974\n78. 5830\n79. 7935\n80. 1985\n81. 3135\n82. &lt;NA&gt;\n83. 1535\n84. 2595\n85. 870\n86. 4700\n87. 510\n88. 785\n89. &lt;NA&gt;\n90. 960\n91. 1140\n92. 2395\n93. 2270\n94. 980\n95. 1435\n96. &lt;NA&gt;\n97. 195\n98. 955\n99. 12925\n100. 3910\n101. 1070\n102. 3060\n103. 280\n104. 3125\n105. 2050\n106. 11050\n107. 4470\n108. 635\n109. 2600\n110. 440\n111. 4320\n112. 1965\n113. 7305\n114. 5640\n115. 610\n116. 2255\n117. 340\n118. 2865\n119. 1920\n120. 8490\n121. 12010\n122. 685\n123. 3140\n124. 350\n125. 3290\n126. 2775\n127. 7280\n128. 18490\n129. 765\n130. 3165\n131. 145\n132. 1780\n133. 4215\n134. 4485\n135. 25235\n136. 790\n137. 2180\n138. 85\n139. 535\n140. 5085\n141. 3965\n142. 74005\n143. 1045\n144. 2550\n145. 70\n146. 325\n147. 11360\n148. 58765\n149. 150730\n150. 7090\n151. 21170\n152. 1730\n153. 17395\n154. 31465\n155. 931\n156. 48\n157. 52\n158. 308\n159. &lt;NA&gt;\n160. 611\n161. 61\n162. 187\n163. 19\n164. 27\n165. 136\n166. &lt;NA&gt;\n167. 322\n168. 30\n169. 326\n170. 16\n171. 19\n172. 110\n173. &lt;NA&gt;\n174. 117\n175. 19\n176. 2419\n177. 95\n178. 21\n179. 344\n180. 2171\n181. 1165\n182. 96\n183. 1960\n184. 175\n185. 34\n186. 345\n187. 2622\n188. 1110\n189. 125\n190. 1402\n191. 328\n192. 41\n193. 388\n194. 2502\n195. 732\n196. 152\n197. 1484\n198. 908\n199. 62\n200. 618\n201. 3334\n202. 633\n203. 297\n204. 1287\n205. 1674\n206. 70\n207. 585\n208. 3233\n209. 410\n210. 393\n211. 797\n212. 2324\n213. 60\n214. 504\n215. 2244\n216. 241\n217. 356\n218. 794\n219. 10400\n220. 44\n221. 859\n222. 2212\n223. 174\n224. 1079\n225. 10656\n226. 15939\n227. 378\n228. 3889\n229. 18485\n230. 4906\n231. 2547\n\n\n",
            "text/latex": "\\begin{enumerate*}\n\\item 47138\n\\item 397190\n\\item 229236\n\\item 55785\n\\item <NA>\n\\item 24360\n\\item 57983\n\\item 5464\n\\item 230776\n\\item 53436\n\\item 12007\n\\item <NA>\n\\item 674\n\\item 19360\n\\item 19785\n\\item 133084\n\\item 120839\n\\item 30656\n\\item <NA>\n\\item 9690\n\\item 26022\n\\item 103892\n\\item 96568\n\\item 106679\n\\item 37118\n\\item 870\n\\item 65399\n\\item 33395\n\\item 71641\n\\item 70210\n\\item 44404\n\\item 22360\n\\item 650\n\\item 57213\n\\item 20974\n\\item 44108\n\\item 68830\n\\item 32479\n\\item 17541\n\\item 421\n\\item 34100\n\\item 16503\n\\item 40020\n\\item 95127\n\\item 30495\n\\item 17808\n\\item 247\n\\item 27682\n\\item 15962\n\\item 27193\n\\item 112460\n\\item 20408\n\\item 12928\n\\item 105\n\\item 11538\n\\item 13387\n\\item 13829\n\\item 120327\n\\item 11937\n\\item 7077\n\\item <NA>\n\\item 2893\n\\item 10051\n\\item 8176\n\\item 286031\n\\item 13270\n\\item 7440\n\\item <NA>\n\\item 1260\n\\item 17318\n\\item 334109\n\\item 1213412\n\\item 433947\n\\item 164935\n\\item 2567\n\\item 210450\n\\item 172974\n\\item 5830\n\\item 7935\n\\item 1985\n\\item 3135\n\\item <NA>\n\\item 1535\n\\item 2595\n\\item 870\n\\item 4700\n\\item 510\n\\item 785\n\\item <NA>\n\\item 960\n\\item 1140\n\\item 2395\n\\item 2270\n\\item 980\n\\item 1435\n\\item <NA>\n\\item 195\n\\item 955\n\\item 12925\n\\item 3910\n\\item 1070\n\\item 3060\n\\item 280\n\\item 3125\n\\item 2050\n\\item 11050\n\\item 4470\n\\item 635\n\\item 2600\n\\item 440\n\\item 4320\n\\item 1965\n\\item 7305\n\\item 5640\n\\item 610\n\\item 2255\n\\item 340\n\\item 2865\n\\item 1920\n\\item 8490\n\\item 12010\n\\item 685\n\\item 3140\n\\item 350\n\\item 3290\n\\item 2775\n\\item 7280\n\\item 18490\n\\item 765\n\\item 3165\n\\item 145\n\\item 1780\n\\item 4215\n\\item 4485\n\\item 25235\n\\item 790\n\\item 2180\n\\item 85\n\\item 535\n\\item 5085\n\\item 3965\n\\item 74005\n\\item 1045\n\\item 2550\n\\item 70\n\\item 325\n\\item 11360\n\\item 58765\n\\item 150730\n\\item 7090\n\\item 21170\n\\item 1730\n\\item 17395\n\\item 31465\n\\item 931\n\\item 48\n\\item 52\n\\item 308\n\\item <NA>\n\\item 611\n\\item 61\n\\item 187\n\\item 19\n\\item 27\n\\item 136\n\\item <NA>\n\\item 322\n\\item 30\n\\item 326\n\\item 16\n\\item 19\n\\item 110\n\\item <NA>\n\\item 117\n\\item 19\n\\item 2419\n\\item 95\n\\item 21\n\\item 344\n\\item 2171\n\\item 1165\n\\item 96\n\\item 1960\n\\item 175\n\\item 34\n\\item 345\n\\item 2622\n\\item 1110\n\\item 125\n\\item 1402\n\\item 328\n\\item 41\n\\item 388\n\\item 2502\n\\item 732\n\\item 152\n\\item 1484\n\\item 908\n\\item 62\n\\item 618\n\\item 3334\n\\item 633\n\\item 297\n\\item 1287\n\\item 1674\n\\item 70\n\\item 585\n\\item 3233\n\\item 410\n\\item 393\n\\item 797\n\\item 2324\n\\item 60\n\\item 504\n\\item 2244\n\\item 241\n\\item 356\n\\item 794\n\\item 10400\n\\item 44\n\\item 859\n\\item 2212\n\\item 174\n\\item 1079\n\\item 10656\n\\item 15939\n\\item 378\n\\item 3889\n\\item 18485\n\\item 4906\n\\item 2547\n\\end{enumerate*}\n",
            "text/plain": [
              "  [1]   47138  397190  229236   55785      NA   24360   57983    5464  230776\n",
              " [10]   53436   12007      NA     674   19360   19785  133084  120839   30656\n",
              " [19]      NA    9690   26022  103892   96568  106679   37118     870   65399\n",
              " [28]   33395   71641   70210   44404   22360     650   57213   20974   44108\n",
              " [37]   68830   32479   17541     421   34100   16503   40020   95127   30495\n",
              " [46]   17808     247   27682   15962   27193  112460   20408   12928     105\n",
              " [55]   11538   13387   13829  120327   11937    7077      NA    2893   10051\n",
              " [64]    8176  286031   13270    7440      NA    1260   17318  334109 1213412\n",
              " [73]  433947  164935    2567  210450  172974    5830    7935    1985    3135\n",
              " [82]      NA    1535    2595     870    4700     510     785      NA     960\n",
              " [91]    1140    2395    2270     980    1435      NA     195     955   12925\n",
              "[100]    3910    1070    3060     280    3125    2050   11050    4470     635\n",
              "[109]    2600     440    4320    1965    7305    5640     610    2255     340\n",
              "[118]    2865    1920    8490   12010     685    3140     350    3290    2775\n",
              "[127]    7280   18490     765    3165     145    1780    4215    4485   25235\n",
              "[136]     790    2180      85     535    5085    3965   74005    1045    2550\n",
              "[145]      70     325   11360   58765  150730    7090   21170    1730   17395\n",
              "[154]   31465     931      48      52     308      NA     611      61     187\n",
              "[163]      19      27     136      NA     322      30     326      16      19\n",
              "[172]     110      NA     117      19    2419      95      21     344    2171\n",
              "[181]    1165      96    1960     175      34     345    2622    1110     125\n",
              "[190]    1402     328      41     388    2502     732     152    1484     908\n",
              "[199]      62     618    3334     633     297    1287    1674      70     585\n",
              "[208]    3233     410     393     797    2324      60     504    2244     241\n",
              "[217]     356     794   10400      44     859    2212     174    1079   10656\n",
              "[226]   15939     378    3889   18485    4906    2547"
            ]
          },
          "metadata": {}
        }
      ]
    },
    {
      "cell_type": "code",
      "source": [
        "# Is there any NA in the vector estimate\n",
        "any(is.na(injuries$estimate))"
      ],
      "metadata": {
        "colab": {
          "base_uri": "https://localhost:8080/",
          "height": 34
        },
        "id": "lx0SvK_me0vs",
        "outputId": "d2f7ea90-e8ec-4fc5-cc3b-b03f10d64a36"
      },
      "execution_count": 30,
      "outputs": [
        {
          "output_type": "display_data",
          "data": {
            "text/html": [
              "TRUE"
            ],
            "text/markdown": "TRUE",
            "text/latex": "TRUE",
            "text/plain": [
              "[1] TRUE"
            ]
          },
          "metadata": {}
        }
      ]
    },
    {
      "cell_type": "code",
      "source": [
        "# How many NA the estimate vector\n",
        "sum(is.na(injuries$estimate))"
      ],
      "metadata": {
        "colab": {
          "base_uri": "https://localhost:8080/",
          "height": 34
        },
        "id": "Vvzp_VTFfWli",
        "outputId": "51d663ce-35ba-409e-8f9b-6614181a2f09"
      },
      "execution_count": 31,
      "outputs": [
        {
          "output_type": "display_data",
          "data": {
            "text/html": [
              "11"
            ],
            "text/markdown": "11",
            "text/latex": "11",
            "text/plain": [
              "[1] 11"
            ]
          },
          "metadata": {}
        }
      ]
    },
    {
      "cell_type": "markdown",
      "source": [
        "**Data dimension**"
      ],
      "metadata": {
        "id": "Aew2nDDugqUE"
      }
    },
    {
      "cell_type": "code",
      "source": [
        "# data dimension # rows and columns\n",
        "# Number of rows\n",
        "nrow(injuries)\n",
        "\n",
        "# Number of columns\n",
        "ncol(injuries)\n",
        "\n",
        "# Both at once\n",
        "dim(injuries)\n"
      ],
      "metadata": {
        "colab": {
          "base_uri": "https://localhost:8080/",
          "height": 69
        },
        "id": "XXI1Qx4sgTBp",
        "outputId": "ce652378-d119-4dc4-fb5d-07a4f16ff16c"
      },
      "execution_count": 32,
      "outputs": [
        {
          "output_type": "display_data",
          "data": {
            "text/html": [
              "231"
            ],
            "text/markdown": "231",
            "text/latex": "231",
            "text/plain": [
              "[1] 231"
            ]
          },
          "metadata": {}
        },
        {
          "output_type": "display_data",
          "data": {
            "text/html": [
              "4"
            ],
            "text/markdown": "4",
            "text/latex": "4",
            "text/plain": [
              "[1] 4"
            ]
          },
          "metadata": {}
        },
        {
          "output_type": "display_data",
          "data": {
            "text/html": [
              "<style>\n",
              ".list-inline {list-style: none; margin:0; padding: 0}\n",
              ".list-inline>li {display: inline-block}\n",
              ".list-inline>li:not(:last-child)::after {content: \"\\00b7\"; padding: 0 .5ex}\n",
              "</style>\n",
              "<ol class=list-inline><li>231</li><li>4</li></ol>\n"
            ],
            "text/markdown": "1. 231\n2. 4\n\n\n",
            "text/latex": "\\begin{enumerate*}\n\\item 231\n\\item 4\n\\end{enumerate*}\n",
            "text/plain": [
              "[1] 231   4"
            ]
          },
          "metadata": {}
        }
      ]
    },
    {
      "cell_type": "code",
      "source": [
        "# Before missing values handling\n",
        "# Shows rows, columns, and data types\n",
        "glimpse(injuries)"
      ],
      "metadata": {
        "colab": {
          "base_uri": "https://localhost:8080/"
        },
        "id": "XYDvfl-bgiGF",
        "outputId": "2f37af11-16cb-4e07-cf57-1c094c4b3586"
      },
      "execution_count": 34,
      "outputs": [
        {
          "output_type": "stream",
          "name": "stdout",
          "text": [
            "Rows: 231\n",
            "Columns: 4\n",
            "$ age      \u001b[3m\u001b[90m<chr>\u001b[39m\u001b[23m \"0-17\"\u001b[90m, \u001b[39m\"0-17\"\u001b[90m, \u001b[39m\"0-17\"\u001b[90m, \u001b[39m\"0-17\"\u001b[90m, \u001b[39m\"0-17\"\u001b[90m, \u001b[39m\"0-17\"\u001b[90m, \u001b[39m\"0-17\"\u001b[90m, \u001b[39m\"0-4\"…\n",
            "$ type     \u001b[3m\u001b[90m<chr>\u001b[39m\u001b[23m \"Emergency Department Visit\"\u001b[90m, \u001b[39m\"Emergency Department Visit\"\u001b[90m, \u001b[39m\"…\n",
            "$ injury   \u001b[3m\u001b[90m<chr>\u001b[39m\u001b[23m \"Motor Vehicle Crashes\"\u001b[90m, \u001b[39m\"Unintentional Falls\"\u001b[90m, \u001b[39m\"Unintentiona…\n",
            "$ estimate \u001b[3m\u001b[90m<dbl>\u001b[39m\u001b[23m 47138\u001b[90m, \u001b[39m397190\u001b[90m, \u001b[39m229236\u001b[90m, \u001b[39m55785\u001b[90m, \u001b[39m\u001b[31mNA\u001b[39m\u001b[90m, \u001b[39m24360\u001b[90m, \u001b[39m57983\u001b[90m, \u001b[39m5464\u001b[90m, \u001b[39m230776\u001b[90m,\u001b[39m…\n"
          ]
        }
      ]
    },
    {
      "cell_type": "markdown",
      "source": [
        "### **Handling missing values - Dropping**"
      ],
      "metadata": {
        "id": "yK9dnA-3hn_t"
      }
    },
    {
      "cell_type": "code",
      "source": [
        "# Removing missing values\n",
        "# Drop rows with any NA values\n",
        "injuries <- injuries %>% drop_na()"
      ],
      "metadata": {
        "id": "IIbMBlYzfmnl"
      },
      "execution_count": 38,
      "outputs": []
    },
    {
      "cell_type": "code",
      "source": [
        "# After missing values handling\n",
        "# Shows rows, columns, and data types\n",
        "glimpse(injuries)"
      ],
      "metadata": {
        "colab": {
          "base_uri": "https://localhost:8080/"
        },
        "id": "gf6R-KX4hXR-",
        "outputId": "41c14e5a-5d6d-4656-b3b9-75a897a3ae9f"
      },
      "execution_count": 39,
      "outputs": [
        {
          "output_type": "stream",
          "name": "stdout",
          "text": [
            "Rows: 220\n",
            "Columns: 4\n",
            "$ age      \u001b[3m\u001b[90m<chr>\u001b[39m\u001b[23m \"0-17\"\u001b[90m, \u001b[39m\"0-17\"\u001b[90m, \u001b[39m\"0-17\"\u001b[90m, \u001b[39m\"0-17\"\u001b[90m, \u001b[39m\"0-17\"\u001b[90m, \u001b[39m\"0-17\"\u001b[90m, \u001b[39m\"0-4\"\u001b[90m, \u001b[39m\"0-4\"\u001b[90m,\u001b[39m…\n",
            "$ type     \u001b[3m\u001b[90m<chr>\u001b[39m\u001b[23m \"Emergency Department Visit\"\u001b[90m, \u001b[39m\"Emergency Department Visit\"\u001b[90m, \u001b[39m\"…\n",
            "$ injury   \u001b[3m\u001b[90m<chr>\u001b[39m\u001b[23m \"Motor Vehicle Crashes\"\u001b[90m, \u001b[39m\"Unintentional Falls\"\u001b[90m, \u001b[39m\"Unintentiona…\n",
            "$ estimate \u001b[3m\u001b[90m<dbl>\u001b[39m\u001b[23m 47138\u001b[90m, \u001b[39m397190\u001b[90m, \u001b[39m229236\u001b[90m, \u001b[39m55785\u001b[90m, \u001b[39m24360\u001b[90m, \u001b[39m57983\u001b[90m, \u001b[39m5464\u001b[90m, \u001b[39m230776\u001b[90m, \u001b[39m534…\n"
          ]
        }
      ]
    },
    {
      "cell_type": "markdown",
      "source": [
        "### **Handling missing values - Replace with mean**"
      ],
      "metadata": {
        "id": "qAP9LeQuk1Mz"
      }
    },
    {
      "cell_type": "markdown",
      "source": [
        "Beside dropping, we can also handle missing values by replacing them with mean values."
      ],
      "metadata": {
        "id": "dt0N7KEchwWn"
      }
    },
    {
      "cell_type": "code",
      "source": [
        "injuries$estimate[is.na(injuries$estimate)] <-\n",
        "  mean(injuries$estimate, na.rm = TRUE)\n"
      ],
      "metadata": {
        "id": "ge4CQYktkUsA"
      },
      "execution_count": 40,
      "outputs": []
    },
    {
      "cell_type": "code",
      "source": [
        "# After missing values handling\n",
        "# Shows rows, columns, and data types\n",
        "glimpse(injuries$estimate)"
      ],
      "metadata": {
        "colab": {
          "base_uri": "https://localhost:8080/"
        },
        "id": "W-7Zb-1nkYK-",
        "outputId": "15c2ae7b-5632-4c52-9bed-9105c2ad5c06"
      },
      "execution_count": 42,
      "outputs": [
        {
          "output_type": "stream",
          "name": "stdout",
          "text": [
            " num [1:220] 47138 397190 229236 55785 24360 ...\n"
          ]
        }
      ]
    },
    {
      "cell_type": "markdown",
      "source": [
        "## **Split and combine cells and columns in R**\n",
        "\n",
        "We will use a new dataset of \"student grade.xlsx\""
      ],
      "metadata": {
        "id": "W_8Ivy55lSqp"
      }
    },
    {
      "cell_type": "code",
      "source": [
        "# Reading excel file from github\n",
        "library(readxl)\n",
        "library(httr)\n",
        "\n",
        "# Correct raw url (binary files must use /raw/ not /blob/ or /refs/heads/)\n",
        "url_xlsx <- \"https://github.com/harishmuh/R_tutorial/raw/main/datasets/student%20grades.xlsx\"\n",
        "\n",
        "# Download the file temporarily using httr::GET to ensure proper handling of binary files\n",
        "temp_file <- tempfile(fileext = \".xlsx\")\n",
        "GET(url_xlsx, write_disk(temp_file, overwrite = TRUE))\n",
        "\n",
        "# Read Excel\n",
        "grades <- read_excel(temp_file)\n",
        "\n",
        "# Check first rows\n",
        "head(grades)"
      ],
      "metadata": {
        "colab": {
          "base_uri": "https://localhost:8080/",
          "height": 434
        },
        "id": "XEAm_dPJlkaI",
        "outputId": "1bf5bb39-188b-46d1-de5d-12969d99c101"
      },
      "execution_count": 44,
      "outputs": [
        {
          "output_type": "display_data",
          "data": {
            "text/plain": [
              "Response [https://raw.githubusercontent.com/harishmuh/R_tutorial/main/datasets/student%20grades.xlsx]\n",
              "  Date: 2025-09-16 03:40\n",
              "  Status: 200\n",
              "  Content-Type: application/octet-stream\n",
              "  Size: 21 kB\n",
              "<ON DISK>  /tmp/RtmpGUMlT6/filefa4fc0cfc0.xlsxNULL"
            ]
          },
          "metadata": {}
        },
        {
          "output_type": "display_data",
          "data": {
            "text/html": [
              "<table class=\"dataframe\">\n",
              "<caption>A tibble: 6 × 3</caption>\n",
              "<thead>\n",
              "\t<tr><th scope=col>student_id</th><th scope=col>last_name</th><th scope=col>first_name</th></tr>\n",
              "\t<tr><th scope=col>&lt;dbl&gt;</th><th scope=col>&lt;chr&gt;</th><th scope=col>&lt;chr&gt;</th></tr>\n",
              "</thead>\n",
              "<tbody>\n",
              "\t<tr><td>27</td><td>Marian </td><td>Ryan   </td></tr>\n",
              "\t<tr><td>28</td><td>Sandra </td><td>Moss   </td></tr>\n",
              "\t<tr><td>33</td><td>Rodney </td><td>Howell </td></tr>\n",
              "\t<tr><td>34</td><td>Sheldon</td><td>Black  </td></tr>\n",
              "\t<tr><td>40</td><td>Amos   </td><td>Clarke </td></tr>\n",
              "\t<tr><td>46</td><td>Daisy  </td><td>Osborne</td></tr>\n",
              "</tbody>\n",
              "</table>\n"
            ],
            "text/markdown": "\nA tibble: 6 × 3\n\n| student_id &lt;dbl&gt; | last_name &lt;chr&gt; | first_name &lt;chr&gt; |\n|---|---|---|\n| 27 | Marian  | Ryan    |\n| 28 | Sandra  | Moss    |\n| 33 | Rodney  | Howell  |\n| 34 | Sheldon | Black   |\n| 40 | Amos    | Clarke  |\n| 46 | Daisy   | Osborne |\n\n",
            "text/latex": "A tibble: 6 × 3\n\\begin{tabular}{lll}\n student\\_id & last\\_name & first\\_name\\\\\n <dbl> & <chr> & <chr>\\\\\n\\hline\n\t 27 & Marian  & Ryan   \\\\\n\t 28 & Sandra  & Moss   \\\\\n\t 33 & Rodney  & Howell \\\\\n\t 34 & Sheldon & Black  \\\\\n\t 40 & Amos    & Clarke \\\\\n\t 46 & Daisy   & Osborne\\\\\n\\end{tabular}\n",
            "text/plain": [
              "  student_id last_name first_name\n",
              "1 27         Marian    Ryan      \n",
              "2 28         Sandra    Moss      \n",
              "3 33         Rodney    Howell    \n",
              "4 34         Sheldon   Black     \n",
              "5 40         Amos      Clarke    \n",
              "6 46         Daisy     Osborne   "
            ]
          },
          "metadata": {}
        }
      ]
    },
    {
      "cell_type": "markdown",
      "source": [
        "### **Combine cells**"
      ],
      "metadata": {
        "id": "0DBLQAnNpD14"
      }
    },
    {
      "cell_type": "code",
      "source": [
        "# We will combine both first_name and last_name\n",
        "unite(grades, c(first_name, last_name), col=full_name)"
      ],
      "metadata": {
        "colab": {
          "base_uri": "https://localhost:8080/",
          "height": 1000
        },
        "id": "7v3hmxy1nBeY",
        "outputId": "af9e39dd-232c-49ee-c723-14641e1d8a6e"
      },
      "execution_count": 45,
      "outputs": [
        {
          "output_type": "display_data",
          "data": {
            "text/html": [
              "<table class=\"dataframe\">\n",
              "<caption>A tibble: 100 × 2</caption>\n",
              "<thead>\n",
              "\t<tr><th scope=col>student_id</th><th scope=col>full_name</th></tr>\n",
              "\t<tr><th scope=col>&lt;dbl&gt;</th><th scope=col>&lt;chr&gt;</th></tr>\n",
              "</thead>\n",
              "<tbody>\n",
              "\t<tr><td> 27</td><td>Ryan_Marian      </td></tr>\n",
              "\t<tr><td> 28</td><td>Moss_Sandra      </td></tr>\n",
              "\t<tr><td> 33</td><td>Howell_Rodney    </td></tr>\n",
              "\t<tr><td> 34</td><td>Black_Sheldon    </td></tr>\n",
              "\t<tr><td> 40</td><td>Clarke_Amos      </td></tr>\n",
              "\t<tr><td> 46</td><td>Osborne_Daisy    </td></tr>\n",
              "\t<tr><td> 61</td><td>Woods_Jaime      </td></tr>\n",
              "\t<tr><td> 64</td><td>Wise_Sonja       </td></tr>\n",
              "\t<tr><td> 67</td><td>Hernandez_Brandi </td></tr>\n",
              "\t<tr><td> 75</td><td>Newman_Sammy     </td></tr>\n",
              "\t<tr><td> 79</td><td>Gutierrez_Katrina</td></tr>\n",
              "\t<tr><td> 83</td><td>Carroll_Cornelius</td></tr>\n",
              "\t<tr><td> 94</td><td>Hunt_Brandy      </td></tr>\n",
              "\t<tr><td> 96</td><td>Ross_Lance       </td></tr>\n",
              "\t<tr><td>101</td><td>Padilla_Gregory  </td></tr>\n",
              "\t<tr><td>104</td><td>Boyd_Terri       </td></tr>\n",
              "\t<tr><td>148</td><td>Hardy_Thelma     </td></tr>\n",
              "\t<tr><td>149</td><td>Barton_Kathleen  </td></tr>\n",
              "\t<tr><td>159</td><td>Bryan_Blanche    </td></tr>\n",
              "\t<tr><td>166</td><td>Watts_Tyrone     </td></tr>\n",
              "\t<tr><td>168</td><td>Robertson_Maggie </td></tr>\n",
              "\t<tr><td>176</td><td>Wolfe_Mattie     </td></tr>\n",
              "\t<tr><td>180</td><td>Castro_William   </td></tr>\n",
              "\t<tr><td>185</td><td>Morrison_Lena    </td></tr>\n",
              "\t<tr><td>187</td><td>Moody_Jack       </td></tr>\n",
              "\t<tr><td>189</td><td>Watson_Essie     </td></tr>\n",
              "\t<tr><td>191</td><td>Briggs_Franklin  </td></tr>\n",
              "\t<tr><td>199</td><td>Norman_Lola      </td></tr>\n",
              "\t<tr><td>221</td><td>Cannon_Susie     </td></tr>\n",
              "\t<tr><td>262</td><td>Maldonado_Randal </td></tr>\n",
              "\t<tr><td>⋮</td><td>⋮</td></tr>\n",
              "\t<tr><td> 702</td><td>Peters_Rudy       </td></tr>\n",
              "\t<tr><td> 729</td><td>Singleton_David   </td></tr>\n",
              "\t<tr><td> 743</td><td>Bryant_Carl       </td></tr>\n",
              "\t<tr><td> 776</td><td>Garcia_Alexis     </td></tr>\n",
              "\t<tr><td> 804</td><td>Kelley_Amber      </td></tr>\n",
              "\t<tr><td> 822</td><td>George_Kenny      </td></tr>\n",
              "\t<tr><td> 830</td><td>Allen_Eva         </td></tr>\n",
              "\t<tr><td> 856</td><td>Francis_Edmund    </td></tr>\n",
              "\t<tr><td> 860</td><td>Payne_Ernesto     </td></tr>\n",
              "\t<tr><td> 867</td><td>Ramsey_Brittany   </td></tr>\n",
              "\t<tr><td> 879</td><td>Christensen_Miguel</td></tr>\n",
              "\t<tr><td> 887</td><td>Hill_Amy          </td></tr>\n",
              "\t<tr><td> 920</td><td>Nguyen_Betsy      </td></tr>\n",
              "\t<tr><td> 941</td><td>Gilbert_Frances   </td></tr>\n",
              "\t<tr><td> 958</td><td>Parks_Gwendolyn   </td></tr>\n",
              "\t<tr><td>1044</td><td>Stephens_Jean     </td></tr>\n",
              "\t<tr><td>1047</td><td>Norris_Lydia      </td></tr>\n",
              "\t<tr><td>1073</td><td>Mclaughlin_Kyle   </td></tr>\n",
              "\t<tr><td>1091</td><td>Flores_Wanda      </td></tr>\n",
              "\t<tr><td>1120</td><td>Reeves_Myra       </td></tr>\n",
              "\t<tr><td>1131</td><td>Douglas_Joey      </td></tr>\n",
              "\t<tr><td>1136</td><td>Pittman_Sandy     </td></tr>\n",
              "\t<tr><td>1180</td><td>Rodriquez_Lela    </td></tr>\n",
              "\t<tr><td>1204</td><td>Townsend_Bryant   </td></tr>\n",
              "\t<tr><td>1217</td><td>King_Tim          </td></tr>\n",
              "\t<tr><td>1242</td><td>Soto_Lora         </td></tr>\n",
              "\t<tr><td>1273</td><td>Martinez_Lorenzo  </td></tr>\n",
              "\t<tr><td>1293</td><td>Klein_Steve       </td></tr>\n",
              "\t<tr><td>1294</td><td>Wells_Dwight      </td></tr>\n",
              "\t<tr><td>1312</td><td>Montgomery_Elmer  </td></tr>\n",
              "</tbody>\n",
              "</table>\n"
            ],
            "text/markdown": "\nA tibble: 100 × 2\n\n| student_id &lt;dbl&gt; | full_name &lt;chr&gt; |\n|---|---|\n|  27 | Ryan_Marian       |\n|  28 | Moss_Sandra       |\n|  33 | Howell_Rodney     |\n|  34 | Black_Sheldon     |\n|  40 | Clarke_Amos       |\n|  46 | Osborne_Daisy     |\n|  61 | Woods_Jaime       |\n|  64 | Wise_Sonja        |\n|  67 | Hernandez_Brandi  |\n|  75 | Newman_Sammy      |\n|  79 | Gutierrez_Katrina |\n|  83 | Carroll_Cornelius |\n|  94 | Hunt_Brandy       |\n|  96 | Ross_Lance        |\n| 101 | Padilla_Gregory   |\n| 104 | Boyd_Terri        |\n| 148 | Hardy_Thelma      |\n| 149 | Barton_Kathleen   |\n| 159 | Bryan_Blanche     |\n| 166 | Watts_Tyrone      |\n| 168 | Robertson_Maggie  |\n| 176 | Wolfe_Mattie      |\n| 180 | Castro_William    |\n| 185 | Morrison_Lena     |\n| 187 | Moody_Jack        |\n| 189 | Watson_Essie      |\n| 191 | Briggs_Franklin   |\n| 199 | Norman_Lola       |\n| 221 | Cannon_Susie      |\n| 262 | Maldonado_Randal  |\n| ⋮ | ⋮ |\n|  702 | Peters_Rudy        |\n|  729 | Singleton_David    |\n|  743 | Bryant_Carl        |\n|  776 | Garcia_Alexis      |\n|  804 | Kelley_Amber       |\n|  822 | George_Kenny       |\n|  830 | Allen_Eva          |\n|  856 | Francis_Edmund     |\n|  860 | Payne_Ernesto      |\n|  867 | Ramsey_Brittany    |\n|  879 | Christensen_Miguel |\n|  887 | Hill_Amy           |\n|  920 | Nguyen_Betsy       |\n|  941 | Gilbert_Frances    |\n|  958 | Parks_Gwendolyn    |\n| 1044 | Stephens_Jean      |\n| 1047 | Norris_Lydia       |\n| 1073 | Mclaughlin_Kyle    |\n| 1091 | Flores_Wanda       |\n| 1120 | Reeves_Myra        |\n| 1131 | Douglas_Joey       |\n| 1136 | Pittman_Sandy      |\n| 1180 | Rodriquez_Lela     |\n| 1204 | Townsend_Bryant    |\n| 1217 | King_Tim           |\n| 1242 | Soto_Lora          |\n| 1273 | Martinez_Lorenzo   |\n| 1293 | Klein_Steve        |\n| 1294 | Wells_Dwight       |\n| 1312 | Montgomery_Elmer   |\n\n",
            "text/latex": "A tibble: 100 × 2\n\\begin{tabular}{ll}\n student\\_id & full\\_name\\\\\n <dbl> & <chr>\\\\\n\\hline\n\t  27 & Ryan\\_Marian      \\\\\n\t  28 & Moss\\_Sandra      \\\\\n\t  33 & Howell\\_Rodney    \\\\\n\t  34 & Black\\_Sheldon    \\\\\n\t  40 & Clarke\\_Amos      \\\\\n\t  46 & Osborne\\_Daisy    \\\\\n\t  61 & Woods\\_Jaime      \\\\\n\t  64 & Wise\\_Sonja       \\\\\n\t  67 & Hernandez\\_Brandi \\\\\n\t  75 & Newman\\_Sammy     \\\\\n\t  79 & Gutierrez\\_Katrina\\\\\n\t  83 & Carroll\\_Cornelius\\\\\n\t  94 & Hunt\\_Brandy      \\\\\n\t  96 & Ross\\_Lance       \\\\\n\t 101 & Padilla\\_Gregory  \\\\\n\t 104 & Boyd\\_Terri       \\\\\n\t 148 & Hardy\\_Thelma     \\\\\n\t 149 & Barton\\_Kathleen  \\\\\n\t 159 & Bryan\\_Blanche    \\\\\n\t 166 & Watts\\_Tyrone     \\\\\n\t 168 & Robertson\\_Maggie \\\\\n\t 176 & Wolfe\\_Mattie     \\\\\n\t 180 & Castro\\_William   \\\\\n\t 185 & Morrison\\_Lena    \\\\\n\t 187 & Moody\\_Jack       \\\\\n\t 189 & Watson\\_Essie     \\\\\n\t 191 & Briggs\\_Franklin  \\\\\n\t 199 & Norman\\_Lola      \\\\\n\t 221 & Cannon\\_Susie     \\\\\n\t 262 & Maldonado\\_Randal \\\\\n\t ⋮ & ⋮\\\\\n\t  702 & Peters\\_Rudy       \\\\\n\t  729 & Singleton\\_David   \\\\\n\t  743 & Bryant\\_Carl       \\\\\n\t  776 & Garcia\\_Alexis     \\\\\n\t  804 & Kelley\\_Amber      \\\\\n\t  822 & George\\_Kenny      \\\\\n\t  830 & Allen\\_Eva         \\\\\n\t  856 & Francis\\_Edmund    \\\\\n\t  860 & Payne\\_Ernesto     \\\\\n\t  867 & Ramsey\\_Brittany   \\\\\n\t  879 & Christensen\\_Miguel\\\\\n\t  887 & Hill\\_Amy          \\\\\n\t  920 & Nguyen\\_Betsy      \\\\\n\t  941 & Gilbert\\_Frances   \\\\\n\t  958 & Parks\\_Gwendolyn   \\\\\n\t 1044 & Stephens\\_Jean     \\\\\n\t 1047 & Norris\\_Lydia      \\\\\n\t 1073 & Mclaughlin\\_Kyle   \\\\\n\t 1091 & Flores\\_Wanda      \\\\\n\t 1120 & Reeves\\_Myra       \\\\\n\t 1131 & Douglas\\_Joey      \\\\\n\t 1136 & Pittman\\_Sandy     \\\\\n\t 1180 & Rodriquez\\_Lela    \\\\\n\t 1204 & Townsend\\_Bryant   \\\\\n\t 1217 & King\\_Tim          \\\\\n\t 1242 & Soto\\_Lora         \\\\\n\t 1273 & Martinez\\_Lorenzo  \\\\\n\t 1293 & Klein\\_Steve       \\\\\n\t 1294 & Wells\\_Dwight      \\\\\n\t 1312 & Montgomery\\_Elmer  \\\\\n\\end{tabular}\n",
            "text/plain": [
              "    student_id full_name         \n",
              "1    27        Ryan_Marian       \n",
              "2    28        Moss_Sandra       \n",
              "3    33        Howell_Rodney     \n",
              "4    34        Black_Sheldon     \n",
              "5    40        Clarke_Amos       \n",
              "6    46        Osborne_Daisy     \n",
              "7    61        Woods_Jaime       \n",
              "8    64        Wise_Sonja        \n",
              "9    67        Hernandez_Brandi  \n",
              "10   75        Newman_Sammy      \n",
              "11   79        Gutierrez_Katrina \n",
              "12   83        Carroll_Cornelius \n",
              "13   94        Hunt_Brandy       \n",
              "14   96        Ross_Lance        \n",
              "15  101        Padilla_Gregory   \n",
              "16  104        Boyd_Terri        \n",
              "17  148        Hardy_Thelma      \n",
              "18  149        Barton_Kathleen   \n",
              "19  159        Bryan_Blanche     \n",
              "20  166        Watts_Tyrone      \n",
              "21  168        Robertson_Maggie  \n",
              "22  176        Wolfe_Mattie      \n",
              "23  180        Castro_William    \n",
              "24  185        Morrison_Lena     \n",
              "25  187        Moody_Jack        \n",
              "26  189        Watson_Essie      \n",
              "27  191        Briggs_Franklin   \n",
              "28  199        Norman_Lola       \n",
              "29  221        Cannon_Susie      \n",
              "30  262        Maldonado_Randal  \n",
              "⋮   ⋮          ⋮                 \n",
              "71   702       Peters_Rudy       \n",
              "72   729       Singleton_David   \n",
              "73   743       Bryant_Carl       \n",
              "74   776       Garcia_Alexis     \n",
              "75   804       Kelley_Amber      \n",
              "76   822       George_Kenny      \n",
              "77   830       Allen_Eva         \n",
              "78   856       Francis_Edmund    \n",
              "79   860       Payne_Ernesto     \n",
              "80   867       Ramsey_Brittany   \n",
              "81   879       Christensen_Miguel\n",
              "82   887       Hill_Amy          \n",
              "83   920       Nguyen_Betsy      \n",
              "84   941       Gilbert_Frances   \n",
              "85   958       Parks_Gwendolyn   \n",
              "86  1044       Stephens_Jean     \n",
              "87  1047       Norris_Lydia      \n",
              "88  1073       Mclaughlin_Kyle   \n",
              "89  1091       Flores_Wanda      \n",
              "90  1120       Reeves_Myra       \n",
              "91  1131       Douglas_Joey      \n",
              "92  1136       Pittman_Sandy     \n",
              "93  1180       Rodriquez_Lela    \n",
              "94  1204       Townsend_Bryant   \n",
              "95  1217       King_Tim          \n",
              "96  1242       Soto_Lora         \n",
              "97  1273       Martinez_Lorenzo  \n",
              "98  1293       Klein_Steve       \n",
              "99  1294       Wells_Dwight      \n",
              "100 1312       Montgomery_Elmer  "
            ]
          },
          "metadata": {}
        }
      ]
    },
    {
      "cell_type": "code",
      "source": [
        "grades %>% mutate(full_name=paste(first_name, last_name))"
      ],
      "metadata": {
        "colab": {
          "base_uri": "https://localhost:8080/",
          "height": 1000
        },
        "id": "C9t8L010nuq6",
        "outputId": "585de4eb-3d11-4c89-c685-e3c69fe3fd5d"
      },
      "execution_count": 46,
      "outputs": [
        {
          "output_type": "display_data",
          "data": {
            "text/html": [
              "<table class=\"dataframe\">\n",
              "<caption>A tibble: 100 × 4</caption>\n",
              "<thead>\n",
              "\t<tr><th scope=col>student_id</th><th scope=col>last_name</th><th scope=col>first_name</th><th scope=col>full_name</th></tr>\n",
              "\t<tr><th scope=col>&lt;dbl&gt;</th><th scope=col>&lt;chr&gt;</th><th scope=col>&lt;chr&gt;</th><th scope=col>&lt;chr&gt;</th></tr>\n",
              "</thead>\n",
              "<tbody>\n",
              "\t<tr><td> 27</td><td>Marian   </td><td>Ryan     </td><td>Ryan Marian      </td></tr>\n",
              "\t<tr><td> 28</td><td>Sandra   </td><td>Moss     </td><td>Moss Sandra      </td></tr>\n",
              "\t<tr><td> 33</td><td>Rodney   </td><td>Howell   </td><td>Howell Rodney    </td></tr>\n",
              "\t<tr><td> 34</td><td>Sheldon  </td><td>Black    </td><td>Black Sheldon    </td></tr>\n",
              "\t<tr><td> 40</td><td>Amos     </td><td>Clarke   </td><td>Clarke Amos      </td></tr>\n",
              "\t<tr><td> 46</td><td>Daisy    </td><td>Osborne  </td><td>Osborne Daisy    </td></tr>\n",
              "\t<tr><td> 61</td><td>Jaime    </td><td>Woods    </td><td>Woods Jaime      </td></tr>\n",
              "\t<tr><td> 64</td><td>Sonja    </td><td>Wise     </td><td>Wise Sonja       </td></tr>\n",
              "\t<tr><td> 67</td><td>Brandi   </td><td>Hernandez</td><td>Hernandez Brandi </td></tr>\n",
              "\t<tr><td> 75</td><td>Sammy    </td><td>Newman   </td><td>Newman Sammy     </td></tr>\n",
              "\t<tr><td> 79</td><td>Katrina  </td><td>Gutierrez</td><td>Gutierrez Katrina</td></tr>\n",
              "\t<tr><td> 83</td><td>Cornelius</td><td>Carroll  </td><td>Carroll Cornelius</td></tr>\n",
              "\t<tr><td> 94</td><td>Brandy   </td><td>Hunt     </td><td>Hunt Brandy      </td></tr>\n",
              "\t<tr><td> 96</td><td>Lance    </td><td>Ross     </td><td>Ross Lance       </td></tr>\n",
              "\t<tr><td>101</td><td>Gregory  </td><td>Padilla  </td><td>Padilla Gregory  </td></tr>\n",
              "\t<tr><td>104</td><td>Terri    </td><td>Boyd     </td><td>Boyd Terri       </td></tr>\n",
              "\t<tr><td>148</td><td>Thelma   </td><td>Hardy    </td><td>Hardy Thelma     </td></tr>\n",
              "\t<tr><td>149</td><td>Kathleen </td><td>Barton   </td><td>Barton Kathleen  </td></tr>\n",
              "\t<tr><td>159</td><td>Blanche  </td><td>Bryan    </td><td>Bryan Blanche    </td></tr>\n",
              "\t<tr><td>166</td><td>Tyrone   </td><td>Watts    </td><td>Watts Tyrone     </td></tr>\n",
              "\t<tr><td>168</td><td>Maggie   </td><td>Robertson</td><td>Robertson Maggie </td></tr>\n",
              "\t<tr><td>176</td><td>Mattie   </td><td>Wolfe    </td><td>Wolfe Mattie     </td></tr>\n",
              "\t<tr><td>180</td><td>William  </td><td>Castro   </td><td>Castro William   </td></tr>\n",
              "\t<tr><td>185</td><td>Lena     </td><td>Morrison </td><td>Morrison Lena    </td></tr>\n",
              "\t<tr><td>187</td><td>Jack     </td><td>Moody    </td><td>Moody Jack       </td></tr>\n",
              "\t<tr><td>189</td><td>Essie    </td><td>Watson   </td><td>Watson Essie     </td></tr>\n",
              "\t<tr><td>191</td><td>Franklin </td><td>Briggs   </td><td>Briggs Franklin  </td></tr>\n",
              "\t<tr><td>199</td><td>Lola     </td><td>Norman   </td><td>Norman Lola      </td></tr>\n",
              "\t<tr><td>221</td><td>Susie    </td><td>Cannon   </td><td>Cannon Susie     </td></tr>\n",
              "\t<tr><td>262</td><td>Randal   </td><td>Maldonado</td><td>Maldonado Randal </td></tr>\n",
              "\t<tr><td>⋮</td><td>⋮</td><td>⋮</td><td>⋮</td></tr>\n",
              "\t<tr><td> 702</td><td>Rudy     </td><td>Peters     </td><td>Peters Rudy       </td></tr>\n",
              "\t<tr><td> 729</td><td>David    </td><td>Singleton  </td><td>Singleton David   </td></tr>\n",
              "\t<tr><td> 743</td><td>Carl     </td><td>Bryant     </td><td>Bryant Carl       </td></tr>\n",
              "\t<tr><td> 776</td><td>Alexis   </td><td>Garcia     </td><td>Garcia Alexis     </td></tr>\n",
              "\t<tr><td> 804</td><td>Amber    </td><td>Kelley     </td><td>Kelley Amber      </td></tr>\n",
              "\t<tr><td> 822</td><td>Kenny    </td><td>George     </td><td>George Kenny      </td></tr>\n",
              "\t<tr><td> 830</td><td>Eva      </td><td>Allen      </td><td>Allen Eva         </td></tr>\n",
              "\t<tr><td> 856</td><td>Edmund   </td><td>Francis    </td><td>Francis Edmund    </td></tr>\n",
              "\t<tr><td> 860</td><td>Ernesto  </td><td>Payne      </td><td>Payne Ernesto     </td></tr>\n",
              "\t<tr><td> 867</td><td>Brittany </td><td>Ramsey     </td><td>Ramsey Brittany   </td></tr>\n",
              "\t<tr><td> 879</td><td>Miguel   </td><td>Christensen</td><td>Christensen Miguel</td></tr>\n",
              "\t<tr><td> 887</td><td>Amy      </td><td>Hill       </td><td>Hill Amy          </td></tr>\n",
              "\t<tr><td> 920</td><td>Betsy    </td><td>Nguyen     </td><td>Nguyen Betsy      </td></tr>\n",
              "\t<tr><td> 941</td><td>Frances  </td><td>Gilbert    </td><td>Gilbert Frances   </td></tr>\n",
              "\t<tr><td> 958</td><td>Gwendolyn</td><td>Parks      </td><td>Parks Gwendolyn   </td></tr>\n",
              "\t<tr><td>1044</td><td>Jean     </td><td>Stephens   </td><td>Stephens Jean     </td></tr>\n",
              "\t<tr><td>1047</td><td>Lydia    </td><td>Norris     </td><td>Norris Lydia      </td></tr>\n",
              "\t<tr><td>1073</td><td>Kyle     </td><td>Mclaughlin </td><td>Mclaughlin Kyle   </td></tr>\n",
              "\t<tr><td>1091</td><td>Wanda    </td><td>Flores     </td><td>Flores Wanda      </td></tr>\n",
              "\t<tr><td>1120</td><td>Myra     </td><td>Reeves     </td><td>Reeves Myra       </td></tr>\n",
              "\t<tr><td>1131</td><td>Joey     </td><td>Douglas    </td><td>Douglas Joey      </td></tr>\n",
              "\t<tr><td>1136</td><td>Sandy    </td><td>Pittman    </td><td>Pittman Sandy     </td></tr>\n",
              "\t<tr><td>1180</td><td>Lela     </td><td>Rodriquez  </td><td>Rodriquez Lela    </td></tr>\n",
              "\t<tr><td>1204</td><td>Bryant   </td><td>Townsend   </td><td>Townsend Bryant   </td></tr>\n",
              "\t<tr><td>1217</td><td>Tim      </td><td>King       </td><td>King Tim          </td></tr>\n",
              "\t<tr><td>1242</td><td>Lora     </td><td>Soto       </td><td>Soto Lora         </td></tr>\n",
              "\t<tr><td>1273</td><td>Lorenzo  </td><td>Martinez   </td><td>Martinez Lorenzo  </td></tr>\n",
              "\t<tr><td>1293</td><td>Steve    </td><td>Klein      </td><td>Klein Steve       </td></tr>\n",
              "\t<tr><td>1294</td><td>Dwight   </td><td>Wells      </td><td>Wells Dwight      </td></tr>\n",
              "\t<tr><td>1312</td><td>Elmer    </td><td>Montgomery </td><td>Montgomery Elmer  </td></tr>\n",
              "</tbody>\n",
              "</table>\n"
            ],
            "text/markdown": "\nA tibble: 100 × 4\n\n| student_id &lt;dbl&gt; | last_name &lt;chr&gt; | first_name &lt;chr&gt; | full_name &lt;chr&gt; |\n|---|---|---|---|\n|  27 | Marian    | Ryan      | Ryan Marian       |\n|  28 | Sandra    | Moss      | Moss Sandra       |\n|  33 | Rodney    | Howell    | Howell Rodney     |\n|  34 | Sheldon   | Black     | Black Sheldon     |\n|  40 | Amos      | Clarke    | Clarke Amos       |\n|  46 | Daisy     | Osborne   | Osborne Daisy     |\n|  61 | Jaime     | Woods     | Woods Jaime       |\n|  64 | Sonja     | Wise      | Wise Sonja        |\n|  67 | Brandi    | Hernandez | Hernandez Brandi  |\n|  75 | Sammy     | Newman    | Newman Sammy      |\n|  79 | Katrina   | Gutierrez | Gutierrez Katrina |\n|  83 | Cornelius | Carroll   | Carroll Cornelius |\n|  94 | Brandy    | Hunt      | Hunt Brandy       |\n|  96 | Lance     | Ross      | Ross Lance        |\n| 101 | Gregory   | Padilla   | Padilla Gregory   |\n| 104 | Terri     | Boyd      | Boyd Terri        |\n| 148 | Thelma    | Hardy     | Hardy Thelma      |\n| 149 | Kathleen  | Barton    | Barton Kathleen   |\n| 159 | Blanche   | Bryan     | Bryan Blanche     |\n| 166 | Tyrone    | Watts     | Watts Tyrone      |\n| 168 | Maggie    | Robertson | Robertson Maggie  |\n| 176 | Mattie    | Wolfe     | Wolfe Mattie      |\n| 180 | William   | Castro    | Castro William    |\n| 185 | Lena      | Morrison  | Morrison Lena     |\n| 187 | Jack      | Moody     | Moody Jack        |\n| 189 | Essie     | Watson    | Watson Essie      |\n| 191 | Franklin  | Briggs    | Briggs Franklin   |\n| 199 | Lola      | Norman    | Norman Lola       |\n| 221 | Susie     | Cannon    | Cannon Susie      |\n| 262 | Randal    | Maldonado | Maldonado Randal  |\n| ⋮ | ⋮ | ⋮ | ⋮ |\n|  702 | Rudy      | Peters      | Peters Rudy        |\n|  729 | David     | Singleton   | Singleton David    |\n|  743 | Carl      | Bryant      | Bryant Carl        |\n|  776 | Alexis    | Garcia      | Garcia Alexis      |\n|  804 | Amber     | Kelley      | Kelley Amber       |\n|  822 | Kenny     | George      | George Kenny       |\n|  830 | Eva       | Allen       | Allen Eva          |\n|  856 | Edmund    | Francis     | Francis Edmund     |\n|  860 | Ernesto   | Payne       | Payne Ernesto      |\n|  867 | Brittany  | Ramsey      | Ramsey Brittany    |\n|  879 | Miguel    | Christensen | Christensen Miguel |\n|  887 | Amy       | Hill        | Hill Amy           |\n|  920 | Betsy     | Nguyen      | Nguyen Betsy       |\n|  941 | Frances   | Gilbert     | Gilbert Frances    |\n|  958 | Gwendolyn | Parks       | Parks Gwendolyn    |\n| 1044 | Jean      | Stephens    | Stephens Jean      |\n| 1047 | Lydia     | Norris      | Norris Lydia       |\n| 1073 | Kyle      | Mclaughlin  | Mclaughlin Kyle    |\n| 1091 | Wanda     | Flores      | Flores Wanda       |\n| 1120 | Myra      | Reeves      | Reeves Myra        |\n| 1131 | Joey      | Douglas     | Douglas Joey       |\n| 1136 | Sandy     | Pittman     | Pittman Sandy      |\n| 1180 | Lela      | Rodriquez   | Rodriquez Lela     |\n| 1204 | Bryant    | Townsend    | Townsend Bryant    |\n| 1217 | Tim       | King        | King Tim           |\n| 1242 | Lora      | Soto        | Soto Lora          |\n| 1273 | Lorenzo   | Martinez    | Martinez Lorenzo   |\n| 1293 | Steve     | Klein       | Klein Steve        |\n| 1294 | Dwight    | Wells       | Wells Dwight       |\n| 1312 | Elmer     | Montgomery  | Montgomery Elmer   |\n\n",
            "text/latex": "A tibble: 100 × 4\n\\begin{tabular}{llll}\n student\\_id & last\\_name & first\\_name & full\\_name\\\\\n <dbl> & <chr> & <chr> & <chr>\\\\\n\\hline\n\t  27 & Marian    & Ryan      & Ryan Marian      \\\\\n\t  28 & Sandra    & Moss      & Moss Sandra      \\\\\n\t  33 & Rodney    & Howell    & Howell Rodney    \\\\\n\t  34 & Sheldon   & Black     & Black Sheldon    \\\\\n\t  40 & Amos      & Clarke    & Clarke Amos      \\\\\n\t  46 & Daisy     & Osborne   & Osborne Daisy    \\\\\n\t  61 & Jaime     & Woods     & Woods Jaime      \\\\\n\t  64 & Sonja     & Wise      & Wise Sonja       \\\\\n\t  67 & Brandi    & Hernandez & Hernandez Brandi \\\\\n\t  75 & Sammy     & Newman    & Newman Sammy     \\\\\n\t  79 & Katrina   & Gutierrez & Gutierrez Katrina\\\\\n\t  83 & Cornelius & Carroll   & Carroll Cornelius\\\\\n\t  94 & Brandy    & Hunt      & Hunt Brandy      \\\\\n\t  96 & Lance     & Ross      & Ross Lance       \\\\\n\t 101 & Gregory   & Padilla   & Padilla Gregory  \\\\\n\t 104 & Terri     & Boyd      & Boyd Terri       \\\\\n\t 148 & Thelma    & Hardy     & Hardy Thelma     \\\\\n\t 149 & Kathleen  & Barton    & Barton Kathleen  \\\\\n\t 159 & Blanche   & Bryan     & Bryan Blanche    \\\\\n\t 166 & Tyrone    & Watts     & Watts Tyrone     \\\\\n\t 168 & Maggie    & Robertson & Robertson Maggie \\\\\n\t 176 & Mattie    & Wolfe     & Wolfe Mattie     \\\\\n\t 180 & William   & Castro    & Castro William   \\\\\n\t 185 & Lena      & Morrison  & Morrison Lena    \\\\\n\t 187 & Jack      & Moody     & Moody Jack       \\\\\n\t 189 & Essie     & Watson    & Watson Essie     \\\\\n\t 191 & Franklin  & Briggs    & Briggs Franklin  \\\\\n\t 199 & Lola      & Norman    & Norman Lola      \\\\\n\t 221 & Susie     & Cannon    & Cannon Susie     \\\\\n\t 262 & Randal    & Maldonado & Maldonado Randal \\\\\n\t ⋮ & ⋮ & ⋮ & ⋮\\\\\n\t  702 & Rudy      & Peters      & Peters Rudy       \\\\\n\t  729 & David     & Singleton   & Singleton David   \\\\\n\t  743 & Carl      & Bryant      & Bryant Carl       \\\\\n\t  776 & Alexis    & Garcia      & Garcia Alexis     \\\\\n\t  804 & Amber     & Kelley      & Kelley Amber      \\\\\n\t  822 & Kenny     & George      & George Kenny      \\\\\n\t  830 & Eva       & Allen       & Allen Eva         \\\\\n\t  856 & Edmund    & Francis     & Francis Edmund    \\\\\n\t  860 & Ernesto   & Payne       & Payne Ernesto     \\\\\n\t  867 & Brittany  & Ramsey      & Ramsey Brittany   \\\\\n\t  879 & Miguel    & Christensen & Christensen Miguel\\\\\n\t  887 & Amy       & Hill        & Hill Amy          \\\\\n\t  920 & Betsy     & Nguyen      & Nguyen Betsy      \\\\\n\t  941 & Frances   & Gilbert     & Gilbert Frances   \\\\\n\t  958 & Gwendolyn & Parks       & Parks Gwendolyn   \\\\\n\t 1044 & Jean      & Stephens    & Stephens Jean     \\\\\n\t 1047 & Lydia     & Norris      & Norris Lydia      \\\\\n\t 1073 & Kyle      & Mclaughlin  & Mclaughlin Kyle   \\\\\n\t 1091 & Wanda     & Flores      & Flores Wanda      \\\\\n\t 1120 & Myra      & Reeves      & Reeves Myra       \\\\\n\t 1131 & Joey      & Douglas     & Douglas Joey      \\\\\n\t 1136 & Sandy     & Pittman     & Pittman Sandy     \\\\\n\t 1180 & Lela      & Rodriquez   & Rodriquez Lela    \\\\\n\t 1204 & Bryant    & Townsend    & Townsend Bryant   \\\\\n\t 1217 & Tim       & King        & King Tim          \\\\\n\t 1242 & Lora      & Soto        & Soto Lora         \\\\\n\t 1273 & Lorenzo   & Martinez    & Martinez Lorenzo  \\\\\n\t 1293 & Steve     & Klein       & Klein Steve       \\\\\n\t 1294 & Dwight    & Wells       & Wells Dwight      \\\\\n\t 1312 & Elmer     & Montgomery  & Montgomery Elmer  \\\\\n\\end{tabular}\n",
            "text/plain": [
              "    student_id last_name first_name  full_name         \n",
              "1    27        Marian    Ryan        Ryan Marian       \n",
              "2    28        Sandra    Moss        Moss Sandra       \n",
              "3    33        Rodney    Howell      Howell Rodney     \n",
              "4    34        Sheldon   Black       Black Sheldon     \n",
              "5    40        Amos      Clarke      Clarke Amos       \n",
              "6    46        Daisy     Osborne     Osborne Daisy     \n",
              "7    61        Jaime     Woods       Woods Jaime       \n",
              "8    64        Sonja     Wise        Wise Sonja        \n",
              "9    67        Brandi    Hernandez   Hernandez Brandi  \n",
              "10   75        Sammy     Newman      Newman Sammy      \n",
              "11   79        Katrina   Gutierrez   Gutierrez Katrina \n",
              "12   83        Cornelius Carroll     Carroll Cornelius \n",
              "13   94        Brandy    Hunt        Hunt Brandy       \n",
              "14   96        Lance     Ross        Ross Lance        \n",
              "15  101        Gregory   Padilla     Padilla Gregory   \n",
              "16  104        Terri     Boyd        Boyd Terri        \n",
              "17  148        Thelma    Hardy       Hardy Thelma      \n",
              "18  149        Kathleen  Barton      Barton Kathleen   \n",
              "19  159        Blanche   Bryan       Bryan Blanche     \n",
              "20  166        Tyrone    Watts       Watts Tyrone      \n",
              "21  168        Maggie    Robertson   Robertson Maggie  \n",
              "22  176        Mattie    Wolfe       Wolfe Mattie      \n",
              "23  180        William   Castro      Castro William    \n",
              "24  185        Lena      Morrison    Morrison Lena     \n",
              "25  187        Jack      Moody       Moody Jack        \n",
              "26  189        Essie     Watson      Watson Essie      \n",
              "27  191        Franklin  Briggs      Briggs Franklin   \n",
              "28  199        Lola      Norman      Norman Lola       \n",
              "29  221        Susie     Cannon      Cannon Susie      \n",
              "30  262        Randal    Maldonado   Maldonado Randal  \n",
              "⋮   ⋮          ⋮         ⋮           ⋮                 \n",
              "71   702       Rudy      Peters      Peters Rudy       \n",
              "72   729       David     Singleton   Singleton David   \n",
              "73   743       Carl      Bryant      Bryant Carl       \n",
              "74   776       Alexis    Garcia      Garcia Alexis     \n",
              "75   804       Amber     Kelley      Kelley Amber      \n",
              "76   822       Kenny     George      George Kenny      \n",
              "77   830       Eva       Allen       Allen Eva         \n",
              "78   856       Edmund    Francis     Francis Edmund    \n",
              "79   860       Ernesto   Payne       Payne Ernesto     \n",
              "80   867       Brittany  Ramsey      Ramsey Brittany   \n",
              "81   879       Miguel    Christensen Christensen Miguel\n",
              "82   887       Amy       Hill        Hill Amy          \n",
              "83   920       Betsy     Nguyen      Nguyen Betsy      \n",
              "84   941       Frances   Gilbert     Gilbert Frances   \n",
              "85   958       Gwendolyn Parks       Parks Gwendolyn   \n",
              "86  1044       Jean      Stephens    Stephens Jean     \n",
              "87  1047       Lydia     Norris      Norris Lydia      \n",
              "88  1073       Kyle      Mclaughlin  Mclaughlin Kyle   \n",
              "89  1091       Wanda     Flores      Flores Wanda      \n",
              "90  1120       Myra      Reeves      Reeves Myra       \n",
              "91  1131       Joey      Douglas     Douglas Joey      \n",
              "92  1136       Sandy     Pittman     Pittman Sandy     \n",
              "93  1180       Lela      Rodriquez   Rodriquez Lela    \n",
              "94  1204       Bryant    Townsend    Townsend Bryant   \n",
              "95  1217       Tim       King        King Tim          \n",
              "96  1242       Lora      Soto        Soto Lora         \n",
              "97  1273       Lorenzo   Martinez    Martinez Lorenzo  \n",
              "98  1293       Steve     Klein       Klein Steve       \n",
              "99  1294       Dwight    Wells       Wells Dwight      \n",
              "100 1312       Elmer     Montgomery  Montgomery Elmer  "
            ]
          },
          "metadata": {}
        }
      ]
    },
    {
      "cell_type": "markdown",
      "source": [
        "### **Split cells**"
      ],
      "metadata": {
        "id": "iH7ZjwbPpMcr"
      }
    },
    {
      "cell_type": "code",
      "source": [
        "# Creating grades2\n",
        "grades2 <- grades %>% unite(c(first_name, last_name), col=full_name, sep=\" \")"
      ],
      "metadata": {
        "id": "HC5RlHNmoBle"
      },
      "execution_count": 47,
      "outputs": []
    },
    {
      "cell_type": "code",
      "source": [
        "head(grades2)"
      ],
      "metadata": {
        "colab": {
          "base_uri": "https://localhost:8080/",
          "height": 286
        },
        "id": "tZTbsnQGoVTD",
        "outputId": "ebba57f4-a997-4357-cd8a-0f2baa43fc0d"
      },
      "execution_count": 48,
      "outputs": [
        {
          "output_type": "display_data",
          "data": {
            "text/html": [
              "<table class=\"dataframe\">\n",
              "<caption>A tibble: 6 × 2</caption>\n",
              "<thead>\n",
              "\t<tr><th scope=col>student_id</th><th scope=col>full_name</th></tr>\n",
              "\t<tr><th scope=col>&lt;dbl&gt;</th><th scope=col>&lt;chr&gt;</th></tr>\n",
              "</thead>\n",
              "<tbody>\n",
              "\t<tr><td>27</td><td>Ryan Marian  </td></tr>\n",
              "\t<tr><td>28</td><td>Moss Sandra  </td></tr>\n",
              "\t<tr><td>33</td><td>Howell Rodney</td></tr>\n",
              "\t<tr><td>34</td><td>Black Sheldon</td></tr>\n",
              "\t<tr><td>40</td><td>Clarke Amos  </td></tr>\n",
              "\t<tr><td>46</td><td>Osborne Daisy</td></tr>\n",
              "</tbody>\n",
              "</table>\n"
            ],
            "text/markdown": "\nA tibble: 6 × 2\n\n| student_id &lt;dbl&gt; | full_name &lt;chr&gt; |\n|---|---|\n| 27 | Ryan Marian   |\n| 28 | Moss Sandra   |\n| 33 | Howell Rodney |\n| 34 | Black Sheldon |\n| 40 | Clarke Amos   |\n| 46 | Osborne Daisy |\n\n",
            "text/latex": "A tibble: 6 × 2\n\\begin{tabular}{ll}\n student\\_id & full\\_name\\\\\n <dbl> & <chr>\\\\\n\\hline\n\t 27 & Ryan Marian  \\\\\n\t 28 & Moss Sandra  \\\\\n\t 33 & Howell Rodney\\\\\n\t 34 & Black Sheldon\\\\\n\t 40 & Clarke Amos  \\\\\n\t 46 & Osborne Daisy\\\\\n\\end{tabular}\n",
            "text/plain": [
              "  student_id full_name    \n",
              "1 27         Ryan Marian  \n",
              "2 28         Moss Sandra  \n",
              "3 33         Howell Rodney\n",
              "4 34         Black Sheldon\n",
              "5 40         Clarke Amos  \n",
              "6 46         Osborne Daisy"
            ]
          },
          "metadata": {}
        }
      ]
    },
    {
      "cell_type": "code",
      "source": [
        "# Splitting\n",
        "grades2 %>% separate(full_name, into=c(\"first_name\", \"last_name\"), sep=\" \")"
      ],
      "metadata": {
        "colab": {
          "base_uri": "https://localhost:8080/",
          "height": 1000
        },
        "id": "J9J50RBsohjd",
        "outputId": "eaf1ddbe-e01f-49b7-9cfb-9a4f3690c1c3"
      },
      "execution_count": 49,
      "outputs": [
        {
          "output_type": "display_data",
          "data": {
            "text/html": [
              "<table class=\"dataframe\">\n",
              "<caption>A tibble: 100 × 3</caption>\n",
              "<thead>\n",
              "\t<tr><th scope=col>student_id</th><th scope=col>first_name</th><th scope=col>last_name</th></tr>\n",
              "\t<tr><th scope=col>&lt;dbl&gt;</th><th scope=col>&lt;chr&gt;</th><th scope=col>&lt;chr&gt;</th></tr>\n",
              "</thead>\n",
              "<tbody>\n",
              "\t<tr><td> 27</td><td>Ryan     </td><td>Marian   </td></tr>\n",
              "\t<tr><td> 28</td><td>Moss     </td><td>Sandra   </td></tr>\n",
              "\t<tr><td> 33</td><td>Howell   </td><td>Rodney   </td></tr>\n",
              "\t<tr><td> 34</td><td>Black    </td><td>Sheldon  </td></tr>\n",
              "\t<tr><td> 40</td><td>Clarke   </td><td>Amos     </td></tr>\n",
              "\t<tr><td> 46</td><td>Osborne  </td><td>Daisy    </td></tr>\n",
              "\t<tr><td> 61</td><td>Woods    </td><td>Jaime    </td></tr>\n",
              "\t<tr><td> 64</td><td>Wise     </td><td>Sonja    </td></tr>\n",
              "\t<tr><td> 67</td><td>Hernandez</td><td>Brandi   </td></tr>\n",
              "\t<tr><td> 75</td><td>Newman   </td><td>Sammy    </td></tr>\n",
              "\t<tr><td> 79</td><td>Gutierrez</td><td>Katrina  </td></tr>\n",
              "\t<tr><td> 83</td><td>Carroll  </td><td>Cornelius</td></tr>\n",
              "\t<tr><td> 94</td><td>Hunt     </td><td>Brandy   </td></tr>\n",
              "\t<tr><td> 96</td><td>Ross     </td><td>Lance    </td></tr>\n",
              "\t<tr><td>101</td><td>Padilla  </td><td>Gregory  </td></tr>\n",
              "\t<tr><td>104</td><td>Boyd     </td><td>Terri    </td></tr>\n",
              "\t<tr><td>148</td><td>Hardy    </td><td>Thelma   </td></tr>\n",
              "\t<tr><td>149</td><td>Barton   </td><td>Kathleen </td></tr>\n",
              "\t<tr><td>159</td><td>Bryan    </td><td>Blanche  </td></tr>\n",
              "\t<tr><td>166</td><td>Watts    </td><td>Tyrone   </td></tr>\n",
              "\t<tr><td>168</td><td>Robertson</td><td>Maggie   </td></tr>\n",
              "\t<tr><td>176</td><td>Wolfe    </td><td>Mattie   </td></tr>\n",
              "\t<tr><td>180</td><td>Castro   </td><td>William  </td></tr>\n",
              "\t<tr><td>185</td><td>Morrison </td><td>Lena     </td></tr>\n",
              "\t<tr><td>187</td><td>Moody    </td><td>Jack     </td></tr>\n",
              "\t<tr><td>189</td><td>Watson   </td><td>Essie    </td></tr>\n",
              "\t<tr><td>191</td><td>Briggs   </td><td>Franklin </td></tr>\n",
              "\t<tr><td>199</td><td>Norman   </td><td>Lola     </td></tr>\n",
              "\t<tr><td>221</td><td>Cannon   </td><td>Susie    </td></tr>\n",
              "\t<tr><td>262</td><td>Maldonado</td><td>Randal   </td></tr>\n",
              "\t<tr><td>⋮</td><td>⋮</td><td>⋮</td></tr>\n",
              "\t<tr><td> 702</td><td>Peters     </td><td>Rudy     </td></tr>\n",
              "\t<tr><td> 729</td><td>Singleton  </td><td>David    </td></tr>\n",
              "\t<tr><td> 743</td><td>Bryant     </td><td>Carl     </td></tr>\n",
              "\t<tr><td> 776</td><td>Garcia     </td><td>Alexis   </td></tr>\n",
              "\t<tr><td> 804</td><td>Kelley     </td><td>Amber    </td></tr>\n",
              "\t<tr><td> 822</td><td>George     </td><td>Kenny    </td></tr>\n",
              "\t<tr><td> 830</td><td>Allen      </td><td>Eva      </td></tr>\n",
              "\t<tr><td> 856</td><td>Francis    </td><td>Edmund   </td></tr>\n",
              "\t<tr><td> 860</td><td>Payne      </td><td>Ernesto  </td></tr>\n",
              "\t<tr><td> 867</td><td>Ramsey     </td><td>Brittany </td></tr>\n",
              "\t<tr><td> 879</td><td>Christensen</td><td>Miguel   </td></tr>\n",
              "\t<tr><td> 887</td><td>Hill       </td><td>Amy      </td></tr>\n",
              "\t<tr><td> 920</td><td>Nguyen     </td><td>Betsy    </td></tr>\n",
              "\t<tr><td> 941</td><td>Gilbert    </td><td>Frances  </td></tr>\n",
              "\t<tr><td> 958</td><td>Parks      </td><td>Gwendolyn</td></tr>\n",
              "\t<tr><td>1044</td><td>Stephens   </td><td>Jean     </td></tr>\n",
              "\t<tr><td>1047</td><td>Norris     </td><td>Lydia    </td></tr>\n",
              "\t<tr><td>1073</td><td>Mclaughlin </td><td>Kyle     </td></tr>\n",
              "\t<tr><td>1091</td><td>Flores     </td><td>Wanda    </td></tr>\n",
              "\t<tr><td>1120</td><td>Reeves     </td><td>Myra     </td></tr>\n",
              "\t<tr><td>1131</td><td>Douglas    </td><td>Joey     </td></tr>\n",
              "\t<tr><td>1136</td><td>Pittman    </td><td>Sandy    </td></tr>\n",
              "\t<tr><td>1180</td><td>Rodriquez  </td><td>Lela     </td></tr>\n",
              "\t<tr><td>1204</td><td>Townsend   </td><td>Bryant   </td></tr>\n",
              "\t<tr><td>1217</td><td>King       </td><td>Tim      </td></tr>\n",
              "\t<tr><td>1242</td><td>Soto       </td><td>Lora     </td></tr>\n",
              "\t<tr><td>1273</td><td>Martinez   </td><td>Lorenzo  </td></tr>\n",
              "\t<tr><td>1293</td><td>Klein      </td><td>Steve    </td></tr>\n",
              "\t<tr><td>1294</td><td>Wells      </td><td>Dwight   </td></tr>\n",
              "\t<tr><td>1312</td><td>Montgomery </td><td>Elmer    </td></tr>\n",
              "</tbody>\n",
              "</table>\n"
            ],
            "text/markdown": "\nA tibble: 100 × 3\n\n| student_id &lt;dbl&gt; | first_name &lt;chr&gt; | last_name &lt;chr&gt; |\n|---|---|---|\n|  27 | Ryan      | Marian    |\n|  28 | Moss      | Sandra    |\n|  33 | Howell    | Rodney    |\n|  34 | Black     | Sheldon   |\n|  40 | Clarke    | Amos      |\n|  46 | Osborne   | Daisy     |\n|  61 | Woods     | Jaime     |\n|  64 | Wise      | Sonja     |\n|  67 | Hernandez | Brandi    |\n|  75 | Newman    | Sammy     |\n|  79 | Gutierrez | Katrina   |\n|  83 | Carroll   | Cornelius |\n|  94 | Hunt      | Brandy    |\n|  96 | Ross      | Lance     |\n| 101 | Padilla   | Gregory   |\n| 104 | Boyd      | Terri     |\n| 148 | Hardy     | Thelma    |\n| 149 | Barton    | Kathleen  |\n| 159 | Bryan     | Blanche   |\n| 166 | Watts     | Tyrone    |\n| 168 | Robertson | Maggie    |\n| 176 | Wolfe     | Mattie    |\n| 180 | Castro    | William   |\n| 185 | Morrison  | Lena      |\n| 187 | Moody     | Jack      |\n| 189 | Watson    | Essie     |\n| 191 | Briggs    | Franklin  |\n| 199 | Norman    | Lola      |\n| 221 | Cannon    | Susie     |\n| 262 | Maldonado | Randal    |\n| ⋮ | ⋮ | ⋮ |\n|  702 | Peters      | Rudy      |\n|  729 | Singleton   | David     |\n|  743 | Bryant      | Carl      |\n|  776 | Garcia      | Alexis    |\n|  804 | Kelley      | Amber     |\n|  822 | George      | Kenny     |\n|  830 | Allen       | Eva       |\n|  856 | Francis     | Edmund    |\n|  860 | Payne       | Ernesto   |\n|  867 | Ramsey      | Brittany  |\n|  879 | Christensen | Miguel    |\n|  887 | Hill        | Amy       |\n|  920 | Nguyen      | Betsy     |\n|  941 | Gilbert     | Frances   |\n|  958 | Parks       | Gwendolyn |\n| 1044 | Stephens    | Jean      |\n| 1047 | Norris      | Lydia     |\n| 1073 | Mclaughlin  | Kyle      |\n| 1091 | Flores      | Wanda     |\n| 1120 | Reeves      | Myra      |\n| 1131 | Douglas     | Joey      |\n| 1136 | Pittman     | Sandy     |\n| 1180 | Rodriquez   | Lela      |\n| 1204 | Townsend    | Bryant    |\n| 1217 | King        | Tim       |\n| 1242 | Soto        | Lora      |\n| 1273 | Martinez    | Lorenzo   |\n| 1293 | Klein       | Steve     |\n| 1294 | Wells       | Dwight    |\n| 1312 | Montgomery  | Elmer     |\n\n",
            "text/latex": "A tibble: 100 × 3\n\\begin{tabular}{lll}\n student\\_id & first\\_name & last\\_name\\\\\n <dbl> & <chr> & <chr>\\\\\n\\hline\n\t  27 & Ryan      & Marian   \\\\\n\t  28 & Moss      & Sandra   \\\\\n\t  33 & Howell    & Rodney   \\\\\n\t  34 & Black     & Sheldon  \\\\\n\t  40 & Clarke    & Amos     \\\\\n\t  46 & Osborne   & Daisy    \\\\\n\t  61 & Woods     & Jaime    \\\\\n\t  64 & Wise      & Sonja    \\\\\n\t  67 & Hernandez & Brandi   \\\\\n\t  75 & Newman    & Sammy    \\\\\n\t  79 & Gutierrez & Katrina  \\\\\n\t  83 & Carroll   & Cornelius\\\\\n\t  94 & Hunt      & Brandy   \\\\\n\t  96 & Ross      & Lance    \\\\\n\t 101 & Padilla   & Gregory  \\\\\n\t 104 & Boyd      & Terri    \\\\\n\t 148 & Hardy     & Thelma   \\\\\n\t 149 & Barton    & Kathleen \\\\\n\t 159 & Bryan     & Blanche  \\\\\n\t 166 & Watts     & Tyrone   \\\\\n\t 168 & Robertson & Maggie   \\\\\n\t 176 & Wolfe     & Mattie   \\\\\n\t 180 & Castro    & William  \\\\\n\t 185 & Morrison  & Lena     \\\\\n\t 187 & Moody     & Jack     \\\\\n\t 189 & Watson    & Essie    \\\\\n\t 191 & Briggs    & Franklin \\\\\n\t 199 & Norman    & Lola     \\\\\n\t 221 & Cannon    & Susie    \\\\\n\t 262 & Maldonado & Randal   \\\\\n\t ⋮ & ⋮ & ⋮\\\\\n\t  702 & Peters      & Rudy     \\\\\n\t  729 & Singleton   & David    \\\\\n\t  743 & Bryant      & Carl     \\\\\n\t  776 & Garcia      & Alexis   \\\\\n\t  804 & Kelley      & Amber    \\\\\n\t  822 & George      & Kenny    \\\\\n\t  830 & Allen       & Eva      \\\\\n\t  856 & Francis     & Edmund   \\\\\n\t  860 & Payne       & Ernesto  \\\\\n\t  867 & Ramsey      & Brittany \\\\\n\t  879 & Christensen & Miguel   \\\\\n\t  887 & Hill        & Amy      \\\\\n\t  920 & Nguyen      & Betsy    \\\\\n\t  941 & Gilbert     & Frances  \\\\\n\t  958 & Parks       & Gwendolyn\\\\\n\t 1044 & Stephens    & Jean     \\\\\n\t 1047 & Norris      & Lydia    \\\\\n\t 1073 & Mclaughlin  & Kyle     \\\\\n\t 1091 & Flores      & Wanda    \\\\\n\t 1120 & Reeves      & Myra     \\\\\n\t 1131 & Douglas     & Joey     \\\\\n\t 1136 & Pittman     & Sandy    \\\\\n\t 1180 & Rodriquez   & Lela     \\\\\n\t 1204 & Townsend    & Bryant   \\\\\n\t 1217 & King        & Tim      \\\\\n\t 1242 & Soto        & Lora     \\\\\n\t 1273 & Martinez    & Lorenzo  \\\\\n\t 1293 & Klein       & Steve    \\\\\n\t 1294 & Wells       & Dwight   \\\\\n\t 1312 & Montgomery  & Elmer    \\\\\n\\end{tabular}\n",
            "text/plain": [
              "    student_id first_name  last_name\n",
              "1    27        Ryan        Marian   \n",
              "2    28        Moss        Sandra   \n",
              "3    33        Howell      Rodney   \n",
              "4    34        Black       Sheldon  \n",
              "5    40        Clarke      Amos     \n",
              "6    46        Osborne     Daisy    \n",
              "7    61        Woods       Jaime    \n",
              "8    64        Wise        Sonja    \n",
              "9    67        Hernandez   Brandi   \n",
              "10   75        Newman      Sammy    \n",
              "11   79        Gutierrez   Katrina  \n",
              "12   83        Carroll     Cornelius\n",
              "13   94        Hunt        Brandy   \n",
              "14   96        Ross        Lance    \n",
              "15  101        Padilla     Gregory  \n",
              "16  104        Boyd        Terri    \n",
              "17  148        Hardy       Thelma   \n",
              "18  149        Barton      Kathleen \n",
              "19  159        Bryan       Blanche  \n",
              "20  166        Watts       Tyrone   \n",
              "21  168        Robertson   Maggie   \n",
              "22  176        Wolfe       Mattie   \n",
              "23  180        Castro      William  \n",
              "24  185        Morrison    Lena     \n",
              "25  187        Moody       Jack     \n",
              "26  189        Watson      Essie    \n",
              "27  191        Briggs      Franklin \n",
              "28  199        Norman      Lola     \n",
              "29  221        Cannon      Susie    \n",
              "30  262        Maldonado   Randal   \n",
              "⋮   ⋮          ⋮           ⋮        \n",
              "71   702       Peters      Rudy     \n",
              "72   729       Singleton   David    \n",
              "73   743       Bryant      Carl     \n",
              "74   776       Garcia      Alexis   \n",
              "75   804       Kelley      Amber    \n",
              "76   822       George      Kenny    \n",
              "77   830       Allen       Eva      \n",
              "78   856       Francis     Edmund   \n",
              "79   860       Payne       Ernesto  \n",
              "80   867       Ramsey      Brittany \n",
              "81   879       Christensen Miguel   \n",
              "82   887       Hill        Amy      \n",
              "83   920       Nguyen      Betsy    \n",
              "84   941       Gilbert     Frances  \n",
              "85   958       Parks       Gwendolyn\n",
              "86  1044       Stephens    Jean     \n",
              "87  1047       Norris      Lydia    \n",
              "88  1073       Mclaughlin  Kyle     \n",
              "89  1091       Flores      Wanda    \n",
              "90  1120       Reeves      Myra     \n",
              "91  1131       Douglas     Joey     \n",
              "92  1136       Pittman     Sandy    \n",
              "93  1180       Rodriquez   Lela     \n",
              "94  1204       Townsend    Bryant   \n",
              "95  1217       King        Tim      \n",
              "96  1242       Soto        Lora     \n",
              "97  1273       Martinez    Lorenzo  \n",
              "98  1293       Klein       Steve    \n",
              "99  1294       Wells       Dwight   \n",
              "100 1312       Montgomery  Elmer    "
            ]
          },
          "metadata": {}
        }
      ]
    },
    {
      "cell_type": "markdown",
      "source": [
        "## **Join data from different tables**"
      ],
      "metadata": {
        "id": "Utu91Ho5vpVl"
      }
    },
    {
      "cell_type": "markdown",
      "source": [
        "**Reading file from specific sheet name**"
      ],
      "metadata": {
        "id": "8lbGG9zyv01V"
      }
    },
    {
      "cell_type": "code",
      "source": [
        "# Reading the first table\n",
        "# Reading excel file from github\n",
        "library(readxl)\n",
        "library(httr)\n",
        "\n",
        "# Correct raw url (binary files must use /raw/ not /blob/ or /refs/heads/)\n",
        "url_xlsx <- \"https://github.com/harishmuh/R_tutorial/raw/main/datasets/student%20grades.xlsx\"\n",
        "\n",
        "# Download the file temporarily using httr::GET to ensure proper handling of binary files\n",
        "temp_file <- tempfile(fileext = \".xlsx\")\n",
        "GET(url_xlsx, write_disk(temp_file, overwrite = TRUE))\n",
        "\n",
        "# Read Excel - first table \"student\" sheet\n",
        "ids <- read_excel(temp_file, sheet = \"students\")\n",
        "\n",
        "# Check first rows\n",
        "head(ids)"
      ],
      "metadata": {
        "colab": {
          "base_uri": "https://localhost:8080/",
          "height": 434
        },
        "id": "tZ_Ezdt3v5Bo",
        "outputId": "1e1c9042-a398-4a31-cfcd-1f77a6dcbd15"
      },
      "execution_count": 52,
      "outputs": [
        {
          "output_type": "display_data",
          "data": {
            "text/plain": [
              "Response [https://raw.githubusercontent.com/harishmuh/R_tutorial/main/datasets/student%20grades.xlsx]\n",
              "  Date: 2025-09-16 04:25\n",
              "  Status: 200\n",
              "  Content-Type: application/octet-stream\n",
              "  Size: 21 kB\n",
              "<ON DISK>  /tmp/RtmpGUMlT6/filefa7c5d8fd7.xlsxNULL"
            ]
          },
          "metadata": {}
        },
        {
          "output_type": "display_data",
          "data": {
            "text/html": [
              "<table class=\"dataframe\">\n",
              "<caption>A tibble: 6 × 3</caption>\n",
              "<thead>\n",
              "\t<tr><th scope=col>student_id</th><th scope=col>last_name</th><th scope=col>first_name</th></tr>\n",
              "\t<tr><th scope=col>&lt;dbl&gt;</th><th scope=col>&lt;chr&gt;</th><th scope=col>&lt;chr&gt;</th></tr>\n",
              "</thead>\n",
              "<tbody>\n",
              "\t<tr><td>27</td><td>Marian </td><td>Ryan   </td></tr>\n",
              "\t<tr><td>28</td><td>Sandra </td><td>Moss   </td></tr>\n",
              "\t<tr><td>33</td><td>Rodney </td><td>Howell </td></tr>\n",
              "\t<tr><td>34</td><td>Sheldon</td><td>Black  </td></tr>\n",
              "\t<tr><td>40</td><td>Amos   </td><td>Clarke </td></tr>\n",
              "\t<tr><td>46</td><td>Daisy  </td><td>Osborne</td></tr>\n",
              "</tbody>\n",
              "</table>\n"
            ],
            "text/markdown": "\nA tibble: 6 × 3\n\n| student_id &lt;dbl&gt; | last_name &lt;chr&gt; | first_name &lt;chr&gt; |\n|---|---|---|\n| 27 | Marian  | Ryan    |\n| 28 | Sandra  | Moss    |\n| 33 | Rodney  | Howell  |\n| 34 | Sheldon | Black   |\n| 40 | Amos    | Clarke  |\n| 46 | Daisy   | Osborne |\n\n",
            "text/latex": "A tibble: 6 × 3\n\\begin{tabular}{lll}\n student\\_id & last\\_name & first\\_name\\\\\n <dbl> & <chr> & <chr>\\\\\n\\hline\n\t 27 & Marian  & Ryan   \\\\\n\t 28 & Sandra  & Moss   \\\\\n\t 33 & Rodney  & Howell \\\\\n\t 34 & Sheldon & Black  \\\\\n\t 40 & Amos    & Clarke \\\\\n\t 46 & Daisy   & Osborne\\\\\n\\end{tabular}\n",
            "text/plain": [
              "  student_id last_name first_name\n",
              "1 27         Marian    Ryan      \n",
              "2 28         Sandra    Moss      \n",
              "3 33         Rodney    Howell    \n",
              "4 34         Sheldon   Black     \n",
              "5 40         Amos      Clarke    \n",
              "6 46         Daisy     Osborne   "
            ]
          },
          "metadata": {}
        }
      ]
    },
    {
      "cell_type": "code",
      "source": [
        "# Reading the second table\n",
        "# Read Excel - second table: \"grades\" sheet\n",
        "grades <- read_excel(temp_file, sheet = \"grades\")\n",
        "\n",
        "# Check first rows\n",
        "head(grades)"
      ],
      "metadata": {
        "colab": {
          "base_uri": "https://localhost:8080/",
          "height": 286
        },
        "id": "OlFyQssjxdtt",
        "outputId": "dc44950f-9402-47c9-993d-841664d78a35"
      },
      "execution_count": 53,
      "outputs": [
        {
          "output_type": "display_data",
          "data": {
            "text/html": [
              "<table class=\"dataframe\">\n",
              "<caption>A tibble: 6 × 4</caption>\n",
              "<thead>\n",
              "\t<tr><th scope=col>student_id</th><th scope=col>course_id</th><th scope=col>course_name</th><th scope=col>grade</th></tr>\n",
              "\t<tr><th scope=col>&lt;dbl&gt;</th><th scope=col>&lt;chr&gt;</th><th scope=col>&lt;chr&gt;</th><th scope=col>&lt;dbl&gt;</th></tr>\n",
              "</thead>\n",
              "<tbody>\n",
              "\t<tr><td>27</td><td>MATH 302</td><td>Mathematics</td><td>74</td></tr>\n",
              "\t<tr><td>27</td><td>PHY 311 </td><td>Physics    </td><td>75</td></tr>\n",
              "\t<tr><td>28</td><td>MATH 302</td><td>Mathematics</td><td>77</td></tr>\n",
              "\t<tr><td>28</td><td>PHY 311 </td><td>Physics    </td><td>81</td></tr>\n",
              "\t<tr><td>33</td><td>MATH 302</td><td>Mathematics</td><td>99</td></tr>\n",
              "\t<tr><td>33</td><td>PHY 311 </td><td>Physics    </td><td>99</td></tr>\n",
              "</tbody>\n",
              "</table>\n"
            ],
            "text/markdown": "\nA tibble: 6 × 4\n\n| student_id &lt;dbl&gt; | course_id &lt;chr&gt; | course_name &lt;chr&gt; | grade &lt;dbl&gt; |\n|---|---|---|---|\n| 27 | MATH 302 | Mathematics | 74 |\n| 27 | PHY 311  | Physics     | 75 |\n| 28 | MATH 302 | Mathematics | 77 |\n| 28 | PHY 311  | Physics     | 81 |\n| 33 | MATH 302 | Mathematics | 99 |\n| 33 | PHY 311  | Physics     | 99 |\n\n",
            "text/latex": "A tibble: 6 × 4\n\\begin{tabular}{llll}\n student\\_id & course\\_id & course\\_name & grade\\\\\n <dbl> & <chr> & <chr> & <dbl>\\\\\n\\hline\n\t 27 & MATH 302 & Mathematics & 74\\\\\n\t 27 & PHY 311  & Physics     & 75\\\\\n\t 28 & MATH 302 & Mathematics & 77\\\\\n\t 28 & PHY 311  & Physics     & 81\\\\\n\t 33 & MATH 302 & Mathematics & 99\\\\\n\t 33 & PHY 311  & Physics     & 99\\\\\n\\end{tabular}\n",
            "text/plain": [
              "  student_id course_id course_name grade\n",
              "1 27         MATH 302  Mathematics 74   \n",
              "2 27         PHY 311   Physics     75   \n",
              "3 28         MATH 302  Mathematics 77   \n",
              "4 28         PHY 311   Physics     81   \n",
              "5 33         MATH 302  Mathematics 99   \n",
              "6 33         PHY 311   Physics     99   "
            ]
          },
          "metadata": {}
        }
      ]
    },
    {
      "cell_type": "markdown",
      "source": [
        "We can see there is the 'student_id' column in both of tables.\n",
        "\n",
        "we can combine it."
      ],
      "metadata": {
        "id": "IuU3sxpBx9Gw"
      }
    },
    {
      "cell_type": "code",
      "source": [
        "# Join two different tables\n",
        "ids %>% inner_join(grades, by = \"student_id\")"
      ],
      "metadata": {
        "colab": {
          "base_uri": "https://localhost:8080/",
          "height": 1000
        },
        "id": "t3GWMqTAyLpz",
        "outputId": "429b58d1-a203-4e5a-fef7-1f2f19827030"
      },
      "execution_count": 54,
      "outputs": [
        {
          "output_type": "display_data",
          "data": {
            "text/html": [
              "<table class=\"dataframe\">\n",
              "<caption>A tibble: 204 × 6</caption>\n",
              "<thead>\n",
              "\t<tr><th scope=col>student_id</th><th scope=col>last_name</th><th scope=col>first_name</th><th scope=col>course_id</th><th scope=col>course_name</th><th scope=col>grade</th></tr>\n",
              "\t<tr><th scope=col>&lt;dbl&gt;</th><th scope=col>&lt;chr&gt;</th><th scope=col>&lt;chr&gt;</th><th scope=col>&lt;chr&gt;</th><th scope=col>&lt;chr&gt;</th><th scope=col>&lt;dbl&gt;</th></tr>\n",
              "</thead>\n",
              "<tbody>\n",
              "\t<tr><td>27</td><td>Marian   </td><td>Ryan     </td><td>MATH 302</td><td>Mathematics</td><td>74</td></tr>\n",
              "\t<tr><td>27</td><td>Marian   </td><td>Ryan     </td><td>PHY 311 </td><td>Physics    </td><td>75</td></tr>\n",
              "\t<tr><td>28</td><td>Sandra   </td><td>Moss     </td><td>MATH 302</td><td>Mathematics</td><td>77</td></tr>\n",
              "\t<tr><td>28</td><td>Sandra   </td><td>Moss     </td><td>PHY 311 </td><td>Physics    </td><td>81</td></tr>\n",
              "\t<tr><td>33</td><td>Rodney   </td><td>Howell   </td><td>MATH 302</td><td>Mathematics</td><td>99</td></tr>\n",
              "\t<tr><td>33</td><td>Rodney   </td><td>Howell   </td><td>PHY 311 </td><td>Physics    </td><td>99</td></tr>\n",
              "\t<tr><td>34</td><td>Sheldon  </td><td>Black    </td><td>PHY 311 </td><td>Physics    </td><td>70</td></tr>\n",
              "\t<tr><td>34</td><td>Sheldon  </td><td>Black    </td><td>MATH 302</td><td>Mathematics</td><td>77</td></tr>\n",
              "\t<tr><td>40</td><td>Amos     </td><td>Clarke   </td><td>MATH 302</td><td>Mathematics</td><td>66</td></tr>\n",
              "\t<tr><td>40</td><td>Amos     </td><td>Clarke   </td><td>PHY 311 </td><td>Physics    </td><td>66</td></tr>\n",
              "\t<tr><td>40</td><td>Amos     </td><td>Clarke   </td><td>PHY 311 </td><td>Physics    </td><td>80</td></tr>\n",
              "\t<tr><td>40</td><td>Amos     </td><td>Clarke   </td><td>MATH 302</td><td>Mathematics</td><td>81</td></tr>\n",
              "\t<tr><td>46</td><td>Daisy    </td><td>Osborne  </td><td>MATH 302</td><td>Mathematics</td><td>75</td></tr>\n",
              "\t<tr><td>46</td><td>Daisy    </td><td>Osborne  </td><td>PHY 311 </td><td>Physics    </td><td>77</td></tr>\n",
              "\t<tr><td>61</td><td>Jaime    </td><td>Woods    </td><td>MATH 302</td><td>Mathematics</td><td>78</td></tr>\n",
              "\t<tr><td>61</td><td>Jaime    </td><td>Woods    </td><td>PHY 311 </td><td>Physics    </td><td>83</td></tr>\n",
              "\t<tr><td>64</td><td>Sonja    </td><td>Wise     </td><td>MATH 302</td><td>Mathematics</td><td>81</td></tr>\n",
              "\t<tr><td>64</td><td>Sonja    </td><td>Wise     </td><td>PHY 311 </td><td>Physics    </td><td>85</td></tr>\n",
              "\t<tr><td>67</td><td>Brandi   </td><td>Hernandez</td><td>PHY 311 </td><td>Physics    </td><td>87</td></tr>\n",
              "\t<tr><td>67</td><td>Brandi   </td><td>Hernandez</td><td>MATH 302</td><td>Mathematics</td><td>89</td></tr>\n",
              "\t<tr><td>75</td><td>Sammy    </td><td>Newman   </td><td>PHY 311 </td><td>Physics    </td><td>81</td></tr>\n",
              "\t<tr><td>75</td><td>Sammy    </td><td>Newman   </td><td>MATH 302</td><td>Mathematics</td><td>84</td></tr>\n",
              "\t<tr><td>79</td><td>Katrina  </td><td>Gutierrez</td><td>MATH 302</td><td>Mathematics</td><td>77</td></tr>\n",
              "\t<tr><td>79</td><td>Katrina  </td><td>Gutierrez</td><td>PHY 311 </td><td>Physics    </td><td>78</td></tr>\n",
              "\t<tr><td>83</td><td>Cornelius</td><td>Carroll  </td><td>PHY 311 </td><td>Physics    </td><td>77</td></tr>\n",
              "\t<tr><td>83</td><td>Cornelius</td><td>Carroll  </td><td>MATH 302</td><td>Mathematics</td><td>79</td></tr>\n",
              "\t<tr><td>94</td><td>Brandy   </td><td>Hunt     </td><td>MATH 302</td><td>Mathematics</td><td>81</td></tr>\n",
              "\t<tr><td>94</td><td>Brandy   </td><td>Hunt     </td><td>PHY 311 </td><td>Physics    </td><td>85</td></tr>\n",
              "\t<tr><td>96</td><td>Lance    </td><td>Ross     </td><td>MATH 302</td><td>Mathematics</td><td>92</td></tr>\n",
              "\t<tr><td>96</td><td>Lance    </td><td>Ross     </td><td>PHY 311 </td><td>Physics    </td><td>92</td></tr>\n",
              "\t<tr><td>⋮</td><td>⋮</td><td>⋮</td><td>⋮</td><td>⋮</td><td>⋮</td></tr>\n",
              "\t<tr><td>1047</td><td>Lydia  </td><td>Norris    </td><td>PHY 311 </td><td>Physics    </td><td>86</td></tr>\n",
              "\t<tr><td>1047</td><td>Lydia  </td><td>Norris    </td><td>MATH 302</td><td>Mathematics</td><td>90</td></tr>\n",
              "\t<tr><td>1073</td><td>Kyle   </td><td>Mclaughlin</td><td>MATH 302</td><td>Mathematics</td><td>86</td></tr>\n",
              "\t<tr><td>1073</td><td>Kyle   </td><td>Mclaughlin</td><td>PHY 311 </td><td>Physics    </td><td>96</td></tr>\n",
              "\t<tr><td>1091</td><td>Wanda  </td><td>Flores    </td><td>MATH 302</td><td>Mathematics</td><td>77</td></tr>\n",
              "\t<tr><td>1091</td><td>Wanda  </td><td>Flores    </td><td>PHY 311 </td><td>Physics    </td><td>80</td></tr>\n",
              "\t<tr><td>1120</td><td>Myra   </td><td>Reeves    </td><td>MATH 302</td><td>Mathematics</td><td>65</td></tr>\n",
              "\t<tr><td>1120</td><td>Myra   </td><td>Reeves    </td><td>PHY 311 </td><td>Physics    </td><td>71</td></tr>\n",
              "\t<tr><td>1120</td><td>Myra   </td><td>Reeves    </td><td>MATH 302</td><td>Mathematics</td><td>NA</td></tr>\n",
              "\t<tr><td>1120</td><td>Myra   </td><td>Reeves    </td><td>PHY 311 </td><td>Physics    </td><td>NA</td></tr>\n",
              "\t<tr><td>1131</td><td>Joey   </td><td>Douglas   </td><td>MATH 302</td><td>Mathematics</td><td>81</td></tr>\n",
              "\t<tr><td>1131</td><td>Joey   </td><td>Douglas   </td><td>PHY 311 </td><td>Physics    </td><td>84</td></tr>\n",
              "\t<tr><td>1136</td><td>Sandy  </td><td>Pittman   </td><td>MATH 302</td><td>Mathematics</td><td>80</td></tr>\n",
              "\t<tr><td>1136</td><td>Sandy  </td><td>Pittman   </td><td>PHY 311 </td><td>Physics    </td><td>81</td></tr>\n",
              "\t<tr><td>1180</td><td>Lela   </td><td>Rodriquez </td><td>PHY 311 </td><td>Physics    </td><td>84</td></tr>\n",
              "\t<tr><td>1180</td><td>Lela   </td><td>Rodriquez </td><td>MATH 302</td><td>Mathematics</td><td>87</td></tr>\n",
              "\t<tr><td>1204</td><td>Bryant </td><td>Townsend  </td><td>PHY 311 </td><td>Physics    </td><td>82</td></tr>\n",
              "\t<tr><td>1204</td><td>Bryant </td><td>Townsend  </td><td>MATH 302</td><td>Mathematics</td><td>85</td></tr>\n",
              "\t<tr><td>1217</td><td>Tim    </td><td>King      </td><td>PHY 311 </td><td>Physics    </td><td>79</td></tr>\n",
              "\t<tr><td>1217</td><td>Tim    </td><td>King      </td><td>MATH 302</td><td>Mathematics</td><td>80</td></tr>\n",
              "\t<tr><td>1242</td><td>Lora   </td><td>Soto      </td><td>PHY 311 </td><td>Physics    </td><td>84</td></tr>\n",
              "\t<tr><td>1242</td><td>Lora   </td><td>Soto      </td><td>MATH 302</td><td>Mathematics</td><td>85</td></tr>\n",
              "\t<tr><td>1273</td><td>Lorenzo</td><td>Martinez  </td><td>MATH 302</td><td>Mathematics</td><td>95</td></tr>\n",
              "\t<tr><td>1273</td><td>Lorenzo</td><td>Martinez  </td><td>PHY 311 </td><td>Physics    </td><td>97</td></tr>\n",
              "\t<tr><td>1293</td><td>Steve  </td><td>Klein     </td><td>MATH 302</td><td>Mathematics</td><td>86</td></tr>\n",
              "\t<tr><td>1293</td><td>Steve  </td><td>Klein     </td><td>PHY 311 </td><td>Physics    </td><td>94</td></tr>\n",
              "\t<tr><td>1294</td><td>Dwight </td><td>Wells     </td><td>PHY 311 </td><td>Physics    </td><td>80</td></tr>\n",
              "\t<tr><td>1294</td><td>Dwight </td><td>Wells     </td><td>MATH 302</td><td>Mathematics</td><td>82</td></tr>\n",
              "\t<tr><td>1312</td><td>Elmer  </td><td>Montgomery</td><td>MATH 302</td><td>Mathematics</td><td>81</td></tr>\n",
              "\t<tr><td>1312</td><td>Elmer  </td><td>Montgomery</td><td>PHY 311 </td><td>Physics    </td><td>84</td></tr>\n",
              "</tbody>\n",
              "</table>\n"
            ],
            "text/markdown": "\nA tibble: 204 × 6\n\n| student_id &lt;dbl&gt; | last_name &lt;chr&gt; | first_name &lt;chr&gt; | course_id &lt;chr&gt; | course_name &lt;chr&gt; | grade &lt;dbl&gt; |\n|---|---|---|---|---|---|\n| 27 | Marian    | Ryan      | MATH 302 | Mathematics | 74 |\n| 27 | Marian    | Ryan      | PHY 311  | Physics     | 75 |\n| 28 | Sandra    | Moss      | MATH 302 | Mathematics | 77 |\n| 28 | Sandra    | Moss      | PHY 311  | Physics     | 81 |\n| 33 | Rodney    | Howell    | MATH 302 | Mathematics | 99 |\n| 33 | Rodney    | Howell    | PHY 311  | Physics     | 99 |\n| 34 | Sheldon   | Black     | PHY 311  | Physics     | 70 |\n| 34 | Sheldon   | Black     | MATH 302 | Mathematics | 77 |\n| 40 | Amos      | Clarke    | MATH 302 | Mathematics | 66 |\n| 40 | Amos      | Clarke    | PHY 311  | Physics     | 66 |\n| 40 | Amos      | Clarke    | PHY 311  | Physics     | 80 |\n| 40 | Amos      | Clarke    | MATH 302 | Mathematics | 81 |\n| 46 | Daisy     | Osborne   | MATH 302 | Mathematics | 75 |\n| 46 | Daisy     | Osborne   | PHY 311  | Physics     | 77 |\n| 61 | Jaime     | Woods     | MATH 302 | Mathematics | 78 |\n| 61 | Jaime     | Woods     | PHY 311  | Physics     | 83 |\n| 64 | Sonja     | Wise      | MATH 302 | Mathematics | 81 |\n| 64 | Sonja     | Wise      | PHY 311  | Physics     | 85 |\n| 67 | Brandi    | Hernandez | PHY 311  | Physics     | 87 |\n| 67 | Brandi    | Hernandez | MATH 302 | Mathematics | 89 |\n| 75 | Sammy     | Newman    | PHY 311  | Physics     | 81 |\n| 75 | Sammy     | Newman    | MATH 302 | Mathematics | 84 |\n| 79 | Katrina   | Gutierrez | MATH 302 | Mathematics | 77 |\n| 79 | Katrina   | Gutierrez | PHY 311  | Physics     | 78 |\n| 83 | Cornelius | Carroll   | PHY 311  | Physics     | 77 |\n| 83 | Cornelius | Carroll   | MATH 302 | Mathematics | 79 |\n| 94 | Brandy    | Hunt      | MATH 302 | Mathematics | 81 |\n| 94 | Brandy    | Hunt      | PHY 311  | Physics     | 85 |\n| 96 | Lance     | Ross      | MATH 302 | Mathematics | 92 |\n| 96 | Lance     | Ross      | PHY 311  | Physics     | 92 |\n| ⋮ | ⋮ | ⋮ | ⋮ | ⋮ | ⋮ |\n| 1047 | Lydia   | Norris     | PHY 311  | Physics     | 86 |\n| 1047 | Lydia   | Norris     | MATH 302 | Mathematics | 90 |\n| 1073 | Kyle    | Mclaughlin | MATH 302 | Mathematics | 86 |\n| 1073 | Kyle    | Mclaughlin | PHY 311  | Physics     | 96 |\n| 1091 | Wanda   | Flores     | MATH 302 | Mathematics | 77 |\n| 1091 | Wanda   | Flores     | PHY 311  | Physics     | 80 |\n| 1120 | Myra    | Reeves     | MATH 302 | Mathematics | 65 |\n| 1120 | Myra    | Reeves     | PHY 311  | Physics     | 71 |\n| 1120 | Myra    | Reeves     | MATH 302 | Mathematics | NA |\n| 1120 | Myra    | Reeves     | PHY 311  | Physics     | NA |\n| 1131 | Joey    | Douglas    | MATH 302 | Mathematics | 81 |\n| 1131 | Joey    | Douglas    | PHY 311  | Physics     | 84 |\n| 1136 | Sandy   | Pittman    | MATH 302 | Mathematics | 80 |\n| 1136 | Sandy   | Pittman    | PHY 311  | Physics     | 81 |\n| 1180 | Lela    | Rodriquez  | PHY 311  | Physics     | 84 |\n| 1180 | Lela    | Rodriquez  | MATH 302 | Mathematics | 87 |\n| 1204 | Bryant  | Townsend   | PHY 311  | Physics     | 82 |\n| 1204 | Bryant  | Townsend   | MATH 302 | Mathematics | 85 |\n| 1217 | Tim     | King       | PHY 311  | Physics     | 79 |\n| 1217 | Tim     | King       | MATH 302 | Mathematics | 80 |\n| 1242 | Lora    | Soto       | PHY 311  | Physics     | 84 |\n| 1242 | Lora    | Soto       | MATH 302 | Mathematics | 85 |\n| 1273 | Lorenzo | Martinez   | MATH 302 | Mathematics | 95 |\n| 1273 | Lorenzo | Martinez   | PHY 311  | Physics     | 97 |\n| 1293 | Steve   | Klein      | MATH 302 | Mathematics | 86 |\n| 1293 | Steve   | Klein      | PHY 311  | Physics     | 94 |\n| 1294 | Dwight  | Wells      | PHY 311  | Physics     | 80 |\n| 1294 | Dwight  | Wells      | MATH 302 | Mathematics | 82 |\n| 1312 | Elmer   | Montgomery | MATH 302 | Mathematics | 81 |\n| 1312 | Elmer   | Montgomery | PHY 311  | Physics     | 84 |\n\n",
            "text/latex": "A tibble: 204 × 6\n\\begin{tabular}{llllll}\n student\\_id & last\\_name & first\\_name & course\\_id & course\\_name & grade\\\\\n <dbl> & <chr> & <chr> & <chr> & <chr> & <dbl>\\\\\n\\hline\n\t 27 & Marian    & Ryan      & MATH 302 & Mathematics & 74\\\\\n\t 27 & Marian    & Ryan      & PHY 311  & Physics     & 75\\\\\n\t 28 & Sandra    & Moss      & MATH 302 & Mathematics & 77\\\\\n\t 28 & Sandra    & Moss      & PHY 311  & Physics     & 81\\\\\n\t 33 & Rodney    & Howell    & MATH 302 & Mathematics & 99\\\\\n\t 33 & Rodney    & Howell    & PHY 311  & Physics     & 99\\\\\n\t 34 & Sheldon   & Black     & PHY 311  & Physics     & 70\\\\\n\t 34 & Sheldon   & Black     & MATH 302 & Mathematics & 77\\\\\n\t 40 & Amos      & Clarke    & MATH 302 & Mathematics & 66\\\\\n\t 40 & Amos      & Clarke    & PHY 311  & Physics     & 66\\\\\n\t 40 & Amos      & Clarke    & PHY 311  & Physics     & 80\\\\\n\t 40 & Amos      & Clarke    & MATH 302 & Mathematics & 81\\\\\n\t 46 & Daisy     & Osborne   & MATH 302 & Mathematics & 75\\\\\n\t 46 & Daisy     & Osborne   & PHY 311  & Physics     & 77\\\\\n\t 61 & Jaime     & Woods     & MATH 302 & Mathematics & 78\\\\\n\t 61 & Jaime     & Woods     & PHY 311  & Physics     & 83\\\\\n\t 64 & Sonja     & Wise      & MATH 302 & Mathematics & 81\\\\\n\t 64 & Sonja     & Wise      & PHY 311  & Physics     & 85\\\\\n\t 67 & Brandi    & Hernandez & PHY 311  & Physics     & 87\\\\\n\t 67 & Brandi    & Hernandez & MATH 302 & Mathematics & 89\\\\\n\t 75 & Sammy     & Newman    & PHY 311  & Physics     & 81\\\\\n\t 75 & Sammy     & Newman    & MATH 302 & Mathematics & 84\\\\\n\t 79 & Katrina   & Gutierrez & MATH 302 & Mathematics & 77\\\\\n\t 79 & Katrina   & Gutierrez & PHY 311  & Physics     & 78\\\\\n\t 83 & Cornelius & Carroll   & PHY 311  & Physics     & 77\\\\\n\t 83 & Cornelius & Carroll   & MATH 302 & Mathematics & 79\\\\\n\t 94 & Brandy    & Hunt      & MATH 302 & Mathematics & 81\\\\\n\t 94 & Brandy    & Hunt      & PHY 311  & Physics     & 85\\\\\n\t 96 & Lance     & Ross      & MATH 302 & Mathematics & 92\\\\\n\t 96 & Lance     & Ross      & PHY 311  & Physics     & 92\\\\\n\t ⋮ & ⋮ & ⋮ & ⋮ & ⋮ & ⋮\\\\\n\t 1047 & Lydia   & Norris     & PHY 311  & Physics     & 86\\\\\n\t 1047 & Lydia   & Norris     & MATH 302 & Mathematics & 90\\\\\n\t 1073 & Kyle    & Mclaughlin & MATH 302 & Mathematics & 86\\\\\n\t 1073 & Kyle    & Mclaughlin & PHY 311  & Physics     & 96\\\\\n\t 1091 & Wanda   & Flores     & MATH 302 & Mathematics & 77\\\\\n\t 1091 & Wanda   & Flores     & PHY 311  & Physics     & 80\\\\\n\t 1120 & Myra    & Reeves     & MATH 302 & Mathematics & 65\\\\\n\t 1120 & Myra    & Reeves     & PHY 311  & Physics     & 71\\\\\n\t 1120 & Myra    & Reeves     & MATH 302 & Mathematics & NA\\\\\n\t 1120 & Myra    & Reeves     & PHY 311  & Physics     & NA\\\\\n\t 1131 & Joey    & Douglas    & MATH 302 & Mathematics & 81\\\\\n\t 1131 & Joey    & Douglas    & PHY 311  & Physics     & 84\\\\\n\t 1136 & Sandy   & Pittman    & MATH 302 & Mathematics & 80\\\\\n\t 1136 & Sandy   & Pittman    & PHY 311  & Physics     & 81\\\\\n\t 1180 & Lela    & Rodriquez  & PHY 311  & Physics     & 84\\\\\n\t 1180 & Lela    & Rodriquez  & MATH 302 & Mathematics & 87\\\\\n\t 1204 & Bryant  & Townsend   & PHY 311  & Physics     & 82\\\\\n\t 1204 & Bryant  & Townsend   & MATH 302 & Mathematics & 85\\\\\n\t 1217 & Tim     & King       & PHY 311  & Physics     & 79\\\\\n\t 1217 & Tim     & King       & MATH 302 & Mathematics & 80\\\\\n\t 1242 & Lora    & Soto       & PHY 311  & Physics     & 84\\\\\n\t 1242 & Lora    & Soto       & MATH 302 & Mathematics & 85\\\\\n\t 1273 & Lorenzo & Martinez   & MATH 302 & Mathematics & 95\\\\\n\t 1273 & Lorenzo & Martinez   & PHY 311  & Physics     & 97\\\\\n\t 1293 & Steve   & Klein      & MATH 302 & Mathematics & 86\\\\\n\t 1293 & Steve   & Klein      & PHY 311  & Physics     & 94\\\\\n\t 1294 & Dwight  & Wells      & PHY 311  & Physics     & 80\\\\\n\t 1294 & Dwight  & Wells      & MATH 302 & Mathematics & 82\\\\\n\t 1312 & Elmer   & Montgomery & MATH 302 & Mathematics & 81\\\\\n\t 1312 & Elmer   & Montgomery & PHY 311  & Physics     & 84\\\\\n\\end{tabular}\n",
            "text/plain": [
              "    student_id last_name first_name course_id course_name grade\n",
              "1   27         Marian    Ryan       MATH 302  Mathematics 74   \n",
              "2   27         Marian    Ryan       PHY 311   Physics     75   \n",
              "3   28         Sandra    Moss       MATH 302  Mathematics 77   \n",
              "4   28         Sandra    Moss       PHY 311   Physics     81   \n",
              "5   33         Rodney    Howell     MATH 302  Mathematics 99   \n",
              "6   33         Rodney    Howell     PHY 311   Physics     99   \n",
              "7   34         Sheldon   Black      PHY 311   Physics     70   \n",
              "8   34         Sheldon   Black      MATH 302  Mathematics 77   \n",
              "9   40         Amos      Clarke     MATH 302  Mathematics 66   \n",
              "10  40         Amos      Clarke     PHY 311   Physics     66   \n",
              "11  40         Amos      Clarke     PHY 311   Physics     80   \n",
              "12  40         Amos      Clarke     MATH 302  Mathematics 81   \n",
              "13  46         Daisy     Osborne    MATH 302  Mathematics 75   \n",
              "14  46         Daisy     Osborne    PHY 311   Physics     77   \n",
              "15  61         Jaime     Woods      MATH 302  Mathematics 78   \n",
              "16  61         Jaime     Woods      PHY 311   Physics     83   \n",
              "17  64         Sonja     Wise       MATH 302  Mathematics 81   \n",
              "18  64         Sonja     Wise       PHY 311   Physics     85   \n",
              "19  67         Brandi    Hernandez  PHY 311   Physics     87   \n",
              "20  67         Brandi    Hernandez  MATH 302  Mathematics 89   \n",
              "21  75         Sammy     Newman     PHY 311   Physics     81   \n",
              "22  75         Sammy     Newman     MATH 302  Mathematics 84   \n",
              "23  79         Katrina   Gutierrez  MATH 302  Mathematics 77   \n",
              "24  79         Katrina   Gutierrez  PHY 311   Physics     78   \n",
              "25  83         Cornelius Carroll    PHY 311   Physics     77   \n",
              "26  83         Cornelius Carroll    MATH 302  Mathematics 79   \n",
              "27  94         Brandy    Hunt       MATH 302  Mathematics 81   \n",
              "28  94         Brandy    Hunt       PHY 311   Physics     85   \n",
              "29  96         Lance     Ross       MATH 302  Mathematics 92   \n",
              "30  96         Lance     Ross       PHY 311   Physics     92   \n",
              "⋮   ⋮          ⋮         ⋮          ⋮         ⋮           ⋮    \n",
              "175 1047       Lydia     Norris     PHY 311   Physics     86   \n",
              "176 1047       Lydia     Norris     MATH 302  Mathematics 90   \n",
              "177 1073       Kyle      Mclaughlin MATH 302  Mathematics 86   \n",
              "178 1073       Kyle      Mclaughlin PHY 311   Physics     96   \n",
              "179 1091       Wanda     Flores     MATH 302  Mathematics 77   \n",
              "180 1091       Wanda     Flores     PHY 311   Physics     80   \n",
              "181 1120       Myra      Reeves     MATH 302  Mathematics 65   \n",
              "182 1120       Myra      Reeves     PHY 311   Physics     71   \n",
              "183 1120       Myra      Reeves     MATH 302  Mathematics NA   \n",
              "184 1120       Myra      Reeves     PHY 311   Physics     NA   \n",
              "185 1131       Joey      Douglas    MATH 302  Mathematics 81   \n",
              "186 1131       Joey      Douglas    PHY 311   Physics     84   \n",
              "187 1136       Sandy     Pittman    MATH 302  Mathematics 80   \n",
              "188 1136       Sandy     Pittman    PHY 311   Physics     81   \n",
              "189 1180       Lela      Rodriquez  PHY 311   Physics     84   \n",
              "190 1180       Lela      Rodriquez  MATH 302  Mathematics 87   \n",
              "191 1204       Bryant    Townsend   PHY 311   Physics     82   \n",
              "192 1204       Bryant    Townsend   MATH 302  Mathematics 85   \n",
              "193 1217       Tim       King       PHY 311   Physics     79   \n",
              "194 1217       Tim       King       MATH 302  Mathematics 80   \n",
              "195 1242       Lora      Soto       PHY 311   Physics     84   \n",
              "196 1242       Lora      Soto       MATH 302  Mathematics 85   \n",
              "197 1273       Lorenzo   Martinez   MATH 302  Mathematics 95   \n",
              "198 1273       Lorenzo   Martinez   PHY 311   Physics     97   \n",
              "199 1293       Steve     Klein      MATH 302  Mathematics 86   \n",
              "200 1293       Steve     Klein      PHY 311   Physics     94   \n",
              "201 1294       Dwight    Wells      PHY 311   Physics     80   \n",
              "202 1294       Dwight    Wells      MATH 302  Mathematics 82   \n",
              "203 1312       Elmer     Montgomery MATH 302  Mathematics 81   \n",
              "204 1312       Elmer     Montgomery PHY 311   Physics     84   "
            ]
          },
          "metadata": {}
        }
      ]
    },
    {
      "cell_type": "markdown",
      "source": [
        "**We have learnt several functions**\n",
        "\n",
        "* select() filter() group_by() summarize() mutate() inner_join()\n",
        "\n",
        "* unite() separate() pivot_longer() pivot_wider()"
      ],
      "metadata": {
        "id": "4R7WPiAcy83l"
      }
    },
    {
      "cell_type": "markdown",
      "source": [
        "### **Quiz**\n",
        "\n",
        "![image.png](data:image/png;base64,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)"
      ],
      "metadata": {
        "id": "KiLExB7Sz25r"
      }
    },
    {
      "cell_type": "code",
      "source": [
        "# Reading the first table\n",
        "# Reading excel file from github\n",
        "library(readxl)\n",
        "library(httr)\n",
        "\n",
        "# Correct raw url (binary files must use /raw/ not /blob/ or /refs/heads/)\n",
        "url_xlsx <- \"https://github.com/harishmuh/R_tutorial/raw/main/datasets/student%20grades.xlsx\"\n",
        "\n",
        "# Download the file temporarily using httr::GET to ensure proper handling of binary files\n",
        "temp_file <- tempfile(fileext = \".xlsx\")\n",
        "GET(url_xlsx, write_disk(temp_file, overwrite = TRUE))\n",
        "\n",
        "# Read Excel - first table \"student\" sheet\n",
        "students <- read_excel(temp_file, sheet = \"students\")\n",
        "\n",
        "# Check first rows\n",
        "head(students)"
      ],
      "metadata": {
        "colab": {
          "base_uri": "https://localhost:8080/",
          "height": 434
        },
        "id": "fJ6Ub_lYz-b0",
        "outputId": "0ccc20ee-dc8f-4871-dcbd-e34a03f764a5"
      },
      "execution_count": 55,
      "outputs": [
        {
          "output_type": "display_data",
          "data": {
            "text/plain": [
              "Response [https://raw.githubusercontent.com/harishmuh/R_tutorial/main/datasets/student%20grades.xlsx]\n",
              "  Date: 2025-09-16 04:37\n",
              "  Status: 200\n",
              "  Content-Type: application/octet-stream\n",
              "  Size: 21 kB\n",
              "<ON DISK>  /tmp/RtmpGUMlT6/filefa6e3eb83d.xlsxNULL"
            ]
          },
          "metadata": {}
        },
        {
          "output_type": "display_data",
          "data": {
            "text/html": [
              "<table class=\"dataframe\">\n",
              "<caption>A tibble: 6 × 3</caption>\n",
              "<thead>\n",
              "\t<tr><th scope=col>student_id</th><th scope=col>last_name</th><th scope=col>first_name</th></tr>\n",
              "\t<tr><th scope=col>&lt;dbl&gt;</th><th scope=col>&lt;chr&gt;</th><th scope=col>&lt;chr&gt;</th></tr>\n",
              "</thead>\n",
              "<tbody>\n",
              "\t<tr><td>27</td><td>Marian </td><td>Ryan   </td></tr>\n",
              "\t<tr><td>28</td><td>Sandra </td><td>Moss   </td></tr>\n",
              "\t<tr><td>33</td><td>Rodney </td><td>Howell </td></tr>\n",
              "\t<tr><td>34</td><td>Sheldon</td><td>Black  </td></tr>\n",
              "\t<tr><td>40</td><td>Amos   </td><td>Clarke </td></tr>\n",
              "\t<tr><td>46</td><td>Daisy  </td><td>Osborne</td></tr>\n",
              "</tbody>\n",
              "</table>\n"
            ],
            "text/markdown": "\nA tibble: 6 × 3\n\n| student_id &lt;dbl&gt; | last_name &lt;chr&gt; | first_name &lt;chr&gt; |\n|---|---|---|\n| 27 | Marian  | Ryan    |\n| 28 | Sandra  | Moss    |\n| 33 | Rodney  | Howell  |\n| 34 | Sheldon | Black   |\n| 40 | Amos    | Clarke  |\n| 46 | Daisy   | Osborne |\n\n",
            "text/latex": "A tibble: 6 × 3\n\\begin{tabular}{lll}\n student\\_id & last\\_name & first\\_name\\\\\n <dbl> & <chr> & <chr>\\\\\n\\hline\n\t 27 & Marian  & Ryan   \\\\\n\t 28 & Sandra  & Moss   \\\\\n\t 33 & Rodney  & Howell \\\\\n\t 34 & Sheldon & Black  \\\\\n\t 40 & Amos    & Clarke \\\\\n\t 46 & Daisy   & Osborne\\\\\n\\end{tabular}\n",
            "text/plain": [
              "  student_id last_name first_name\n",
              "1 27         Marian    Ryan      \n",
              "2 28         Sandra    Moss      \n",
              "3 33         Rodney    Howell    \n",
              "4 34         Sheldon   Black     \n",
              "5 40         Amos      Clarke    \n",
              "6 46         Daisy     Osborne   "
            ]
          },
          "metadata": {}
        }
      ]
    },
    {
      "cell_type": "code",
      "source": [
        "# Reading the second table\n",
        "# Read Excel - second table: \"grades\" sheet\n",
        "grades <- read_excel(temp_file, sheet = \"grades\")\n",
        "\n",
        "# Check first rows\n",
        "head(grades)"
      ],
      "metadata": {
        "colab": {
          "base_uri": "https://localhost:8080/",
          "height": 286
        },
        "id": "G1TzZOHh0VRY",
        "outputId": "39f3ec06-6afb-4090-af9c-2ee85eeb829e"
      },
      "execution_count": 56,
      "outputs": [
        {
          "output_type": "display_data",
          "data": {
            "text/html": [
              "<table class=\"dataframe\">\n",
              "<caption>A tibble: 6 × 4</caption>\n",
              "<thead>\n",
              "\t<tr><th scope=col>student_id</th><th scope=col>course_id</th><th scope=col>course_name</th><th scope=col>grade</th></tr>\n",
              "\t<tr><th scope=col>&lt;dbl&gt;</th><th scope=col>&lt;chr&gt;</th><th scope=col>&lt;chr&gt;</th><th scope=col>&lt;dbl&gt;</th></tr>\n",
              "</thead>\n",
              "<tbody>\n",
              "\t<tr><td>27</td><td>MATH 302</td><td>Mathematics</td><td>74</td></tr>\n",
              "\t<tr><td>27</td><td>PHY 311 </td><td>Physics    </td><td>75</td></tr>\n",
              "\t<tr><td>28</td><td>MATH 302</td><td>Mathematics</td><td>77</td></tr>\n",
              "\t<tr><td>28</td><td>PHY 311 </td><td>Physics    </td><td>81</td></tr>\n",
              "\t<tr><td>33</td><td>MATH 302</td><td>Mathematics</td><td>99</td></tr>\n",
              "\t<tr><td>33</td><td>PHY 311 </td><td>Physics    </td><td>99</td></tr>\n",
              "</tbody>\n",
              "</table>\n"
            ],
            "text/markdown": "\nA tibble: 6 × 4\n\n| student_id &lt;dbl&gt; | course_id &lt;chr&gt; | course_name &lt;chr&gt; | grade &lt;dbl&gt; |\n|---|---|---|---|\n| 27 | MATH 302 | Mathematics | 74 |\n| 27 | PHY 311  | Physics     | 75 |\n| 28 | MATH 302 | Mathematics | 77 |\n| 28 | PHY 311  | Physics     | 81 |\n| 33 | MATH 302 | Mathematics | 99 |\n| 33 | PHY 311  | Physics     | 99 |\n\n",
            "text/latex": "A tibble: 6 × 4\n\\begin{tabular}{llll}\n student\\_id & course\\_id & course\\_name & grade\\\\\n <dbl> & <chr> & <chr> & <dbl>\\\\\n\\hline\n\t 27 & MATH 302 & Mathematics & 74\\\\\n\t 27 & PHY 311  & Physics     & 75\\\\\n\t 28 & MATH 302 & Mathematics & 77\\\\\n\t 28 & PHY 311  & Physics     & 81\\\\\n\t 33 & MATH 302 & Mathematics & 99\\\\\n\t 33 & PHY 311  & Physics     & 99\\\\\n\\end{tabular}\n",
            "text/plain": [
              "  student_id course_id course_name grade\n",
              "1 27         MATH 302  Mathematics 74   \n",
              "2 27         PHY 311   Physics     75   \n",
              "3 28         MATH 302  Mathematics 77   \n",
              "4 28         PHY 311   Physics     81   \n",
              "5 33         MATH 302  Mathematics 99   \n",
              "6 33         PHY 311   Physics     99   "
            ]
          },
          "metadata": {}
        }
      ]
    },
    {
      "cell_type": "code",
      "source": [
        "# Join 2 dataframe by student id\n",
        "students %>% inner_join(grades, by = \"student_id\")"
      ],
      "metadata": {
        "colab": {
          "base_uri": "https://localhost:8080/",
          "height": 1000
        },
        "id": "uDizZUlD0gPf",
        "outputId": "86de8d61-b51b-4a7d-b89e-5ca17c3e2e78"
      },
      "execution_count": 57,
      "outputs": [
        {
          "output_type": "display_data",
          "data": {
            "text/html": [
              "<table class=\"dataframe\">\n",
              "<caption>A tibble: 204 × 6</caption>\n",
              "<thead>\n",
              "\t<tr><th scope=col>student_id</th><th scope=col>last_name</th><th scope=col>first_name</th><th scope=col>course_id</th><th scope=col>course_name</th><th scope=col>grade</th></tr>\n",
              "\t<tr><th scope=col>&lt;dbl&gt;</th><th scope=col>&lt;chr&gt;</th><th scope=col>&lt;chr&gt;</th><th scope=col>&lt;chr&gt;</th><th scope=col>&lt;chr&gt;</th><th scope=col>&lt;dbl&gt;</th></tr>\n",
              "</thead>\n",
              "<tbody>\n",
              "\t<tr><td>27</td><td>Marian   </td><td>Ryan     </td><td>MATH 302</td><td>Mathematics</td><td>74</td></tr>\n",
              "\t<tr><td>27</td><td>Marian   </td><td>Ryan     </td><td>PHY 311 </td><td>Physics    </td><td>75</td></tr>\n",
              "\t<tr><td>28</td><td>Sandra   </td><td>Moss     </td><td>MATH 302</td><td>Mathematics</td><td>77</td></tr>\n",
              "\t<tr><td>28</td><td>Sandra   </td><td>Moss     </td><td>PHY 311 </td><td>Physics    </td><td>81</td></tr>\n",
              "\t<tr><td>33</td><td>Rodney   </td><td>Howell   </td><td>MATH 302</td><td>Mathematics</td><td>99</td></tr>\n",
              "\t<tr><td>33</td><td>Rodney   </td><td>Howell   </td><td>PHY 311 </td><td>Physics    </td><td>99</td></tr>\n",
              "\t<tr><td>34</td><td>Sheldon  </td><td>Black    </td><td>PHY 311 </td><td>Physics    </td><td>70</td></tr>\n",
              "\t<tr><td>34</td><td>Sheldon  </td><td>Black    </td><td>MATH 302</td><td>Mathematics</td><td>77</td></tr>\n",
              "\t<tr><td>40</td><td>Amos     </td><td>Clarke   </td><td>MATH 302</td><td>Mathematics</td><td>66</td></tr>\n",
              "\t<tr><td>40</td><td>Amos     </td><td>Clarke   </td><td>PHY 311 </td><td>Physics    </td><td>66</td></tr>\n",
              "\t<tr><td>40</td><td>Amos     </td><td>Clarke   </td><td>PHY 311 </td><td>Physics    </td><td>80</td></tr>\n",
              "\t<tr><td>40</td><td>Amos     </td><td>Clarke   </td><td>MATH 302</td><td>Mathematics</td><td>81</td></tr>\n",
              "\t<tr><td>46</td><td>Daisy    </td><td>Osborne  </td><td>MATH 302</td><td>Mathematics</td><td>75</td></tr>\n",
              "\t<tr><td>46</td><td>Daisy    </td><td>Osborne  </td><td>PHY 311 </td><td>Physics    </td><td>77</td></tr>\n",
              "\t<tr><td>61</td><td>Jaime    </td><td>Woods    </td><td>MATH 302</td><td>Mathematics</td><td>78</td></tr>\n",
              "\t<tr><td>61</td><td>Jaime    </td><td>Woods    </td><td>PHY 311 </td><td>Physics    </td><td>83</td></tr>\n",
              "\t<tr><td>64</td><td>Sonja    </td><td>Wise     </td><td>MATH 302</td><td>Mathematics</td><td>81</td></tr>\n",
              "\t<tr><td>64</td><td>Sonja    </td><td>Wise     </td><td>PHY 311 </td><td>Physics    </td><td>85</td></tr>\n",
              "\t<tr><td>67</td><td>Brandi   </td><td>Hernandez</td><td>PHY 311 </td><td>Physics    </td><td>87</td></tr>\n",
              "\t<tr><td>67</td><td>Brandi   </td><td>Hernandez</td><td>MATH 302</td><td>Mathematics</td><td>89</td></tr>\n",
              "\t<tr><td>75</td><td>Sammy    </td><td>Newman   </td><td>PHY 311 </td><td>Physics    </td><td>81</td></tr>\n",
              "\t<tr><td>75</td><td>Sammy    </td><td>Newman   </td><td>MATH 302</td><td>Mathematics</td><td>84</td></tr>\n",
              "\t<tr><td>79</td><td>Katrina  </td><td>Gutierrez</td><td>MATH 302</td><td>Mathematics</td><td>77</td></tr>\n",
              "\t<tr><td>79</td><td>Katrina  </td><td>Gutierrez</td><td>PHY 311 </td><td>Physics    </td><td>78</td></tr>\n",
              "\t<tr><td>83</td><td>Cornelius</td><td>Carroll  </td><td>PHY 311 </td><td>Physics    </td><td>77</td></tr>\n",
              "\t<tr><td>83</td><td>Cornelius</td><td>Carroll  </td><td>MATH 302</td><td>Mathematics</td><td>79</td></tr>\n",
              "\t<tr><td>94</td><td>Brandy   </td><td>Hunt     </td><td>MATH 302</td><td>Mathematics</td><td>81</td></tr>\n",
              "\t<tr><td>94</td><td>Brandy   </td><td>Hunt     </td><td>PHY 311 </td><td>Physics    </td><td>85</td></tr>\n",
              "\t<tr><td>96</td><td>Lance    </td><td>Ross     </td><td>MATH 302</td><td>Mathematics</td><td>92</td></tr>\n",
              "\t<tr><td>96</td><td>Lance    </td><td>Ross     </td><td>PHY 311 </td><td>Physics    </td><td>92</td></tr>\n",
              "\t<tr><td>⋮</td><td>⋮</td><td>⋮</td><td>⋮</td><td>⋮</td><td>⋮</td></tr>\n",
              "\t<tr><td>1047</td><td>Lydia  </td><td>Norris    </td><td>PHY 311 </td><td>Physics    </td><td>86</td></tr>\n",
              "\t<tr><td>1047</td><td>Lydia  </td><td>Norris    </td><td>MATH 302</td><td>Mathematics</td><td>90</td></tr>\n",
              "\t<tr><td>1073</td><td>Kyle   </td><td>Mclaughlin</td><td>MATH 302</td><td>Mathematics</td><td>86</td></tr>\n",
              "\t<tr><td>1073</td><td>Kyle   </td><td>Mclaughlin</td><td>PHY 311 </td><td>Physics    </td><td>96</td></tr>\n",
              "\t<tr><td>1091</td><td>Wanda  </td><td>Flores    </td><td>MATH 302</td><td>Mathematics</td><td>77</td></tr>\n",
              "\t<tr><td>1091</td><td>Wanda  </td><td>Flores    </td><td>PHY 311 </td><td>Physics    </td><td>80</td></tr>\n",
              "\t<tr><td>1120</td><td>Myra   </td><td>Reeves    </td><td>MATH 302</td><td>Mathematics</td><td>65</td></tr>\n",
              "\t<tr><td>1120</td><td>Myra   </td><td>Reeves    </td><td>PHY 311 </td><td>Physics    </td><td>71</td></tr>\n",
              "\t<tr><td>1120</td><td>Myra   </td><td>Reeves    </td><td>MATH 302</td><td>Mathematics</td><td>NA</td></tr>\n",
              "\t<tr><td>1120</td><td>Myra   </td><td>Reeves    </td><td>PHY 311 </td><td>Physics    </td><td>NA</td></tr>\n",
              "\t<tr><td>1131</td><td>Joey   </td><td>Douglas   </td><td>MATH 302</td><td>Mathematics</td><td>81</td></tr>\n",
              "\t<tr><td>1131</td><td>Joey   </td><td>Douglas   </td><td>PHY 311 </td><td>Physics    </td><td>84</td></tr>\n",
              "\t<tr><td>1136</td><td>Sandy  </td><td>Pittman   </td><td>MATH 302</td><td>Mathematics</td><td>80</td></tr>\n",
              "\t<tr><td>1136</td><td>Sandy  </td><td>Pittman   </td><td>PHY 311 </td><td>Physics    </td><td>81</td></tr>\n",
              "\t<tr><td>1180</td><td>Lela   </td><td>Rodriquez </td><td>PHY 311 </td><td>Physics    </td><td>84</td></tr>\n",
              "\t<tr><td>1180</td><td>Lela   </td><td>Rodriquez </td><td>MATH 302</td><td>Mathematics</td><td>87</td></tr>\n",
              "\t<tr><td>1204</td><td>Bryant </td><td>Townsend  </td><td>PHY 311 </td><td>Physics    </td><td>82</td></tr>\n",
              "\t<tr><td>1204</td><td>Bryant </td><td>Townsend  </td><td>MATH 302</td><td>Mathematics</td><td>85</td></tr>\n",
              "\t<tr><td>1217</td><td>Tim    </td><td>King      </td><td>PHY 311 </td><td>Physics    </td><td>79</td></tr>\n",
              "\t<tr><td>1217</td><td>Tim    </td><td>King      </td><td>MATH 302</td><td>Mathematics</td><td>80</td></tr>\n",
              "\t<tr><td>1242</td><td>Lora   </td><td>Soto      </td><td>PHY 311 </td><td>Physics    </td><td>84</td></tr>\n",
              "\t<tr><td>1242</td><td>Lora   </td><td>Soto      </td><td>MATH 302</td><td>Mathematics</td><td>85</td></tr>\n",
              "\t<tr><td>1273</td><td>Lorenzo</td><td>Martinez  </td><td>MATH 302</td><td>Mathematics</td><td>95</td></tr>\n",
              "\t<tr><td>1273</td><td>Lorenzo</td><td>Martinez  </td><td>PHY 311 </td><td>Physics    </td><td>97</td></tr>\n",
              "\t<tr><td>1293</td><td>Steve  </td><td>Klein     </td><td>MATH 302</td><td>Mathematics</td><td>86</td></tr>\n",
              "\t<tr><td>1293</td><td>Steve  </td><td>Klein     </td><td>PHY 311 </td><td>Physics    </td><td>94</td></tr>\n",
              "\t<tr><td>1294</td><td>Dwight </td><td>Wells     </td><td>PHY 311 </td><td>Physics    </td><td>80</td></tr>\n",
              "\t<tr><td>1294</td><td>Dwight </td><td>Wells     </td><td>MATH 302</td><td>Mathematics</td><td>82</td></tr>\n",
              "\t<tr><td>1312</td><td>Elmer  </td><td>Montgomery</td><td>MATH 302</td><td>Mathematics</td><td>81</td></tr>\n",
              "\t<tr><td>1312</td><td>Elmer  </td><td>Montgomery</td><td>PHY 311 </td><td>Physics    </td><td>84</td></tr>\n",
              "</tbody>\n",
              "</table>\n"
            ],
            "text/markdown": "\nA tibble: 204 × 6\n\n| student_id &lt;dbl&gt; | last_name &lt;chr&gt; | first_name &lt;chr&gt; | course_id &lt;chr&gt; | course_name &lt;chr&gt; | grade &lt;dbl&gt; |\n|---|---|---|---|---|---|\n| 27 | Marian    | Ryan      | MATH 302 | Mathematics | 74 |\n| 27 | Marian    | Ryan      | PHY 311  | Physics     | 75 |\n| 28 | Sandra    | Moss      | MATH 302 | Mathematics | 77 |\n| 28 | Sandra    | Moss      | PHY 311  | Physics     | 81 |\n| 33 | Rodney    | Howell    | MATH 302 | Mathematics | 99 |\n| 33 | Rodney    | Howell    | PHY 311  | Physics     | 99 |\n| 34 | Sheldon   | Black     | PHY 311  | Physics     | 70 |\n| 34 | Sheldon   | Black     | MATH 302 | Mathematics | 77 |\n| 40 | Amos      | Clarke    | MATH 302 | Mathematics | 66 |\n| 40 | Amos      | Clarke    | PHY 311  | Physics     | 66 |\n| 40 | Amos      | Clarke    | PHY 311  | Physics     | 80 |\n| 40 | Amos      | Clarke    | MATH 302 | Mathematics | 81 |\n| 46 | Daisy     | Osborne   | MATH 302 | Mathematics | 75 |\n| 46 | Daisy     | Osborne   | PHY 311  | Physics     | 77 |\n| 61 | Jaime     | Woods     | MATH 302 | Mathematics | 78 |\n| 61 | Jaime     | Woods     | PHY 311  | Physics     | 83 |\n| 64 | Sonja     | Wise      | MATH 302 | Mathematics | 81 |\n| 64 | Sonja     | Wise      | PHY 311  | Physics     | 85 |\n| 67 | Brandi    | Hernandez | PHY 311  | Physics     | 87 |\n| 67 | Brandi    | Hernandez | MATH 302 | Mathematics | 89 |\n| 75 | Sammy     | Newman    | PHY 311  | Physics     | 81 |\n| 75 | Sammy     | Newman    | MATH 302 | Mathematics | 84 |\n| 79 | Katrina   | Gutierrez | MATH 302 | Mathematics | 77 |\n| 79 | Katrina   | Gutierrez | PHY 311  | Physics     | 78 |\n| 83 | Cornelius | Carroll   | PHY 311  | Physics     | 77 |\n| 83 | Cornelius | Carroll   | MATH 302 | Mathematics | 79 |\n| 94 | Brandy    | Hunt      | MATH 302 | Mathematics | 81 |\n| 94 | Brandy    | Hunt      | PHY 311  | Physics     | 85 |\n| 96 | Lance     | Ross      | MATH 302 | Mathematics | 92 |\n| 96 | Lance     | Ross      | PHY 311  | Physics     | 92 |\n| ⋮ | ⋮ | ⋮ | ⋮ | ⋮ | ⋮ |\n| 1047 | Lydia   | Norris     | PHY 311  | Physics     | 86 |\n| 1047 | Lydia   | Norris     | MATH 302 | Mathematics | 90 |\n| 1073 | Kyle    | Mclaughlin | MATH 302 | Mathematics | 86 |\n| 1073 | Kyle    | Mclaughlin | PHY 311  | Physics     | 96 |\n| 1091 | Wanda   | Flores     | MATH 302 | Mathematics | 77 |\n| 1091 | Wanda   | Flores     | PHY 311  | Physics     | 80 |\n| 1120 | Myra    | Reeves     | MATH 302 | Mathematics | 65 |\n| 1120 | Myra    | Reeves     | PHY 311  | Physics     | 71 |\n| 1120 | Myra    | Reeves     | MATH 302 | Mathematics | NA |\n| 1120 | Myra    | Reeves     | PHY 311  | Physics     | NA |\n| 1131 | Joey    | Douglas    | MATH 302 | Mathematics | 81 |\n| 1131 | Joey    | Douglas    | PHY 311  | Physics     | 84 |\n| 1136 | Sandy   | Pittman    | MATH 302 | Mathematics | 80 |\n| 1136 | Sandy   | Pittman    | PHY 311  | Physics     | 81 |\n| 1180 | Lela    | Rodriquez  | PHY 311  | Physics     | 84 |\n| 1180 | Lela    | Rodriquez  | MATH 302 | Mathematics | 87 |\n| 1204 | Bryant  | Townsend   | PHY 311  | Physics     | 82 |\n| 1204 | Bryant  | Townsend   | MATH 302 | Mathematics | 85 |\n| 1217 | Tim     | King       | PHY 311  | Physics     | 79 |\n| 1217 | Tim     | King       | MATH 302 | Mathematics | 80 |\n| 1242 | Lora    | Soto       | PHY 311  | Physics     | 84 |\n| 1242 | Lora    | Soto       | MATH 302 | Mathematics | 85 |\n| 1273 | Lorenzo | Martinez   | MATH 302 | Mathematics | 95 |\n| 1273 | Lorenzo | Martinez   | PHY 311  | Physics     | 97 |\n| 1293 | Steve   | Klein      | MATH 302 | Mathematics | 86 |\n| 1293 | Steve   | Klein      | PHY 311  | Physics     | 94 |\n| 1294 | Dwight  | Wells      | PHY 311  | Physics     | 80 |\n| 1294 | Dwight  | Wells      | MATH 302 | Mathematics | 82 |\n| 1312 | Elmer   | Montgomery | MATH 302 | Mathematics | 81 |\n| 1312 | Elmer   | Montgomery | PHY 311  | Physics     | 84 |\n\n",
            "text/latex": "A tibble: 204 × 6\n\\begin{tabular}{llllll}\n student\\_id & last\\_name & first\\_name & course\\_id & course\\_name & grade\\\\\n <dbl> & <chr> & <chr> & <chr> & <chr> & <dbl>\\\\\n\\hline\n\t 27 & Marian    & Ryan      & MATH 302 & Mathematics & 74\\\\\n\t 27 & Marian    & Ryan      & PHY 311  & Physics     & 75\\\\\n\t 28 & Sandra    & Moss      & MATH 302 & Mathematics & 77\\\\\n\t 28 & Sandra    & Moss      & PHY 311  & Physics     & 81\\\\\n\t 33 & Rodney    & Howell    & MATH 302 & Mathematics & 99\\\\\n\t 33 & Rodney    & Howell    & PHY 311  & Physics     & 99\\\\\n\t 34 & Sheldon   & Black     & PHY 311  & Physics     & 70\\\\\n\t 34 & Sheldon   & Black     & MATH 302 & Mathematics & 77\\\\\n\t 40 & Amos      & Clarke    & MATH 302 & Mathematics & 66\\\\\n\t 40 & Amos      & Clarke    & PHY 311  & Physics     & 66\\\\\n\t 40 & Amos      & Clarke    & PHY 311  & Physics     & 80\\\\\n\t 40 & Amos      & Clarke    & MATH 302 & Mathematics & 81\\\\\n\t 46 & Daisy     & Osborne   & MATH 302 & Mathematics & 75\\\\\n\t 46 & Daisy     & Osborne   & PHY 311  & Physics     & 77\\\\\n\t 61 & Jaime     & Woods     & MATH 302 & Mathematics & 78\\\\\n\t 61 & Jaime     & Woods     & PHY 311  & Physics     & 83\\\\\n\t 64 & Sonja     & Wise      & MATH 302 & Mathematics & 81\\\\\n\t 64 & Sonja     & Wise      & PHY 311  & Physics     & 85\\\\\n\t 67 & Brandi    & Hernandez & PHY 311  & Physics     & 87\\\\\n\t 67 & Brandi    & Hernandez & MATH 302 & Mathematics & 89\\\\\n\t 75 & Sammy     & Newman    & PHY 311  & Physics     & 81\\\\\n\t 75 & Sammy     & Newman    & MATH 302 & Mathematics & 84\\\\\n\t 79 & Katrina   & Gutierrez & MATH 302 & Mathematics & 77\\\\\n\t 79 & Katrina   & Gutierrez & PHY 311  & Physics     & 78\\\\\n\t 83 & Cornelius & Carroll   & PHY 311  & Physics     & 77\\\\\n\t 83 & Cornelius & Carroll   & MATH 302 & Mathematics & 79\\\\\n\t 94 & Brandy    & Hunt      & MATH 302 & Mathematics & 81\\\\\n\t 94 & Brandy    & Hunt      & PHY 311  & Physics     & 85\\\\\n\t 96 & Lance     & Ross      & MATH 302 & Mathematics & 92\\\\\n\t 96 & Lance     & Ross      & PHY 311  & Physics     & 92\\\\\n\t ⋮ & ⋮ & ⋮ & ⋮ & ⋮ & ⋮\\\\\n\t 1047 & Lydia   & Norris     & PHY 311  & Physics     & 86\\\\\n\t 1047 & Lydia   & Norris     & MATH 302 & Mathematics & 90\\\\\n\t 1073 & Kyle    & Mclaughlin & MATH 302 & Mathematics & 86\\\\\n\t 1073 & Kyle    & Mclaughlin & PHY 311  & Physics     & 96\\\\\n\t 1091 & Wanda   & Flores     & MATH 302 & Mathematics & 77\\\\\n\t 1091 & Wanda   & Flores     & PHY 311  & Physics     & 80\\\\\n\t 1120 & Myra    & Reeves     & MATH 302 & Mathematics & 65\\\\\n\t 1120 & Myra    & Reeves     & PHY 311  & Physics     & 71\\\\\n\t 1120 & Myra    & Reeves     & MATH 302 & Mathematics & NA\\\\\n\t 1120 & Myra    & Reeves     & PHY 311  & Physics     & NA\\\\\n\t 1131 & Joey    & Douglas    & MATH 302 & Mathematics & 81\\\\\n\t 1131 & Joey    & Douglas    & PHY 311  & Physics     & 84\\\\\n\t 1136 & Sandy   & Pittman    & MATH 302 & Mathematics & 80\\\\\n\t 1136 & Sandy   & Pittman    & PHY 311  & Physics     & 81\\\\\n\t 1180 & Lela    & Rodriquez  & PHY 311  & Physics     & 84\\\\\n\t 1180 & Lela    & Rodriquez  & MATH 302 & Mathematics & 87\\\\\n\t 1204 & Bryant  & Townsend   & PHY 311  & Physics     & 82\\\\\n\t 1204 & Bryant  & Townsend   & MATH 302 & Mathematics & 85\\\\\n\t 1217 & Tim     & King       & PHY 311  & Physics     & 79\\\\\n\t 1217 & Tim     & King       & MATH 302 & Mathematics & 80\\\\\n\t 1242 & Lora    & Soto       & PHY 311  & Physics     & 84\\\\\n\t 1242 & Lora    & Soto       & MATH 302 & Mathematics & 85\\\\\n\t 1273 & Lorenzo & Martinez   & MATH 302 & Mathematics & 95\\\\\n\t 1273 & Lorenzo & Martinez   & PHY 311  & Physics     & 97\\\\\n\t 1293 & Steve   & Klein      & MATH 302 & Mathematics & 86\\\\\n\t 1293 & Steve   & Klein      & PHY 311  & Physics     & 94\\\\\n\t 1294 & Dwight  & Wells      & PHY 311  & Physics     & 80\\\\\n\t 1294 & Dwight  & Wells      & MATH 302 & Mathematics & 82\\\\\n\t 1312 & Elmer   & Montgomery & MATH 302 & Mathematics & 81\\\\\n\t 1312 & Elmer   & Montgomery & PHY 311  & Physics     & 84\\\\\n\\end{tabular}\n",
            "text/plain": [
              "    student_id last_name first_name course_id course_name grade\n",
              "1   27         Marian    Ryan       MATH 302  Mathematics 74   \n",
              "2   27         Marian    Ryan       PHY 311   Physics     75   \n",
              "3   28         Sandra    Moss       MATH 302  Mathematics 77   \n",
              "4   28         Sandra    Moss       PHY 311   Physics     81   \n",
              "5   33         Rodney    Howell     MATH 302  Mathematics 99   \n",
              "6   33         Rodney    Howell     PHY 311   Physics     99   \n",
              "7   34         Sheldon   Black      PHY 311   Physics     70   \n",
              "8   34         Sheldon   Black      MATH 302  Mathematics 77   \n",
              "9   40         Amos      Clarke     MATH 302  Mathematics 66   \n",
              "10  40         Amos      Clarke     PHY 311   Physics     66   \n",
              "11  40         Amos      Clarke     PHY 311   Physics     80   \n",
              "12  40         Amos      Clarke     MATH 302  Mathematics 81   \n",
              "13  46         Daisy     Osborne    MATH 302  Mathematics 75   \n",
              "14  46         Daisy     Osborne    PHY 311   Physics     77   \n",
              "15  61         Jaime     Woods      MATH 302  Mathematics 78   \n",
              "16  61         Jaime     Woods      PHY 311   Physics     83   \n",
              "17  64         Sonja     Wise       MATH 302  Mathematics 81   \n",
              "18  64         Sonja     Wise       PHY 311   Physics     85   \n",
              "19  67         Brandi    Hernandez  PHY 311   Physics     87   \n",
              "20  67         Brandi    Hernandez  MATH 302  Mathematics 89   \n",
              "21  75         Sammy     Newman     PHY 311   Physics     81   \n",
              "22  75         Sammy     Newman     MATH 302  Mathematics 84   \n",
              "23  79         Katrina   Gutierrez  MATH 302  Mathematics 77   \n",
              "24  79         Katrina   Gutierrez  PHY 311   Physics     78   \n",
              "25  83         Cornelius Carroll    PHY 311   Physics     77   \n",
              "26  83         Cornelius Carroll    MATH 302  Mathematics 79   \n",
              "27  94         Brandy    Hunt       MATH 302  Mathematics 81   \n",
              "28  94         Brandy    Hunt       PHY 311   Physics     85   \n",
              "29  96         Lance     Ross       MATH 302  Mathematics 92   \n",
              "30  96         Lance     Ross       PHY 311   Physics     92   \n",
              "⋮   ⋮          ⋮         ⋮          ⋮         ⋮           ⋮    \n",
              "175 1047       Lydia     Norris     PHY 311   Physics     86   \n",
              "176 1047       Lydia     Norris     MATH 302  Mathematics 90   \n",
              "177 1073       Kyle      Mclaughlin MATH 302  Mathematics 86   \n",
              "178 1073       Kyle      Mclaughlin PHY 311   Physics     96   \n",
              "179 1091       Wanda     Flores     MATH 302  Mathematics 77   \n",
              "180 1091       Wanda     Flores     PHY 311   Physics     80   \n",
              "181 1120       Myra      Reeves     MATH 302  Mathematics 65   \n",
              "182 1120       Myra      Reeves     PHY 311   Physics     71   \n",
              "183 1120       Myra      Reeves     MATH 302  Mathematics NA   \n",
              "184 1120       Myra      Reeves     PHY 311   Physics     NA   \n",
              "185 1131       Joey      Douglas    MATH 302  Mathematics 81   \n",
              "186 1131       Joey      Douglas    PHY 311   Physics     84   \n",
              "187 1136       Sandy     Pittman    MATH 302  Mathematics 80   \n",
              "188 1136       Sandy     Pittman    PHY 311   Physics     81   \n",
              "189 1180       Lela      Rodriquez  PHY 311   Physics     84   \n",
              "190 1180       Lela      Rodriquez  MATH 302  Mathematics 87   \n",
              "191 1204       Bryant    Townsend   PHY 311   Physics     82   \n",
              "192 1204       Bryant    Townsend   MATH 302  Mathematics 85   \n",
              "193 1217       Tim       King       PHY 311   Physics     79   \n",
              "194 1217       Tim       King       MATH 302  Mathematics 80   \n",
              "195 1242       Lora      Soto       PHY 311   Physics     84   \n",
              "196 1242       Lora      Soto       MATH 302  Mathematics 85   \n",
              "197 1273       Lorenzo   Martinez   MATH 302  Mathematics 95   \n",
              "198 1273       Lorenzo   Martinez   PHY 311   Physics     97   \n",
              "199 1293       Steve     Klein      MATH 302  Mathematics 86   \n",
              "200 1293       Steve     Klein      PHY 311   Physics     94   \n",
              "201 1294       Dwight    Wells      PHY 311   Physics     80   \n",
              "202 1294       Dwight    Wells      MATH 302  Mathematics 82   \n",
              "203 1312       Elmer     Montgomery MATH 302  Mathematics 81   \n",
              "204 1312       Elmer     Montgomery PHY 311   Physics     84   "
            ]
          },
          "metadata": {}
        }
      ]
    },
    {
      "cell_type": "code",
      "source": [
        "# Join by student_id\n",
        "data_joined <- students %>%\n",
        "  inner_join(grades, by = \"student_id\")"
      ],
      "metadata": {
        "id": "tq7RByNN1nLH"
      },
      "execution_count": 58,
      "outputs": []
    },
    {
      "cell_type": "code",
      "source": [
        "head(data_joined)"
      ],
      "metadata": {
        "colab": {
          "base_uri": "https://localhost:8080/",
          "height": 286
        },
        "id": "X6uMpLMA19HV",
        "outputId": "023a3c47-55e5-41b7-c94b-de3b7ea7e138"
      },
      "execution_count": 60,
      "outputs": [
        {
          "output_type": "display_data",
          "data": {
            "text/html": [
              "<table class=\"dataframe\">\n",
              "<caption>A tibble: 6 × 6</caption>\n",
              "<thead>\n",
              "\t<tr><th scope=col>student_id</th><th scope=col>last_name</th><th scope=col>first_name</th><th scope=col>course_id</th><th scope=col>course_name</th><th scope=col>grade</th></tr>\n",
              "\t<tr><th scope=col>&lt;dbl&gt;</th><th scope=col>&lt;chr&gt;</th><th scope=col>&lt;chr&gt;</th><th scope=col>&lt;chr&gt;</th><th scope=col>&lt;chr&gt;</th><th scope=col>&lt;dbl&gt;</th></tr>\n",
              "</thead>\n",
              "<tbody>\n",
              "\t<tr><td>27</td><td>Marian</td><td>Ryan  </td><td>MATH 302</td><td>Mathematics</td><td>74</td></tr>\n",
              "\t<tr><td>27</td><td>Marian</td><td>Ryan  </td><td>PHY 311 </td><td>Physics    </td><td>75</td></tr>\n",
              "\t<tr><td>28</td><td>Sandra</td><td>Moss  </td><td>MATH 302</td><td>Mathematics</td><td>77</td></tr>\n",
              "\t<tr><td>28</td><td>Sandra</td><td>Moss  </td><td>PHY 311 </td><td>Physics    </td><td>81</td></tr>\n",
              "\t<tr><td>33</td><td>Rodney</td><td>Howell</td><td>MATH 302</td><td>Mathematics</td><td>99</td></tr>\n",
              "\t<tr><td>33</td><td>Rodney</td><td>Howell</td><td>PHY 311 </td><td>Physics    </td><td>99</td></tr>\n",
              "</tbody>\n",
              "</table>\n"
            ],
            "text/markdown": "\nA tibble: 6 × 6\n\n| student_id &lt;dbl&gt; | last_name &lt;chr&gt; | first_name &lt;chr&gt; | course_id &lt;chr&gt; | course_name &lt;chr&gt; | grade &lt;dbl&gt; |\n|---|---|---|---|---|---|\n| 27 | Marian | Ryan   | MATH 302 | Mathematics | 74 |\n| 27 | Marian | Ryan   | PHY 311  | Physics     | 75 |\n| 28 | Sandra | Moss   | MATH 302 | Mathematics | 77 |\n| 28 | Sandra | Moss   | PHY 311  | Physics     | 81 |\n| 33 | Rodney | Howell | MATH 302 | Mathematics | 99 |\n| 33 | Rodney | Howell | PHY 311  | Physics     | 99 |\n\n",
            "text/latex": "A tibble: 6 × 6\n\\begin{tabular}{llllll}\n student\\_id & last\\_name & first\\_name & course\\_id & course\\_name & grade\\\\\n <dbl> & <chr> & <chr> & <chr> & <chr> & <dbl>\\\\\n\\hline\n\t 27 & Marian & Ryan   & MATH 302 & Mathematics & 74\\\\\n\t 27 & Marian & Ryan   & PHY 311  & Physics     & 75\\\\\n\t 28 & Sandra & Moss   & MATH 302 & Mathematics & 77\\\\\n\t 28 & Sandra & Moss   & PHY 311  & Physics     & 81\\\\\n\t 33 & Rodney & Howell & MATH 302 & Mathematics & 99\\\\\n\t 33 & Rodney & Howell & PHY 311  & Physics     & 99\\\\\n\\end{tabular}\n",
            "text/plain": [
              "  student_id last_name first_name course_id course_name grade\n",
              "1 27         Marian    Ryan       MATH 302  Mathematics 74   \n",
              "2 27         Marian    Ryan       PHY 311   Physics     75   \n",
              "3 28         Sandra    Moss       MATH 302  Mathematics 77   \n",
              "4 28         Sandra    Moss       PHY 311   Physics     81   \n",
              "5 33         Rodney    Howell     MATH 302  Mathematics 99   \n",
              "6 33         Rodney    Howell     PHY 311   Physics     99   "
            ]
          },
          "metadata": {}
        }
      ]
    },
    {
      "cell_type": "code",
      "source": [
        "# Method 1: finding \"Sammy Newman\" in the joined table\n",
        "library(dplyr)\n",
        "library(stringr)\n",
        "\n",
        "sammy_grades <- data_joined %>%\n",
        "  mutate(\n",
        "    first_name = str_squish(first_name),\n",
        "    last_name  = str_squish(last_name)\n",
        "  ) %>%\n",
        "  filter(\n",
        "    (str_to_lower(first_name) == \"sammy\" & str_to_lower(last_name) == \"newman\") |\n",
        "    (str_to_lower(first_name) == \"newman\" & str_to_lower(last_name) == \"sammy\")\n",
        "  ) %>%\n",
        "  select(student_id, first_name, last_name, course_name, grade)\n",
        "\n",
        "sammy_grades\n"
      ],
      "metadata": {
        "colab": {
          "base_uri": "https://localhost:8080/",
          "height": 161
        },
        "id": "XjnAxN7O5eIq",
        "outputId": "7d23d0ef-ad60-4fc9-aff2-2bdd048948b4"
      },
      "execution_count": 69,
      "outputs": [
        {
          "output_type": "display_data",
          "data": {
            "text/html": [
              "<table class=\"dataframe\">\n",
              "<caption>A tibble: 2 × 5</caption>\n",
              "<thead>\n",
              "\t<tr><th scope=col>student_id</th><th scope=col>first_name</th><th scope=col>last_name</th><th scope=col>course_name</th><th scope=col>grade</th></tr>\n",
              "\t<tr><th scope=col>&lt;dbl&gt;</th><th scope=col>&lt;chr&gt;</th><th scope=col>&lt;chr&gt;</th><th scope=col>&lt;chr&gt;</th><th scope=col>&lt;dbl&gt;</th></tr>\n",
              "</thead>\n",
              "<tbody>\n",
              "\t<tr><td>75</td><td>Newman</td><td>Sammy</td><td>Physics    </td><td>81</td></tr>\n",
              "\t<tr><td>75</td><td>Newman</td><td>Sammy</td><td>Mathematics</td><td>84</td></tr>\n",
              "</tbody>\n",
              "</table>\n"
            ],
            "text/markdown": "\nA tibble: 2 × 5\n\n| student_id &lt;dbl&gt; | first_name &lt;chr&gt; | last_name &lt;chr&gt; | course_name &lt;chr&gt; | grade &lt;dbl&gt; |\n|---|---|---|---|---|\n| 75 | Newman | Sammy | Physics     | 81 |\n| 75 | Newman | Sammy | Mathematics | 84 |\n\n",
            "text/latex": "A tibble: 2 × 5\n\\begin{tabular}{lllll}\n student\\_id & first\\_name & last\\_name & course\\_name & grade\\\\\n <dbl> & <chr> & <chr> & <chr> & <dbl>\\\\\n\\hline\n\t 75 & Newman & Sammy & Physics     & 81\\\\\n\t 75 & Newman & Sammy & Mathematics & 84\\\\\n\\end{tabular}\n",
            "text/plain": [
              "  student_id first_name last_name course_name grade\n",
              "1 75         Newman     Sammy     Physics     81   \n",
              "2 75         Newman     Sammy     Mathematics 84   "
            ]
          },
          "metadata": {}
        }
      ]
    },
    {
      "cell_type": "code",
      "source": [
        "# Method 2: finding \"Sammy Newman\" in the joined table\n",
        "sammy_grades <- data_joined %>%\n",
        "  filter(\n",
        "    if_any(everything(), ~ str_detect(.x, regex(\"sammy\", ignore_case = TRUE))) &\n",
        "    if_any(everything(), ~ str_detect(.x, regex(\"newman\", ignore_case = TRUE)))\n",
        "  )\n",
        "\n",
        "sammy_grades\n"
      ],
      "metadata": {
        "colab": {
          "base_uri": "https://localhost:8080/",
          "height": 161
        },
        "id": "r1AW54gf5kxr",
        "outputId": "6c14c1cc-1297-4cf6-8be9-5cd346e142fc"
      },
      "execution_count": 70,
      "outputs": [
        {
          "output_type": "display_data",
          "data": {
            "text/html": [
              "<table class=\"dataframe\">\n",
              "<caption>A tibble: 2 × 6</caption>\n",
              "<thead>\n",
              "\t<tr><th scope=col>student_id</th><th scope=col>last_name</th><th scope=col>first_name</th><th scope=col>course_id</th><th scope=col>course_name</th><th scope=col>grade</th></tr>\n",
              "\t<tr><th scope=col>&lt;dbl&gt;</th><th scope=col>&lt;chr&gt;</th><th scope=col>&lt;chr&gt;</th><th scope=col>&lt;chr&gt;</th><th scope=col>&lt;chr&gt;</th><th scope=col>&lt;dbl&gt;</th></tr>\n",
              "</thead>\n",
              "<tbody>\n",
              "\t<tr><td>75</td><td>Sammy</td><td>Newman</td><td>PHY 311 </td><td>Physics    </td><td>81</td></tr>\n",
              "\t<tr><td>75</td><td>Sammy</td><td>Newman</td><td>MATH 302</td><td>Mathematics</td><td>84</td></tr>\n",
              "</tbody>\n",
              "</table>\n"
            ],
            "text/markdown": "\nA tibble: 2 × 6\n\n| student_id &lt;dbl&gt; | last_name &lt;chr&gt; | first_name &lt;chr&gt; | course_id &lt;chr&gt; | course_name &lt;chr&gt; | grade &lt;dbl&gt; |\n|---|---|---|---|---|---|\n| 75 | Sammy | Newman | PHY 311  | Physics     | 81 |\n| 75 | Sammy | Newman | MATH 302 | Mathematics | 84 |\n\n",
            "text/latex": "A tibble: 2 × 6\n\\begin{tabular}{llllll}\n student\\_id & last\\_name & first\\_name & course\\_id & course\\_name & grade\\\\\n <dbl> & <chr> & <chr> & <chr> & <chr> & <dbl>\\\\\n\\hline\n\t 75 & Sammy & Newman & PHY 311  & Physics     & 81\\\\\n\t 75 & Sammy & Newman & MATH 302 & Mathematics & 84\\\\\n\\end{tabular}\n",
            "text/plain": [
              "  student_id last_name first_name course_id course_name grade\n",
              "1 75         Sammy     Newman     PHY 311   Physics     81   \n",
              "2 75         Sammy     Newman     MATH 302  Mathematics 84   "
            ]
          },
          "metadata": {}
        }
      ]
    },
    {
      "cell_type": "code",
      "source": [
        "# Method 3: finding \"Sammy Newman\" in the joined table\n",
        "data_joined %>%\n",
        "  filter(\n",
        "    if_any(everything(), ~ str_detect(.x, \"Sammy\")) |\n",
        "    if_any(everything(), ~ str_detect(.x, \"Newman\"))\n",
        "  )"
      ],
      "metadata": {
        "colab": {
          "base_uri": "https://localhost:8080/",
          "height": 161
        },
        "id": "77t9R50Q3LL0",
        "outputId": "b9431769-d16a-48bb-82ae-85c8e6839b96"
      },
      "execution_count": 71,
      "outputs": [
        {
          "output_type": "display_data",
          "data": {
            "text/html": [
              "<table class=\"dataframe\">\n",
              "<caption>A tibble: 2 × 6</caption>\n",
              "<thead>\n",
              "\t<tr><th scope=col>student_id</th><th scope=col>last_name</th><th scope=col>first_name</th><th scope=col>course_id</th><th scope=col>course_name</th><th scope=col>grade</th></tr>\n",
              "\t<tr><th scope=col>&lt;dbl&gt;</th><th scope=col>&lt;chr&gt;</th><th scope=col>&lt;chr&gt;</th><th scope=col>&lt;chr&gt;</th><th scope=col>&lt;chr&gt;</th><th scope=col>&lt;dbl&gt;</th></tr>\n",
              "</thead>\n",
              "<tbody>\n",
              "\t<tr><td>75</td><td>Sammy</td><td>Newman</td><td>PHY 311 </td><td>Physics    </td><td>81</td></tr>\n",
              "\t<tr><td>75</td><td>Sammy</td><td>Newman</td><td>MATH 302</td><td>Mathematics</td><td>84</td></tr>\n",
              "</tbody>\n",
              "</table>\n"
            ],
            "text/markdown": "\nA tibble: 2 × 6\n\n| student_id &lt;dbl&gt; | last_name &lt;chr&gt; | first_name &lt;chr&gt; | course_id &lt;chr&gt; | course_name &lt;chr&gt; | grade &lt;dbl&gt; |\n|---|---|---|---|---|---|\n| 75 | Sammy | Newman | PHY 311  | Physics     | 81 |\n| 75 | Sammy | Newman | MATH 302 | Mathematics | 84 |\n\n",
            "text/latex": "A tibble: 2 × 6\n\\begin{tabular}{llllll}\n student\\_id & last\\_name & first\\_name & course\\_id & course\\_name & grade\\\\\n <dbl> & <chr> & <chr> & <chr> & <chr> & <dbl>\\\\\n\\hline\n\t 75 & Sammy & Newman & PHY 311  & Physics     & 81\\\\\n\t 75 & Sammy & Newman & MATH 302 & Mathematics & 84\\\\\n\\end{tabular}\n",
            "text/plain": [
              "  student_id last_name first_name course_id course_name grade\n",
              "1 75         Sammy     Newman     PHY 311   Physics     81   \n",
              "2 75         Sammy     Newman     MATH 302  Mathematics 84   "
            ]
          },
          "metadata": {}
        }
      ]
    },
    {
      "cell_type": "markdown",
      "source": [
        "## **Capstone project**\n",
        "\n",
        "![image.png](data:image/png;base64,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)"
      ],
      "metadata": {
        "id": "TdMheLYhHt0I"
      }
    },
    {
      "cell_type": "markdown",
      "source": [
        " **A. Importing \"Student grades\"**"
      ],
      "metadata": {
        "id": "Aklt-boeIMl_"
      }
    },
    {
      "cell_type": "code",
      "source": [
        "# Importing the first table: \"students\"\n",
        "# Reading excel file from github\n",
        "library(readxl)\n",
        "library(httr)\n",
        "\n",
        "# Correct raw url (binary files must use /raw/ not /blob/ or /refs/heads/)\n",
        "url_xlsx <- \"https://github.com/harishmuh/R_tutorial/raw/main/datasets/student%20grades.xlsx\"\n",
        "\n",
        "# Download the file temporarily using httr::GET to ensure proper handling of binary files\n",
        "temp_file <- tempfile(fileext = \".xlsx\")\n",
        "GET(url_xlsx, write_disk(temp_file, overwrite = TRUE))\n",
        "\n",
        "# Read Excel - first table \"student\" sheet\n",
        "students <- read_excel(temp_file, sheet = \"students\")\n",
        "\n",
        "# Check first rows\n",
        "head(students)"
      ],
      "metadata": {
        "colab": {
          "base_uri": "https://localhost:8080/",
          "height": 434
        },
        "id": "31qjf0xzHEU8",
        "outputId": "134d1ab3-52bd-402c-ba7f-ffb44e22266f"
      },
      "execution_count": 72,
      "outputs": [
        {
          "output_type": "display_data",
          "data": {
            "text/plain": [
              "Response [https://raw.githubusercontent.com/harishmuh/R_tutorial/main/datasets/student%20grades.xlsx]\n",
              "  Date: 2025-09-16 06:06\n",
              "  Status: 200\n",
              "  Content-Type: application/octet-stream\n",
              "  Size: 21 kB\n",
              "<ON DISK>  /tmp/RtmpGUMlT6/filefaddba65a.xlsxNULL"
            ]
          },
          "metadata": {}
        },
        {
          "output_type": "display_data",
          "data": {
            "text/html": [
              "<table class=\"dataframe\">\n",
              "<caption>A tibble: 6 × 3</caption>\n",
              "<thead>\n",
              "\t<tr><th scope=col>student_id</th><th scope=col>last_name</th><th scope=col>first_name</th></tr>\n",
              "\t<tr><th scope=col>&lt;dbl&gt;</th><th scope=col>&lt;chr&gt;</th><th scope=col>&lt;chr&gt;</th></tr>\n",
              "</thead>\n",
              "<tbody>\n",
              "\t<tr><td>27</td><td>Marian </td><td>Ryan   </td></tr>\n",
              "\t<tr><td>28</td><td>Sandra </td><td>Moss   </td></tr>\n",
              "\t<tr><td>33</td><td>Rodney </td><td>Howell </td></tr>\n",
              "\t<tr><td>34</td><td>Sheldon</td><td>Black  </td></tr>\n",
              "\t<tr><td>40</td><td>Amos   </td><td>Clarke </td></tr>\n",
              "\t<tr><td>46</td><td>Daisy  </td><td>Osborne</td></tr>\n",
              "</tbody>\n",
              "</table>\n"
            ],
            "text/markdown": "\nA tibble: 6 × 3\n\n| student_id &lt;dbl&gt; | last_name &lt;chr&gt; | first_name &lt;chr&gt; |\n|---|---|---|\n| 27 | Marian  | Ryan    |\n| 28 | Sandra  | Moss    |\n| 33 | Rodney  | Howell  |\n| 34 | Sheldon | Black   |\n| 40 | Amos    | Clarke  |\n| 46 | Daisy   | Osborne |\n\n",
            "text/latex": "A tibble: 6 × 3\n\\begin{tabular}{lll}\n student\\_id & last\\_name & first\\_name\\\\\n <dbl> & <chr> & <chr>\\\\\n\\hline\n\t 27 & Marian  & Ryan   \\\\\n\t 28 & Sandra  & Moss   \\\\\n\t 33 & Rodney  & Howell \\\\\n\t 34 & Sheldon & Black  \\\\\n\t 40 & Amos    & Clarke \\\\\n\t 46 & Daisy   & Osborne\\\\\n\\end{tabular}\n",
            "text/plain": [
              "  student_id last_name first_name\n",
              "1 27         Marian    Ryan      \n",
              "2 28         Sandra    Moss      \n",
              "3 33         Rodney    Howell    \n",
              "4 34         Sheldon   Black     \n",
              "5 40         Amos      Clarke    \n",
              "6 46         Daisy     Osborne   "
            ]
          },
          "metadata": {}
        }
      ]
    },
    {
      "cell_type": "code",
      "source": [
        "# Importing the second table : \"grades\"\n",
        "# Read Excel - second table: \"grades\" sheet\n",
        "grades <- read_excel(temp_file, sheet = \"grades\")\n",
        "\n",
        "# Check first rows\n",
        "head(grades)"
      ],
      "metadata": {
        "colab": {
          "base_uri": "https://localhost:8080/",
          "height": 286
        },
        "id": "tPS7-UZxIh4o",
        "outputId": "bdec1c85-5fe0-4b6c-d22c-300ef80d2857"
      },
      "execution_count": 73,
      "outputs": [
        {
          "output_type": "display_data",
          "data": {
            "text/html": [
              "<table class=\"dataframe\">\n",
              "<caption>A tibble: 6 × 4</caption>\n",
              "<thead>\n",
              "\t<tr><th scope=col>student_id</th><th scope=col>course_id</th><th scope=col>course_name</th><th scope=col>grade</th></tr>\n",
              "\t<tr><th scope=col>&lt;dbl&gt;</th><th scope=col>&lt;chr&gt;</th><th scope=col>&lt;chr&gt;</th><th scope=col>&lt;dbl&gt;</th></tr>\n",
              "</thead>\n",
              "<tbody>\n",
              "\t<tr><td>27</td><td>MATH 302</td><td>Mathematics</td><td>74</td></tr>\n",
              "\t<tr><td>27</td><td>PHY 311 </td><td>Physics    </td><td>75</td></tr>\n",
              "\t<tr><td>28</td><td>MATH 302</td><td>Mathematics</td><td>77</td></tr>\n",
              "\t<tr><td>28</td><td>PHY 311 </td><td>Physics    </td><td>81</td></tr>\n",
              "\t<tr><td>33</td><td>MATH 302</td><td>Mathematics</td><td>99</td></tr>\n",
              "\t<tr><td>33</td><td>PHY 311 </td><td>Physics    </td><td>99</td></tr>\n",
              "</tbody>\n",
              "</table>\n"
            ],
            "text/markdown": "\nA tibble: 6 × 4\n\n| student_id &lt;dbl&gt; | course_id &lt;chr&gt; | course_name &lt;chr&gt; | grade &lt;dbl&gt; |\n|---|---|---|---|\n| 27 | MATH 302 | Mathematics | 74 |\n| 27 | PHY 311  | Physics     | 75 |\n| 28 | MATH 302 | Mathematics | 77 |\n| 28 | PHY 311  | Physics     | 81 |\n| 33 | MATH 302 | Mathematics | 99 |\n| 33 | PHY 311  | Physics     | 99 |\n\n",
            "text/latex": "A tibble: 6 × 4\n\\begin{tabular}{llll}\n student\\_id & course\\_id & course\\_name & grade\\\\\n <dbl> & <chr> & <chr> & <dbl>\\\\\n\\hline\n\t 27 & MATH 302 & Mathematics & 74\\\\\n\t 27 & PHY 311  & Physics     & 75\\\\\n\t 28 & MATH 302 & Mathematics & 77\\\\\n\t 28 & PHY 311  & Physics     & 81\\\\\n\t 33 & MATH 302 & Mathematics & 99\\\\\n\t 33 & PHY 311  & Physics     & 99\\\\\n\\end{tabular}\n",
            "text/plain": [
              "  student_id course_id course_name grade\n",
              "1 27         MATH 302  Mathematics 74   \n",
              "2 27         PHY 311   Physics     75   \n",
              "3 28         MATH 302  Mathematics 77   \n",
              "4 28         PHY 311   Physics     81   \n",
              "5 33         MATH 302  Mathematics 99   \n",
              "6 33         PHY 311   Physics     99   "
            ]
          },
          "metadata": {}
        }
      ]
    },
    {
      "cell_type": "markdown",
      "source": [
        "**2. Number of grades and students observation**\n",
        "\n",
        "![image.png](data:image/png;base64,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)"
      ],
      "metadata": {
        "id": "FvuNgbLCLFnz"
      }
    },
    {
      "cell_type": "markdown",
      "source": [
        "**C. Join the dataframes (students and grade) and filter the names (\"Amos Clarke\" and \"Jaime Wood\")**"
      ],
      "metadata": {
        "id": "CDjjPGJKLVgb"
      }
    },
    {
      "cell_type": "code",
      "source": [
        "library(dplyr)\n",
        "\n",
        "# Joining 2 dataframes - joined by `student_id`\n",
        "data_joined <- students %>%\n",
        "  inner_join(grades, by = \"student_id\")\n",
        "\n",
        "# Filter the names: Amos Clarke and Jaime Woods\n",
        "filtered_data <- data_joined %>%\n",
        "  filter(\n",
        "    (first_name == \"Amos\" & last_name == \"Clarke\") |\n",
        "    (first_name == \"Jaime\" & last_name == \"Woods\")\n",
        "  ) %>%\n",
        "  select(first_name, last_name, course_id, course_name, grade)\n",
        "\n",
        "filtered_data\n"
      ],
      "metadata": {
        "colab": {
          "base_uri": "https://localhost:8080/",
          "height": 98
        },
        "id": "V_bEWbTKI5lM",
        "outputId": "e92d5b59-e609-4ebd-bb4a-007d33c1ff7f"
      },
      "execution_count": 74,
      "outputs": [
        {
          "output_type": "display_data",
          "data": {
            "text/html": [
              "<table class=\"dataframe\">\n",
              "<caption>A tibble: 0 × 5</caption>\n",
              "<thead>\n",
              "\t<tr><th scope=col>first_name</th><th scope=col>last_name</th><th scope=col>course_id</th><th scope=col>course_name</th><th scope=col>grade</th></tr>\n",
              "\t<tr><th scope=col>&lt;chr&gt;</th><th scope=col>&lt;chr&gt;</th><th scope=col>&lt;chr&gt;</th><th scope=col>&lt;chr&gt;</th><th scope=col>&lt;dbl&gt;</th></tr>\n",
              "</thead>\n",
              "<tbody>\n",
              "</tbody>\n",
              "</table>\n"
            ],
            "text/markdown": "\nA tibble: 0 × 5\n\n| first_name &lt;chr&gt; | last_name &lt;chr&gt; | course_id &lt;chr&gt; | course_name &lt;chr&gt; | grade &lt;dbl&gt; |\n|---|---|---|---|---|\n\n",
            "text/latex": "A tibble: 0 × 5\n\\begin{tabular}{lllll}\n first\\_name & last\\_name & course\\_id & course\\_name & grade\\\\\n <chr> & <chr> & <chr> & <chr> & <dbl>\\\\\n\\hline\n\\end{tabular}\n",
            "text/plain": [
              "     first_name last_name course_id course_name grade"
            ]
          },
          "metadata": {}
        }
      ]
    },
    {
      "cell_type": "code",
      "source": [
        "# Joining 2 dataframes - joined by `student_id`\n",
        "data_joined <- students %>%\n",
        "  inner_join(grades, by = \"student_id\")\n",
        "\n",
        "head(data_joined)"
      ],
      "metadata": {
        "colab": {
          "base_uri": "https://localhost:8080/",
          "height": 286
        },
        "id": "6Dr-atJBMxkQ",
        "outputId": "cb0c285f-1aa2-42ee-d61f-f05b6a105fc6"
      },
      "execution_count": 75,
      "outputs": [
        {
          "output_type": "display_data",
          "data": {
            "text/html": [
              "<table class=\"dataframe\">\n",
              "<caption>A tibble: 6 × 6</caption>\n",
              "<thead>\n",
              "\t<tr><th scope=col>student_id</th><th scope=col>last_name</th><th scope=col>first_name</th><th scope=col>course_id</th><th scope=col>course_name</th><th scope=col>grade</th></tr>\n",
              "\t<tr><th scope=col>&lt;dbl&gt;</th><th scope=col>&lt;chr&gt;</th><th scope=col>&lt;chr&gt;</th><th scope=col>&lt;chr&gt;</th><th scope=col>&lt;chr&gt;</th><th scope=col>&lt;dbl&gt;</th></tr>\n",
              "</thead>\n",
              "<tbody>\n",
              "\t<tr><td>27</td><td>Marian</td><td>Ryan  </td><td>MATH 302</td><td>Mathematics</td><td>74</td></tr>\n",
              "\t<tr><td>27</td><td>Marian</td><td>Ryan  </td><td>PHY 311 </td><td>Physics    </td><td>75</td></tr>\n",
              "\t<tr><td>28</td><td>Sandra</td><td>Moss  </td><td>MATH 302</td><td>Mathematics</td><td>77</td></tr>\n",
              "\t<tr><td>28</td><td>Sandra</td><td>Moss  </td><td>PHY 311 </td><td>Physics    </td><td>81</td></tr>\n",
              "\t<tr><td>33</td><td>Rodney</td><td>Howell</td><td>MATH 302</td><td>Mathematics</td><td>99</td></tr>\n",
              "\t<tr><td>33</td><td>Rodney</td><td>Howell</td><td>PHY 311 </td><td>Physics    </td><td>99</td></tr>\n",
              "</tbody>\n",
              "</table>\n"
            ],
            "text/markdown": "\nA tibble: 6 × 6\n\n| student_id &lt;dbl&gt; | last_name &lt;chr&gt; | first_name &lt;chr&gt; | course_id &lt;chr&gt; | course_name &lt;chr&gt; | grade &lt;dbl&gt; |\n|---|---|---|---|---|---|\n| 27 | Marian | Ryan   | MATH 302 | Mathematics | 74 |\n| 27 | Marian | Ryan   | PHY 311  | Physics     | 75 |\n| 28 | Sandra | Moss   | MATH 302 | Mathematics | 77 |\n| 28 | Sandra | Moss   | PHY 311  | Physics     | 81 |\n| 33 | Rodney | Howell | MATH 302 | Mathematics | 99 |\n| 33 | Rodney | Howell | PHY 311  | Physics     | 99 |\n\n",
            "text/latex": "A tibble: 6 × 6\n\\begin{tabular}{llllll}\n student\\_id & last\\_name & first\\_name & course\\_id & course\\_name & grade\\\\\n <dbl> & <chr> & <chr> & <chr> & <chr> & <dbl>\\\\\n\\hline\n\t 27 & Marian & Ryan   & MATH 302 & Mathematics & 74\\\\\n\t 27 & Marian & Ryan   & PHY 311  & Physics     & 75\\\\\n\t 28 & Sandra & Moss   & MATH 302 & Mathematics & 77\\\\\n\t 28 & Sandra & Moss   & PHY 311  & Physics     & 81\\\\\n\t 33 & Rodney & Howell & MATH 302 & Mathematics & 99\\\\\n\t 33 & Rodney & Howell & PHY 311  & Physics     & 99\\\\\n\\end{tabular}\n",
            "text/plain": [
              "  student_id last_name first_name course_id course_name grade\n",
              "1 27         Marian    Ryan       MATH 302  Mathematics 74   \n",
              "2 27         Marian    Ryan       PHY 311   Physics     75   \n",
              "3 28         Sandra    Moss       MATH 302  Mathematics 77   \n",
              "4 28         Sandra    Moss       PHY 311   Physics     81   \n",
              "5 33         Rodney    Howell     MATH 302  Mathematics 99   \n",
              "6 33         Rodney    Howell     PHY 311   Physics     99   "
            ]
          },
          "metadata": {}
        }
      ]
    },
    {
      "cell_type": "code",
      "source": [
        "# Filter Amos Clarke and Jaime Woods\n",
        "filtered_data <- data_joined %>%\n",
        "  filter(\n",
        "    if_any(everything(), ~ str_detect(.x, \"Amos\")) |\n",
        "    if_any(everything(), ~ str_detect(.x, \"Clarke\"))|\n",
        "    if_any(everything(), ~ str_detect(.x, \"Jaime\")) |\n",
        "    if_any(everything(), ~ str_detect(.x, \"Woods\"))\n",
        "  ) %>%\n",
        "  select(first_name, last_name, course_id, course_name, grade)\n",
        "filtered_data"
      ],
      "metadata": {
        "colab": {
          "base_uri": "https://localhost:8080/",
          "height": 286
        },
        "id": "6xvLuq6TM5U-",
        "outputId": "73bed069-2b38-4186-9d4a-7d9ead7bdbb4"
      },
      "execution_count": 79,
      "outputs": [
        {
          "output_type": "display_data",
          "data": {
            "text/html": [
              "<table class=\"dataframe\">\n",
              "<caption>A tibble: 6 × 5</caption>\n",
              "<thead>\n",
              "\t<tr><th scope=col>first_name</th><th scope=col>last_name</th><th scope=col>course_id</th><th scope=col>course_name</th><th scope=col>grade</th></tr>\n",
              "\t<tr><th scope=col>&lt;chr&gt;</th><th scope=col>&lt;chr&gt;</th><th scope=col>&lt;chr&gt;</th><th scope=col>&lt;chr&gt;</th><th scope=col>&lt;dbl&gt;</th></tr>\n",
              "</thead>\n",
              "<tbody>\n",
              "\t<tr><td>Clarke</td><td>Amos </td><td>MATH 302</td><td>Mathematics</td><td>66</td></tr>\n",
              "\t<tr><td>Clarke</td><td>Amos </td><td>PHY 311 </td><td>Physics    </td><td>66</td></tr>\n",
              "\t<tr><td>Clarke</td><td>Amos </td><td>PHY 311 </td><td>Physics    </td><td>80</td></tr>\n",
              "\t<tr><td>Clarke</td><td>Amos </td><td>MATH 302</td><td>Mathematics</td><td>81</td></tr>\n",
              "\t<tr><td>Woods </td><td>Jaime</td><td>MATH 302</td><td>Mathematics</td><td>78</td></tr>\n",
              "\t<tr><td>Woods </td><td>Jaime</td><td>PHY 311 </td><td>Physics    </td><td>83</td></tr>\n",
              "</tbody>\n",
              "</table>\n"
            ],
            "text/markdown": "\nA tibble: 6 × 5\n\n| first_name &lt;chr&gt; | last_name &lt;chr&gt; | course_id &lt;chr&gt; | course_name &lt;chr&gt; | grade &lt;dbl&gt; |\n|---|---|---|---|---|\n| Clarke | Amos  | MATH 302 | Mathematics | 66 |\n| Clarke | Amos  | PHY 311  | Physics     | 66 |\n| Clarke | Amos  | PHY 311  | Physics     | 80 |\n| Clarke | Amos  | MATH 302 | Mathematics | 81 |\n| Woods  | Jaime | MATH 302 | Mathematics | 78 |\n| Woods  | Jaime | PHY 311  | Physics     | 83 |\n\n",
            "text/latex": "A tibble: 6 × 5\n\\begin{tabular}{lllll}\n first\\_name & last\\_name & course\\_id & course\\_name & grade\\\\\n <chr> & <chr> & <chr> & <chr> & <dbl>\\\\\n\\hline\n\t Clarke & Amos  & MATH 302 & Mathematics & 66\\\\\n\t Clarke & Amos  & PHY 311  & Physics     & 66\\\\\n\t Clarke & Amos  & PHY 311  & Physics     & 80\\\\\n\t Clarke & Amos  & MATH 302 & Mathematics & 81\\\\\n\t Woods  & Jaime & MATH 302 & Mathematics & 78\\\\\n\t Woods  & Jaime & PHY 311  & Physics     & 83\\\\\n\\end{tabular}\n",
            "text/plain": [
              "  first_name last_name course_id course_name grade\n",
              "1 Clarke     Amos      MATH 302  Mathematics 66   \n",
              "2 Clarke     Amos      PHY 311   Physics     66   \n",
              "3 Clarke     Amos      PHY 311   Physics     80   \n",
              "4 Clarke     Amos      MATH 302  Mathematics 81   \n",
              "5 Woods      Jaime     MATH 302  Mathematics 78   \n",
              "6 Woods      Jaime     PHY 311   Physics     83   "
            ]
          },
          "metadata": {}
        }
      ]
    },
    {
      "cell_type": "markdown",
      "source": [
        "**D. Combine first_name and last_name, then select fullName, course_name, grade in this order**"
      ],
      "metadata": {
        "id": "o6Kvv6JMOdBS"
      }
    },
    {
      "cell_type": "code",
      "source": [
        "# Combine columns\n",
        "\n",
        "final_data <- filtered_data %>%\n",
        "  unite(fullName, first_name, last_name, sep = \" \") %>%\n",
        "  select(fullName, course_name, grade)\n",
        "\n",
        "final_data\n"
      ],
      "metadata": {
        "colab": {
          "base_uri": "https://localhost:8080/",
          "height": 286
        },
        "id": "rAb8iqjSOqqV",
        "outputId": "3eb90bfb-8fcd-4eb9-fc6b-93efe8c99f1a"
      },
      "execution_count": 80,
      "outputs": [
        {
          "output_type": "display_data",
          "data": {
            "text/html": [
              "<table class=\"dataframe\">\n",
              "<caption>A tibble: 6 × 3</caption>\n",
              "<thead>\n",
              "\t<tr><th scope=col>fullName</th><th scope=col>course_name</th><th scope=col>grade</th></tr>\n",
              "\t<tr><th scope=col>&lt;chr&gt;</th><th scope=col>&lt;chr&gt;</th><th scope=col>&lt;dbl&gt;</th></tr>\n",
              "</thead>\n",
              "<tbody>\n",
              "\t<tr><td>Clarke Amos</td><td>Mathematics</td><td>66</td></tr>\n",
              "\t<tr><td>Clarke Amos</td><td>Physics    </td><td>66</td></tr>\n",
              "\t<tr><td>Clarke Amos</td><td>Physics    </td><td>80</td></tr>\n",
              "\t<tr><td>Clarke Amos</td><td>Mathematics</td><td>81</td></tr>\n",
              "\t<tr><td>Woods Jaime</td><td>Mathematics</td><td>78</td></tr>\n",
              "\t<tr><td>Woods Jaime</td><td>Physics    </td><td>83</td></tr>\n",
              "</tbody>\n",
              "</table>\n"
            ],
            "text/markdown": "\nA tibble: 6 × 3\n\n| fullName &lt;chr&gt; | course_name &lt;chr&gt; | grade &lt;dbl&gt; |\n|---|---|---|\n| Clarke Amos | Mathematics | 66 |\n| Clarke Amos | Physics     | 66 |\n| Clarke Amos | Physics     | 80 |\n| Clarke Amos | Mathematics | 81 |\n| Woods Jaime | Mathematics | 78 |\n| Woods Jaime | Physics     | 83 |\n\n",
            "text/latex": "A tibble: 6 × 3\n\\begin{tabular}{lll}\n fullName & course\\_name & grade\\\\\n <chr> & <chr> & <dbl>\\\\\n\\hline\n\t Clarke Amos & Mathematics & 66\\\\\n\t Clarke Amos & Physics     & 66\\\\\n\t Clarke Amos & Physics     & 80\\\\\n\t Clarke Amos & Mathematics & 81\\\\\n\t Woods Jaime & Mathematics & 78\\\\\n\t Woods Jaime & Physics     & 83\\\\\n\\end{tabular}\n",
            "text/plain": [
              "  fullName    course_name grade\n",
              "1 Clarke Amos Mathematics 66   \n",
              "2 Clarke Amos Physics     66   \n",
              "3 Clarke Amos Physics     80   \n",
              "4 Clarke Amos Mathematics 81   \n",
              "5 Woods Jaime Mathematics 78   \n",
              "6 Woods Jaime Physics     83   "
            ]
          },
          "metadata": {}
        }
      ]
    }
  ]
}